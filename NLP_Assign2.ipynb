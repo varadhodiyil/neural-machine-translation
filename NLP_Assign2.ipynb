{
  "nbformat": 4,
  "nbformat_minor": 0,
  "metadata": {
    "colab": {
      "name": "NLP Assign2.ipynb",
      "provenance": [],
      "collapsed_sections": [],
      "toc_visible": true,
      "machine_shape": "hm",
      "include_colab_link": true
    },
    "kernelspec": {
      "name": "python3",
      "display_name": "Python 3"
    },
    "accelerator": "GPU"
  },
  "cells": [
    {
      "cell_type": "markdown",
      "metadata": {
        "id": "view-in-github",
        "colab_type": "text"
      },
      "source": [
        "<a href=\"https://colab.research.google.com/github/varadhodiyil/neural-machine-translation/blob/master/NLP_Assign2.ipynb\" target=\"_parent\"><img src=\"https://colab.research.google.com/assets/colab-badge.svg\" alt=\"Open In Colab\"/></a>"
      ]
    },
    {
      "cell_type": "markdown",
      "metadata": {
        "id": "BYQt0nUEbAgN",
        "colab_type": "text"
      },
      "source": [
        "# Neural Machine Translation - Assignment 2\n",
        "\n",
        "In this task, you will develop a neural machine translation (NMT) system to translate text from one language into another. For this, you will need to choose the data to train the models, perform data processing and train a sequence2sequence neural model.\n"
      ]
    },
    {
      "cell_type": "markdown",
      "metadata": {
        "id": "d33hukl0w-Nh",
        "colab_type": "text"
      },
      "source": [
        "## Section 1- Data Collection and Preprocessing \n",
        "\n",
        "\n",
        "---\n"
      ]
    },
    {
      "cell_type": "markdown",
      "metadata": {
        "id": "uAFJXKQaeN-d",
        "colab_type": "text"
      },
      "source": [
        "**Task 1  (5 marks)**\n",
        "\n",
        "---\n",
        "\n",
        "There are few datasets to train an NMT system available from Tatoeba Project (http://www.manythings.org/anki/) or OPUS project (http://opus.nlpl.eu/).\n",
        "\n",
        "*  Download a language pair (preferably European language) and **extract** the file(s) and upload it to CoLab\n",
        "*  Create a list of lines by splitting the text file at every occurrence accordingly, i.e. source and target language and remove copyright information\n",
        "*  Print number of sentences\n",
        "*  Limit the number of sentences to 10,000 lines (but more than 5,000 lines)\n",
        "*  Split the data into train and test [You can split validation set here or while training use Keras validation_split option]\n",
        "*  Print 100th sentence in original script[ not unicode] for source and target language"
      ]
    },
    {
      "cell_type": "code",
      "metadata": {
        "id": "bGM2OZxytFym",
        "colab_type": "code",
        "outputId": "893fcd6a-885e-4592-b0ec-51b440d8cebe",
        "colab": {
          "base_uri": "https://localhost:8080/",
          "height": 35
        }
      },
      "source": [
        "from google.colab import drive\n",
        "drive.mount('/content/drive')"
      ],
      "execution_count": 0,
      "outputs": [
        {
          "output_type": "stream",
          "text": [
            "Drive already mounted at /content/drive; to attempt to forcibly remount, call drive.mount(\"/content/drive\", force_remount=True).\n"
          ],
          "name": "stdout"
        }
      ]
    },
    {
      "cell_type": "code",
      "metadata": {
        "id": "7x8NgTGttN_L",
        "colab_type": "code",
        "outputId": "f97a55b8-29e1-42cb-8da9-418774b55410",
        "colab": {
          "base_uri": "https://localhost:8080/",
          "height": 35
        }
      },
      "source": [
        "%cd /content/drive/My\\ Drive/NLP/"
      ],
      "execution_count": 0,
      "outputs": [
        {
          "output_type": "stream",
          "text": [
            "/content/drive/My Drive/NLP\n"
          ],
          "name": "stdout"
        }
      ]
    },
    {
      "cell_type": "code",
      "metadata": {
        "id": "g5IpcJyJlG6n",
        "colab_type": "code",
        "colab": {}
      },
      "source": [
        "#Using Spanish- English\n",
        "\n",
        "# !wget http://www.manythings.org/anki/spa-eng.zip"
      ],
      "execution_count": 0,
      "outputs": []
    },
    {
      "cell_type": "code",
      "metadata": {
        "id": "dRz2HsLRtB2u",
        "colab_type": "code",
        "colab": {}
      },
      "source": [
        "import os, sys , re , unicodedata\n",
        "import numpy as np\n",
        "import matplotlib.pyplot as plt\n",
        "import tensorflow as tf"
      ],
      "execution_count": 0,
      "outputs": []
    },
    {
      "cell_type": "code",
      "metadata": {
        "id": "OIXkZVo8w44g",
        "colab_type": "code",
        "colab": {}
      },
      "source": [
        "NUM_SENTENCES = 10000\n",
        "NUM_WORDS = 10000"
      ],
      "execution_count": 0,
      "outputs": []
    },
    {
      "cell_type": "markdown",
      "metadata": {
        "id": "R7km4d7eqk4x",
        "colab_type": "text"
      },
      "source": [
        ""
      ]
    },
    {
      "cell_type": "code",
      "metadata": {
        "id": "JbbDZXN1UwQ6",
        "colab_type": "code",
        "colab": {}
      },
      "source": [
        "lines = open('spa.txt', encoding=\"utf-8\").readlines()"
      ],
      "execution_count": 0,
      "outputs": []
    },
    {
      "cell_type": "code",
      "metadata": {
        "id": "9U9BaH3ozUGf",
        "colab_type": "code",
        "colab": {}
      },
      "source": [
        "source_sentences = []\n",
        "target_sentences = []\n",
        "output_sentences_inputs = []\n",
        "\n",
        "# print(len(lines))\n",
        "count = 0\n",
        "for line in lines:\n",
        "\n",
        "    if count > NUM_SENTENCES-1:\n",
        "        break\n",
        "\n",
        "    if '\\t' not in line:\n",
        "        continue\n",
        "\n",
        "    input_sentence, output , _ = line.rstrip().split('\\t')\n",
        "    if input_sentence in source_sentences:\n",
        "        continue\n",
        "    output_sentence = output + ' <eos>'\n",
        "    output_sentence_input = '<bof> ' + output\n",
        "\n",
        "    source_sentences.append(input_sentence)\n",
        "    target_sentences.append(output_sentence)\n",
        "    output_sentences_inputs.append(output_sentence_input)\n",
        "    count += 1\n"
      ],
      "execution_count": 0,
      "outputs": []
    },
    {
      "cell_type": "code",
      "metadata": {
        "id": "7NkJaeq8zg5H",
        "colab_type": "code",
        "outputId": "5cbcc031-69f8-4b5a-ea9b-2c640be5b7ef",
        "colab": {
          "base_uri": "https://localhost:8080/",
          "height": 54
        }
      },
      "source": [
        "print(len(source_sentences))\n",
        "print(source_sentences[100] , target_sentences[100])"
      ],
      "execution_count": 0,
      "outputs": [
        {
          "output_type": "stream",
          "text": [
            "10000\n",
            "I'm old. Soy viejo. <eos>\n"
          ],
          "name": "stdout"
        }
      ]
    },
    {
      "cell_type": "markdown",
      "metadata": {
        "id": "x63IEWjUxkJj",
        "colab_type": "text"
      },
      "source": [
        "**Task 2 (5 marks)** \n",
        "\n",
        "---\n",
        "\n",
        "* Add '<bof\\>' to denote beginning of sentence and '<eos\\>' to denote the end of the sentence to each target line.\n",
        "* Preprocess (word tokenisation, lowercasing) the text."
      ]
    },
    {
      "cell_type": "code",
      "metadata": {
        "id": "pmNr8gnzfCeS",
        "colab_type": "code",
        "colab": {}
      },
      "source": [
        "def unicode_to_ascii(s):\n",
        "  s =  ''.join(c for c in unicodedata.normalize('NFD', s)\n",
        "      if unicodedata.category(c) != 'Mn')\n",
        "  s = re.sub(r\"[^a-zA-Z?¿<>']+\", \" \", s)\n",
        "  s = re.sub(r\"'\",'',s)\n",
        "  s = s.lower()\n",
        "  return s\n",
        "\n",
        "def preprocess(w):\n",
        "    w = unicode_to_ascii(w)\n",
        "    w = w.strip().rstrip()\n",
        "    w = re.sub(r\"([?.!,])\", r\"\", w)\n",
        "    w = re.sub(r'[\" \"]+', \" \", w)\n",
        "    return w"
      ],
      "execution_count": 0,
      "outputs": []
    },
    {
      "cell_type": "code",
      "metadata": {
        "id": "q9UF5RMhvdUO",
        "colab_type": "code",
        "colab": {}
      },
      "source": [
        "source_sentences = [preprocess(w) for w in source_sentences]\n",
        "target_sentences = [preprocess(w) for w in target_sentences]\n",
        "output_sentences_inputs =[preprocess(w) for w in output_sentences_inputs]"
      ],
      "execution_count": 0,
      "outputs": []
    },
    {
      "cell_type": "code",
      "metadata": {
        "id": "fwYxrs6wwIA2",
        "colab_type": "code",
        "outputId": "950b76fd-6539-4c3f-d2d9-f1cb4616878f",
        "colab": {
          "base_uri": "https://localhost:8080/",
          "height": 35
        }
      },
      "source": [
        "print(source_sentences[0], target_sentences[0])"
      ],
      "execution_count": 0,
      "outputs": [
        {
          "output_type": "stream",
          "text": [
            "go ve <eos>\n"
          ],
          "name": "stdout"
        }
      ]
    },
    {
      "cell_type": "code",
      "metadata": {
        "id": "l3MYXdFOALc4",
        "colab_type": "code",
        "colab": {}
      },
      "source": [
        "# input_sentences[100:200]"
      ],
      "execution_count": 0,
      "outputs": []
    },
    {
      "cell_type": "code",
      "metadata": {
        "id": "1q6ZH7n0yq7u",
        "colab_type": "code",
        "outputId": "068c37f1-a549-42f3-9595-79a9ebd7f57f",
        "colab": {
          "base_uri": "https://localhost:8080/",
          "height": 35
        }
      },
      "source": [
        "print(preprocess(\"¿Qué? isn't él\"))"
      ],
      "execution_count": 0,
      "outputs": [
        {
          "output_type": "stream",
          "text": [
            "¿que isnt el\n"
          ],
          "name": "stdout"
        }
      ]
    },
    {
      "cell_type": "code",
      "metadata": {
        "id": "uL_RYM5BwrKb",
        "colab_type": "code",
        "colab": {}
      },
      "source": [
        "input_tokenizer = tf.keras.preprocessing.text.Tokenizer(num_words=NUM_WORDS)\n",
        "input_tokenizer.fit_on_texts(source_sentences)\n",
        "input_integer_seq = input_tokenizer.texts_to_sequences(source_sentences)\n",
        "\n",
        "Source_vocabulary = input_tokenizer.word_index\n",
        "num_source_tokens = len(Source_vocabulary)\n",
        "\n",
        "max_source_seq_length = max(len(sen) for sen in input_integer_seq)"
      ],
      "execution_count": 0,
      "outputs": []
    },
    {
      "cell_type": "code",
      "metadata": {
        "id": "pgpen9VxxWNk",
        "colab_type": "code",
        "colab": {}
      },
      "source": [
        "output_tokenizer = tf.keras.preprocessing.text.Tokenizer(num_words=NUM_WORDS, filters='')\n",
        "output_tokenizer.fit_on_texts(target_sentences + output_sentences_inputs)\n",
        "output_integer_seq = output_tokenizer.texts_to_sequences(target_sentences)\n",
        "output_input_integer_seq = output_tokenizer.texts_to_sequences(output_sentences_inputs)\n",
        "\n",
        "target_vocabulary = output_tokenizer.word_index\n",
        "num_target_tokens = len(target_vocabulary)\n",
        "\n",
        "num_words_output = len(target_vocabulary) + 1\n",
        "max_target_seq_length = max(len(sen) for sen in output_integer_seq)"
      ],
      "execution_count": 0,
      "outputs": []
    },
    {
      "cell_type": "code",
      "metadata": {
        "id": "mZtOt2Ph2yMN",
        "colab_type": "code",
        "colab": {}
      },
      "source": [
        "encoder_input_sequences = tf.keras.preprocessing.sequence.pad_sequences(input_integer_seq, maxlen=max_source_seq_length)\n",
        "decoder_input_sequences = tf.keras.preprocessing.sequence.pad_sequences(output_input_integer_seq, maxlen=max_target_seq_length, padding='post')\n",
        "decoder_output_sequences = tf.keras.preprocessing.sequence.pad_sequences(output_integer_seq, maxlen=max_target_seq_length, padding='post')"
      ],
      "execution_count": 0,
      "outputs": []
    },
    {
      "cell_type": "code",
      "metadata": {
        "id": "x4-mCmoMxAd0",
        "colab_type": "code",
        "outputId": "c135180b-03ac-4bd5-bbfb-a980618315a2",
        "colab": {
          "base_uri": "https://localhost:8080/",
          "height": 166
        }
      },
      "source": [
        "print('Number of samples:', len(source_sentences))\n",
        "print('Number of unique source language tokens:', num_source_tokens)\n",
        "print('Number of unique target language tokens:', num_target_tokens)\n",
        "print('Max sequence length of source language:', max_source_seq_length)\n",
        "print('Max sequence length of target language:', max_target_seq_length)\n",
        "print(\"Source Vocabulary\",list(Source_vocabulary.keys()))\n",
        "print(\"Target Vocabulary\",list(target_vocabulary.keys()))"
      ],
      "execution_count": 0,
      "outputs": [
        {
          "output_type": "stream",
          "text": [
            "Number of samples: 10000\n",
            "Number of unique source language tokens: 2927\n",
            "Number of unique target language tokens: 4722\n",
            "Max sequence length of source language: 5\n",
            "Max sequence length of target language: 10\n",
            "Source Vocabulary ['i', 'tom', 'is', 'you', 'a', 'it', 'he', 'im', 'me', 'the', 'this', 'its', 'we', 'my', 'was', 'do', 'to', 'are', 'that', 'go', 'can', 'dont', 'she', 'they', 'not', 'like', 'were', 'have', 'here', 'in', 'be', 'on', 'youre', 'him', 'your', 'up', 'did', 'thats', 'come', 'what', 'ill', 'need', 'know', 'mary', 'love', 'want', 'hes', 'now', 'no', 'who', 'am', 'toms', 'lets', 'cant', 'get', 'help', 'see', 'got', 'well', 'let', 'please', 'stop', 'out', 'has', 'look', 'at', 'theyre', 'how', 'all', 'us', 'very', 'home', 'too', 'her', 'one', 'there', 'so', 'will', 'good', 'hate', 'just', 'give', 'an', 'for', 'saw', 'car', 'dog', 'try', 'isnt', 'must', 'feel', 'work', 'back', 'his', 'happy', 'eat', 'why', 'may', 'likes', 'keep', 'take', 'leave', 'wait', 'didnt', 'stay', 'with', 'them', 'had', 'lost', 'ask', 'call', 'down', 'whats', 'made', 'hurt', 'time', 'say', 'right', 'old', 'book', 'came', 'again', 'looks', 'job', 'pay', 'ive', 'tired', 'read', 'alone', 'bad', 'money', 'wheres', 'wont', 'busy', 'sick', 'ready', 'man', 'still', 'lot', 'never', 'went', 'new', 'died', 'talk', 'big', 'close', 'nice', 'ok', 'some', 'watch', 'drunk', 'felt', 'nobody', 'more', 'make', 'wasnt', 'whos', 'fast', 'mine', 'wrong', 'where', 'ate', 'going', 'cold', 'shes', 'does', 'loves', 'left', 'tell', 'late', 'sit', 'die', 'run', 'angry', 'weve', 'hungry', 'these', 'today', 'everyone', 'won', 'open', 'fun', 'done', 'over', 'live', 'of', 'swim', 'play', 'boy', 'should', 'nothing', 'our', 'away', 'hold', 'fine', 'speak', 'cry', 'walk', 'life', 'find', 'sad', 'said', 'turn', 'sleep', 'and', 'easy', 'shot', 'hot', 'dead', 'called', 'cat', 'key', 'boston', 'off', 'sing', 'true', 'hear', 'looked', 'seems', 'about', 'way', 'hurry', 'trust', 'win', 'miss', 'awake', 'id', 'drink', 'two', 'fat', 'mean', 'rich', 'hurts', 'broke', 'yours', 'mad', 'bring', 'better', 'coming', 'young', 'fish', 'room', 'ran', 'hit', 'by', 'free', 'hard', 'gave', 'tv', 'knows', 'bit', 'helped', 'married', 'crying', 'could', 'needs', 'wants', 'lied', 'quit', 'show', 'drive', 'put', 'bed', 'move', 'early', 'tall', 'found', 'great', 'bus', 'day', 'rest', 'hat', 'son', 'yourself', 'french', 'only', 'name', 'listen', 'shy', 'lie', 'stand', 'knew', 'answer', 'loved', 'wine', 'remember', 'buy', 'working', 'theres', 'theyll', 'almost', 'when', 'house', 'friend', 'from', 'fell', 'wake', 'real', 'write', 'hope', 'crazy', 'first', 'lying', 'think', 'told', 'needed', 'lucky', 'doctor', 'dream', 'enjoy', 'arent', 'sat', 'safe', 'works', 'cook', 'start', 'food', 'boring', 'stupid', 'heard', 'reading', 'hand', 'idea', 'coffee', 'wife', 'everybody', 'father', 'care', 'really', 'smiled', 'red', 'soon', 'follow', 'blind', 'check', 'tea', 'yes', 'study', 'gone', 'cats', 'both', 'bored', 'naive', 'enough', 'things', 'met', 'those', 'bag', 'doesnt', 'began', 'sang', 'cool', 'fair', 'perfect', 'quiet', 'full', 'kiss', 'dogs', 'forget', 'men', 'eating', 'later', 'smoke', 'beer', 'change', 'trapped', 'monday', 'funny', 'school', 'understand', 'best', 'singing', 'short', 'joking', 'lunch', 'already', 'been', 'fire', 'kind', 'tried', 'long', 'weak', 'helps', 'inside', 'hows', 'laughed', 'patient', 'cut', 'liked', 'sleepy', 'youll', 'anybody', 'dumb', 'milk', 'clean', 'joke', 'dance', 'arrived', 'sure', 'myself', 'hates', 'lawyer', 'door', 'deal', 'kept', 'girl', 'hair', 'hang', 'agree', 'shut', 'fix', 'weird', 'sorry', 'step', 'serious', 'slowly', 'ice', 'last', 'hero', 'liar', 'normal', 'youve', 'closer', 'count', 'strong', 'bought', 'hide', 'woman', 'nervous', 'rain', 'cheated', 'pen', 'rules', 'itll', 'talking', 'pretty', 'boss', 'always', 'own', 'took', 'fault', 'touch', 'keys', 'betrayed', 'thanks', 'beat', 'fired', 'wash', 'brave', 'grab', 'cute', 'forgot', 'use', 'bald', 'poor', 'birds', 'fly', 'dying', 'dark', 'cried', 'tomll', 'along', 'god', 'head', 'meat', 'trying', 'kidding', 'smell', 'luck', 'fight', 'meet', 'snow', 'baffled', 'blue', 'quickly', 'books', 'water', 'afraid', 'lonely', 'confused', 'seen', 'someone', 'sweet', 'something', 'asleep', 'plan', 'people', 'horses', 'mom', 'teacher', 'dry', 'everything', 'fishing', 'much', 'word', 'phone', 'eyes', 'canadian', 'doing', 'yet', 'wet', 'stayed', 'talked', 'worked', 'thank', 'stood', 'idiot', 'around', 'careful', 'face', 'cruel', 'hey', 'wrote', 'moving', 'single', 'alive', 'walked', 'begin', 'as', 'seat', 'asked', 'often', 'waiting', 'broken', 'secret', 'talks', 'send', 'shall', 'changed', 'once', 'heres', 'gun', 'sleeping', 'studying', 'running', 'smoking', 'small', 'dreaming', 'tomorrow', 'kill', 'caught', 'japanese', 'became', 'guilty', 'trusted', 'budge', 'listening', 'might', 'duty', 'friends', 'which', 'lives', 'correct', 'tie', 'game', 'ones', 'hi', 'smile', 'hug', 'calm', 'slow', 'moved', 'join', 'guys', 'failed', 'phoned', 'waited', 'next', 'paid', 'warn', 'catch', 'smart', 'hiding', 'skinny', 'town', 'thatll', 'missed', 'hated', 'strange', 'news', 'naked', 'dancing', 'excited', 'doll', 'simple', 'twins', 'bear', 'outside', 'jealous', 'mind', 'drank', 'music', 'women', 'misled', 'sue', 'ears', 'divorced', 'thrilled', 'break', 'useless', 'point', 'pale', 'together', 'sells', 'beautiful', 'kid', 'dinner', 'owe', 'rescued', 'student', 'danger', 'famous', 'horse', 'somebody', 'law', 'map', 'turned', 'six', 'winning', 'seem', 'towel', 'laughing', 'rather', 'guy', 'continue', 'family', 'shoes', 'seemed', 'watching', 'killed', 'into', 'hands', 'himself', 'jump', 'hello', 'oh', 'relax', 'shoot', 'slept', 'ahead', 'deep', 'refuse', 'lazy', 'okay', 'save', 'hers', 'ours', 'walks', 'sign', 'drove', 'anyone', 'yell', 'envy', 'promised', 'screamed', 'survived', 'white', 'problem', 'cheese', 'cheat', 'ugly', 'finish', 'curious', 'share', 'hired', 'cars', 'gas', 'cooking', 'healthy', 'unlucky', 'saved', 'song', 'wish', 'woke', 'hugged', 'kissed', 'cheered', 'escaped', 'evil', 'eggs', 'team', 'age', 'anything', 'doubts', 'cab', 'finished', 'innocent', 'restless', 'trap', 'black', 'amusing', 'looking', 'writing', 'arm', 'leg', 'ignored', 'english', 'type', 'believe', 'deserved', 'thirsty', 'dad', 'prefer', 'prove', 'easygoing', 'important', 'charge', 'satisfied', 'worse', 'minute', 'boat', 'cheap', 'cup', 'second', 'robbed', 'insane', 'breathe', 'cows', 'genius', 'apple', 'sisters', 'raise', 'glasses', 'if', 'wonderful', 'brother', 'sore', 'truth', 'wore', 'brothers', 'side', 'would', 'trouble', 'end', 'born', 'dangerous', 'sky', 'mouth', 'speaks', 'person', 'war', 'drop', 'goodbye', 'bowed', 'push', 'jumped', 'warm', 'odd', 'lies', 'after', 'fantastic', 'ski', 'ignore', 'far', 'tight', 'then', 'voted', 'wholl', 'quick', 'doubt', 'guess', 'resigned', 'scared', 'eaten', 'empty', 'green', 'magic', 'night', 'vote', 'deaf', 'tough', 'fail', 'prepared', 'thorough', 'shout', 'worry', 'bread', 'rice', 'golf', 'kids', 'sell', 'psyched', 'worried', 'happened', 'rule', 'thief', 'huge', 'refused', 'upset', 'pain', 'whose', 'nuts', 'egg', 'lose', 'half', 'kicked', 'framed', 'beans', 'sushi', 'bet', 'writer', 'adult', 'angel', 'pregnant', 'shopping', 'worn', 'deer', 'fake', 'gross', 'snowing', 'feet', 'box', 'cake', 'canceled', 'losing', 'rude', 'rush', 'bird', 'fill', 'pinched', 'smells', 'adorable', 'comes', 'nose', 'explain', 'badly', 'soccer', 'tennis', 'spring', 'supper', 'bath', 'week', 'advice', 'respect', 'light', 'forgetful', 'diet', 'business', 'unfair', 'foot', 'line', 'babbling', 'copy', 'happen', 'adores', 'helping', 'special', 'staying', 'sound', 'baby', 'racist', 'year', 'also', 'sons', 'arrested', 'parties', 'truck', 'chicken', 'teach', 'sweating', 'wide', 'their', 'heavy', 'learn', 'desk', 'bill', 'missing', 'wed', 'hopeless', 'bite', 'carefully', 'honest', 'writes', 'lit', 'choice', 'pencil', 'letter', 'wanted', 'bank', 'city', 'noise', 'maybe', 'tonight', 'yourselves', 'place', 'paper', 'wept', 'fit', 'welcome', 'brief', 'spoke', 'agreed', 'thin', 'runs', 'swam', 'awful', 'fainted', 'burned', 'stinks', 'aboard', 'carry', 'choose', 'forgive', 'hung', 'human', 'faster', 'happens', 'cd', 'sharp', 'thisll', 'danced', 'drives', 'obeyed', 'yelled', 'cds', 'even', 'punctual', 'laugh', 'jerk', 'apologize', 'blame', 'fruit', 'math', 'soup', 'cash', 'overslept', 'dizzy', 'loser', 'leaving', 'sloshed', 'harp', 'mess', 'party', 'many', 'return', 'fox', 'decided', 'drowned', 'relaxed', 'shouted', 'act', 'ship', 'invited', 'attentive', 'realistic', 'fear', 'or', 'exist', 'another', 'dieting', 'annoying', 'romantic', 'apples', 'faint', 'chess', 'honey', 'games', 'lion', 'warned', 'ex', 'actor', 'doubtful', 'drowning', 'gullible', 'amazing', 'walking', 'lifes', 'closely', 'quietly', 'pull', 'shame', 'control', 'stopped', 'boys', 'theyve', 'answered', 'harsh', 'silly', 'applauded', 'closed', 'waste', 'sent', 'mistaken', 'skate', 'dishes', 'deny', 'few', 'sec', 'admired', 'american', 'caused', 'contributed', 'despise', 'winter', 'ring', 'sports', 'nearly', 'mouse', 'sold', 'furious', 'watched', 'exhausted', 'painful', 'gets', 'takes', 'exciting', 'treat', 'lock', 'clearly', 'fighting', 'stuff', 'breath', 'creepy', 'girls', 'rose', 'japan', 'stingy', 'remembers', 'trusts', 'adopted', 'injured', 'moment', 'meant', 'cousins', 'nonsense', 'ball', 'dinners', 'complain', 'golfer', 'uncle', 'scolded', 'slapped', 'animal', 'borrow', 'brought', 'stroke', 'spiders', 'cookies', 'travel', 'five', 'handle', 'behind', 'feeling', 'likely', 'sounds', 'christmas', 'mistake', 'risky', 'tag', 'cooks', 'misses', 'sugar', 'summer', 'helpful', 'blew', 'ticket', 'says', 'stranded', 'swimming', 'causes', 'paris', 'painted', 'speaking', 'fool', 'trip', 'everyones', 'mother', 'gloomy', 'tokyo', 'couldnt', 'terrible', 'homework', 'played', 'bell', 'every', 'shook', 'totally', 'able', 'getting', 'quite', 'sister', 'radio', 'matter', 'pass', 'repeat', 'mail', 'disappeared', 'singer', 'cards', 'someones', 'table', 'pathetic', 'air', 'gray', 'russian', 'hotel', 'enemy', 'guest', 'conscious', 'cousin', 'any', 'students', 'ever', 'bicycle', 'legs', 'keeps', 'debt', 'france', 'grown', 'park', 'little', 'brown', 'storm', 'traitor', 'everythings', 'attack', 'awesome', 'cheer', 'tries', 'humor', 'resign', 'sighed', 'tidy', 'wise', 'aim', 'bless', 'shaved', 'dj', 'exhaled', 'kneeled', 'tripped', 'snowed', 'loosen', 'course', 'above', 'seize', 'cares', 'dozed', 'facts', 'burns', 'admit', 'chuckled', 'art', 'twin', 'buying', 'clumsy', 'greedy', 'windy', 'jesus', 'notes', 'lift', 'alert', 'aside', 'flies', 'agrees', 'cheats', 'drinks', 'fought', 'prayed', 'glad', 'decide', 'creative', 'discreet', 'tolerant', 'contact', 'dressed', 'straight', 'grew', 'guts', 'nasty', 'dozing', 'jazz', 'rock', 'taxes', 'lips', 'ufo', 'engaged', 'finicky', 'jail', 'jittery', 'selfish', 'through', 'memorize', 'card', 'blushed', 'crashed', 'giggled', 'listens', 'teaches', 'bore', 'pity', 'confident', 'objective', 'boil', 'anytime', 'forward', 'snore', 'scream', 'safely', 'upstairs', 'morning', 'snack', 'avoids', 'arrogant', 'horrible', 'admire', 'chinese', 'praying', 'apologized', 'lip', 'opera', 'candy', 'pizza', 'trips', 'paint', 'star', 'wonder', 'risk', 'priest', 'anorexic', 'autistic', 'barefoot', 'famished', 'freezing', 'grateful', 'hesitant', 'rebel', 'outraged', 'relieved', 'stubborn', 'thinking', 'solid', 'iron', 'burn', 'curse', 'trick', 'digging', 'smiling', 'goes', 'lawn', 'jaw', 'ended', 'sued', 'louder', 'softly', 'focused', 'arguing', 'whining', 'yelling', 'dreams', 'command', 'bores', 'cop', 'loyal', 'picky', 'witty', 'listened', 'panicked', 'vanished', 'stoned', 'strict', 'shock', 'built', 'pays', 'ink', 'years', 'passed', 'scare', 'pig', 'cops', 'beware', 'draw', 'wins', 'dug', 'hole', 'sexist', 'demented', 'accept', 'coughing', 'sneezing', 'part', 'steal', 'bmw', 'exaggerated', 'fed', 'freaked', 'bomb', 'cancer', 'camels', 'skiing', 'trains', 'tulips', 'hiking', 'nature', 'crown', 'queen', 'volunteered', 'unarmed', 'allow', 'witness', 'addict', 'artist', 'orphan', 'desperate', 'impartial', 'impatient', 'impressed', 'intrigued', 'motivated', 'uninsured', 'improved', 'returned', 'private', 'raining', 'wig', 'legal', 'gag', 'apart', 'gift', 'hoax', 'ironic', 'saturday', 'weapon', 'loud', 'worth', 'gate', 'offer', 'aches', 'neck', 'peace', 'russia', 'gentle', 'model', 'beside', 'shouting', 'suit', 'sweep', 'number', 'tastes', 'absurd', 'clever', 'freaky', 'theirs', 'cow', 'absent', 'fierce', 'winded', 'scares', 'dirty', 'obey', 'violent', 'snoring', 'floor', 'survive', 'lawyers', 'sinking', 'relief', 'thinks', 'calling', 'coke', 'aint', 'lay', 'deeply', 'grass', 'hasty', 'knife', 'form', 'hint', 'accelerated', 'flew', 'kite', 'plays', 'surrendered', 'abroad', 'depressed', 'deserve', 'dislike', 'honored', 'homesick', 'cough', 'hunch', 'ranch', 'mahjong', 'picnics', 'harm', 'favor', 'plead', 'punished', 'usually', 'popcorn', 'abducted', 'bleeding', 'insulted', 'beginner', 'astonished', 'fascinated', 'meditating', 'remodeling', 'speechless', 'undressing', 'used', 'earned', 'possible', 'sale', 'gimmick', 'excuse', 'delicious', 'different', 'hour', 'large', 'heart', 'ache', 'nobodys', 'hatch', 'prepare', 'prices', 'choked', 'dumped', 'fooled', 'roses', 'bike', 'nurse', 'teased', 'beauty', 'appeared', 'farce', 'immoral', 'obscene', 'suicide', 'flag', 'bother', 'ruined', 'throw', 'intervened', 'ashamed', 'devious', 'naughty', 'shallow', 'wounded', 'understood', 'charming', 'plenty', 'tragedy', 'clock', 'wealthy', 'present', 'ghost', 'bees', 'suits', 'husband', 'police', 'fixed', 'whistle', 'thirty', 'defend', 'remind', 'meal', 'pills', 'cane', 'dawn', 'ten', 'ethiopian', 'dreamer', 'painter', 'unmarried', 'tigers', 'laughs', 'gardener', 'interesting', 'tongue', 'death', 'football', 'goatee', 'fever', 'pens', 'jobs', 'learning', 'ladder', 'ordered', 'mayor', 'chance', 'evidence', 'mommy', 'surprised', 'taxi', 'notify', 'detective', 'policeman', 'color', 'embarrassed', 'frying', 'hunting', 'truly', 'breathing', 'friday', 'bugs', 'honor', 'surprise', 'lead', 'visit', 'served', 'marys', 'niece', 'shirt', 'cap', 'voice', 'drugs', 'forgave', 'stabbed', 'tied', 'alarm', 'being', 'story', 'lake', 'net', 'held', 'times', 'deranged', 'involved', 'texted', 'wears', 'available', 'separated', 'stake', 'comb', 'gorgeous', 'child', 'wings', 'past', 'flexible', 'teeth', 'rabbits', 'order', 'mirror', 'cross', 'deceive', 'disturb', 'tank', 'costs', 'umbrella', 'animals', 'easily', 'terrified', 'gentleman', 'intelligent', 'violence', 'sweat', 'powerless', 'surprises', 'traveling', 'australia', 'cream', 'beach', 'band', 'visited', 'america', 'suspect', 'suitable', 'yesterday', 'scary', 'sunny', 'noon', 'unlikely', 'candle', 'smokes', 'pulse', 'complaining', 'weep', 'reply', 'rejected', 'saying', 'offensive', 'curtain', 'clear', 'race', 'thanked', 'abandoned', 'conceited', 'deceitful', 'improving', 'smiles', 'match', 'children', 'pleased', 'rely', 'juice', 'coward', 'wow', 'hid', 'hop', 'fled', 'froze', 'low', 'skip', 'cuff', 'cursed', 'marry', 'terrific', 'bark', 'beg', 'belched', 'cringed', 'pro', 'obese', 'poured', 'rained', 'pardon', 'search', 'seriously', 'cared', 'knits', 'rocks', 'swims', 'swore', 'waved', 'higher', 'content', 'exists', 'faith', 'south', 'lovely', 'tragic', 'disagree', 'lingered', 'objected', 'threw', 'bushed', 'immune', 'twelve', 'chat', 'pray', 'lasts', 'mama', 'comment', 'replace', 'shadow', 'taste', 'burped', 'dances', 'gasped', 'goofed', 'moaned', 'nodded', 'paused', 'snores', 'winked', 'yawned', 'gives', 'wood', 'merciful', 'sensible', 'specific', 'vigilant', 'watchful', 'beers', 'comfort', 'bowl', 'argue', 'flip', 'coin', 'started', 'eight', 'faking', 'monk', 'taller', 'confessed', 'rats', 'sand', 'gout', 'attend', 'baker', 'fasting', 'fragile', 'neutral', 'resting', 'starved', 'cost', 'yen', 'vice', 'chilly', 'cloudy', 'futile', 'list', 'timing', 'means', 'release', 'stick', 'action', 'tvs', 'clapped', 'gloated', 'grinned', 'groaned', 'grunted', 'ocd', 'inhaled', 'prepaid', 'slipped', 'sneezed', 'flaky', 'dope', 'heel', 'loss', 'ego', 'drew', 'abandon', 'merciless', 'beef', 'backup', 'fbi', 'describe', 'ramble', 'examine', 'ghosts', 'easter', 'donut', 'courage', 'denied', 'cranky', 'driven', 'bigot', 'ninja', 'dare', 'caviar', 'detest', 'woozy', 'carded', 'mugged', 'liars', 'nap', 'space', 'sympathize', 'twice', 'farmer', 'surfer', 'waiter', 'agent', 'educated', 'grieving', 'perth', 'literate', 'painting', 'rational', 'thirteen', 'cured', 'lucid', 'wolf', 'elk', 'begun', 'bedtime', 'driving', 'pigs', 'mow', 'hip', 'recess', 'schools', 'gawking', 'pushing', 'staring', 'harder', 'switch', 'approve', 'sweated', 'gold', 'approves', 'enlisted', 'flinched', 'insisted', 'vet', 'timid', 'relented', 'shrugged', 'stutters', 'groggy', 'focus', 'unbelievable', 'succeeded', 'surrender', 'adults', 'dating', 'goners', 'pooped', 'feast', 'phony', 'paying', 'amuse', 'approved', 'included', 'talented', 'expert', 'reasonable', 'respectful', 'supportive', 'body', 'cain', 'security', 'despair', 'mock', 'sass', 'drain', 'oil', 'circle', 'healthily', 'feed', 'fry', 'downstairs', 'ham', 'eats', 'grows', 'blog', 'maid', 'skating', 'tycoon', 'saint', 'bled', 'calls', 'rope', 'honk', 'horn', 'thrilling', 'acquired', 'added', 'runner', 'belong', 'blacked', 'borrowed', 'bribed', 'designed', 'poker', 'queasy', 'reborn', 'finally', 'bonus', 'flying', 'date', 'visa', 'braces', 'orders', 'rights', 'sinned', 'tenure', 'sirens', 'voices', 'fall', 'clocks', 'movies', 'sewing', 'spoons', 'sweets', 'baking', 'garlic', 'object', 'resist', 'crew', 'lamp', 'loan', 'ride', 'outrank', 'yacht', 'squash', 'violin', 'pled', 'rescheduled', 'resent', 'motel', 'plane', 'bacon', 'smelled', 'firefox', 'poems', 'tourist', 'expecting', 'horrified', 'gang', 'spy', 'bossy', 'strike', 'sensitive', 'wasted', 'popular', 'bat', 'sickens', 'test', 'p', 'm', 'sequel', 'deserted', 'obsolete', 'occupied', 'official', 'outdated', 'rat', 'paddling', 'enter', 'proceed', 'mortal', 'shrieked', 'meats', 'scarce', 'lungs', 'names', 'hood', 'sank', 'owls', 'robe', 'gambling', 'shake', 'bent', 'obeys', 'positive', 'stir', 'meddling', 'shooting', 'worrying', 'differ', 'anyway', 'saturn', 'myth', 'unreal', 'vulgar', 'embraced', 'asian', 'armed', 'spies', 'pun', 'exercised', 'exercises', 'graduated', 'hesitated', 'hoot', 'wimp', 'rested', 'wicked', 'joined', 'recovered', 'staggered', 'aloof', 'klutz', 'till', 'wax', 'doomed', 'plans', 'fiasco', 'hassle', 'ails', 'whatll', 'disagreed', 'hypocrite', 'biased', 'qualified', 'autumn', 'brace', 'shovel', 'file', 'promise', 'recycle', 'annoy', 'struggle', 'tempt', 'duck', 'cries', 'lines', 'van', 'afternoon', 'mug', 'holidays', 'dislikes', 'tan', 'beard', 'bankrupt', 'homeless', 'outgoing', 'learns', 'jelly', 'respects', 'florist', 'slacker', 'author', 'prison', 'ached', 'disgusting', 'hungarian', 'believed', 'nail', 'notice', 'ease', 'guarantee', 'mondays', 'sundays', 'insects', 'ironing', 'karaoke', 'riddles', 'spinach', 'hiccup', 'hurried', 'castles', 'history', 'jogging', 'noodles', 'puzzles', 'sashimi', 'seafood', 'stories', 'turtles', 'upstate', 'harvard', 'flowers', 'lasagna', 'sunsets', 'sun', 'medic', 'ruler', 'stamp', 'answers', 'asap', 'surgery', 'cattle', 'sneeze', 'korean', 'glass', 'puppy', 'fan', 'captured', 'welcomed', 'wear', 'prosper', 'direct', 'extra', 'scold', 'diabetic', 'musician', 'prisoner', 'salesman', 'atheist', 'dependable', 'devastated', 'diplomatic', 'having', 'interested', 'making', 'quitter', 'holiday', 'optimistic', 'oldest', 'unemployed', 'blunt', 'stew', 'planned', 'wednesday', 'classic', 'insult', 'beyond', 'identical', 'redundant', 'vibrating', 'searching', 'lean', 'lend', 'dutch', 'practice', 'larger', 'power', 'joints', 'itches', 'tummy', 'nothings', 'pack', 'bags', 'meter', 'awkward', 'sings', 'types', 'counting', 'gossiping', 'grumbling', 'resisting', 'screaming', 'cyanide', 'evident', 'hogwash', 'illegal', 'obvious', 'plastic', 'lame', 'barked', 'melted', 'roof', 'leaks', 'siren', 'quarreled', 'struggled', 'starve', 'hollow', 'idiots', 'bites', 'fact', 'scam', 'dice', 'approached', 'blood', 'asthma', 'improvised', 'blond', 'creep', 'dwarf', 'pilot', 'miserly', 'idol', 'shaking', 'spoiled', 'paged', 'remembered', 'set', 'shed', 'tears', 'humble', 'sauce', 'front', 'doctors', 'credible', 'starving', 'concept', 'country', 'letdown', 'thought', 'whatd', 'whens', 'else', 'wind', 'wipe', 'morons', 'disgust', 'fraud', 'freak', 'prude', 'capsized', 'silent', 'instead', 'balls', 'round', 'precise', 'bullet', 'chip', 'mice', 'boxes', 'congratulations', 'dig', 'rap', 'interfere', 'interrupt', 'overdo', 'whirl', 'store', 'bottom', 'jeans', 'toyota', 'camera', 'racket', 'mark', 'disney', 'robot', 'mentioned', 'pressured', 'whisky', 'tends', 'cheating', 'standing', 'nara', 'comedian', 'freshman', 'album', 'fascinating', 'humiliating', 'unfortunate', 'spain', 'booked', 'afford', 'undo', 'eel', 'chickened', 'cooked', 'finger', 'dried', 'goats', 'feverish', 'helpless', 'repulsed', 'sunburned', 'guessed', 'politics', 'raccoons', 'reptiles', 'tomatoes', 'dandruff', 'drum', 'rains', 'ankle', 'elbow', 'imagined', 'learned', 'cartoons', 'climbing', 'teaching', 'heat', 'interest', 'comedies', 'eggplant', 'weddings', 'internet', 'shower', 'tissue', 'scissors', 'shave', 'outwitted', 'bills', 'baseball', 'outfield', 'bass', 'biking', 'cover', 'rang', 'recognize', 'relied', 'dollar', 'refund', 'concerned', 'disgusted', 'dismissed', 'petrified', 'skeptical', 'wouldnt', 'fork', 'arrange', 'assist', 'ford', 'double', 'reward', 'christian', 'carpenter', 'lifeguard', 'masochist', 'owl', 'engineer', 'optimist', 'aware', 'begging', 'catching', 'comfortable', 'cracking', 'defenseless', 'extroverted', 'pickle', 'asking', 'handed', 'nearsighted', 'alarmed', 'certain', 'vacation', 'minded', 'overwhelmed', 'responsible', 'tallest', 'modest', 'poisonous', 'llama', 'river', 'payday', 'option', 'tasted', 'thrill', 'ages', 'ago', 'fabulous', 'handmade', 'same', 'soft', 'mushroom', 'shortcut', 'eyesore', 'artificial', 'dinnertime', 'dirt', 'impossible', 'incredible', 'inevitable', 'irrelevant', 'misleading', 'refreshing', 'sweltering', 'wrap', 'practicing', 'koalas', 'metal', 'message', 'lemons', 'sour', 'celebrate', 'kites', 'office', 'smaller', 'widow', 'glowing', 'merry', 'shifts', 'squeak', 'seeing', 'changes', 'bottle', 'high', 'remove', 'saddle', 'airmail', 'carefree', 'graceful', 'panting', 'brazilian', 'assertive', 'somebodys', 'coughed', 'spelling', 'nosy', 'squabbling', 'whimpering', 'aspirin', 'church', 'pagoda', 'childish', 'dress', 'personal', 'snag', 'damp', 'cast', 'growled', 'opened', 'engine', 'leaves', 'moon', 'powers', 'radar', 'sea', 'soldier', 'soups', 'cure', 'salt', 'actors', 'melons', 'pilots', 'yellow', 'feared', 'greeted', 'respond', 'interns', 'garbage', 'fate', 'spot', 'pleases', 'gifts', 'limited', 'each', 'err', 'baked', 'believes', 'blamed', 'chased', 'disgusts', 'exaggerates', 'followed', 'piano', 'hiccups', 'muslim', 'banker', 'cyborg', 'legend', 'maniac', 'friendly', 'handsome', 'court', 'insecure', 'insolent', 'inspired', 'likeable', 'buddy', 'perverse', 'training', 'lived', 'perky', 'tense', 'weary', 'jokes', 'nudged', 'pitied', 'novels', 'sees', 'stole', 'understands', 'shocked', 'yawn', 'unlock', 'toes', 'teachers', 'raw', 'lack', 'waffles', 'ought', 'shared', 'ideas', 'justice', 'canadians', 'newlyweds', 'organized', 'prisoners', 'disaster', 'stolen', 'prize', 'dude', 'zoo', 'received', 'note', 'unsure', 'devil', 'mustnt', 'youd', 'decisive', 'reliable', 'stalling', 'less', 'than', 'barking', 'accidents', 'invisible', 'hurting', 'apply', 'wizard', 'blushing', 'drinking', 'atlantis', 'frank', 'bears', 'normally', 'brush', 'sometime', 'excused', 'inbox', 'cherries', 'blinds', 'drawer', 'window', 'immediately', 'concentrate', 'consult', 'cookie', 'supply', 'bridge', 'street', 'potatoes', 'deeds', 'words', 'brute', 'foolish', 'glum', 'exaggerate', 'lecture', 'faces', 'mention', 'mislead', 'oppose', 'rip', 'dragons', 'meals', 'everybodys', 'purpose', 'hammer', 'reason', 'sword', 'fetch', 'without', 'garage', 'stairs', 'croissant', 'eggnog', 'behaved', 'joy', 'deserves', 'recently', 'suddenly', 'feels', 'backward', 'picasso', 'carrots', 'italian', 'distracted', 'college', 'pajamas', 'overweight', 'diary', 'oranges', 'hunt', 'moves', 'remained', 'screams', 'shares', 'ipad', 'tenacious', 'arabic', 'crude', 'historian', 'lisbon', 'senile', 'stark', 'unconscious', 'health', 'wealth', 'embarrassing', 'melodramatic', 'howre', 'abhor', 'foreigner', 'professor', 'against', 'dumbfounded', 'brazil', 'norway', 'witch', 'appreciate', 'politely', 'bumped', 'knee', 'earlier', 'bake', 'hardly', 'minds', 'reach', 'flu', 'solitude', 'expect', 'details', 'flattered', 'refreshed', 'chemistry', 'hypocrisy', 'grenade', 'scooter', 'heartburn', 'future', 'video', 'cancel', 'chocolate', 'fresh', 'languages', 'pop', 'near', 'astronomy', 'yolks', 'fortune', 'breakfast', 'massage', 'miracle', 'aid', 'soap', 'outsmarted', 'computer', 'planted', 'tree', 'cello', 'flute', 'pointed', 'mile', 'label', 'regret', 'require', 'umbrellas', 'stifled', 'grin', 'divorce', 'martini', 'retire', 'dumbstruck', 'pretending', 'unhappy', 'salad', 'pick', 'protect', 'citizen', 'translator', 'moody', 'checking', 'disappointed', 'freaking', 'homeschooled', 'housesitting', 'inviting', 'middle', 'class', 'catholic', 'beggar', 'snitch', 'bluffing', 'suicidal', 'proud', 'sitting', 'wasting', 'saving', 'drawn', 'coma', 'reachable', 'contagious', 'flower', 'puzzle', 'dvd', 'euros', 'creeps', 'freaks', 'ambush', 'drizzling', 'excessive', 'hours', 'greek', 'group', 'rainy', 'complicated', 'season', 'gotten', 'drug', 'monkey', 'logical', 'natural', 'unusual', 'sofa', 'destiny', 'probably', 'bitter', 'asia', 'informed', 'kick', 'repair', 'immortal', 'lower', 'tomboy', 'tiny', 'itchy', 'scarf', 'stomach', 'sunburn', 'throat', 'toy', 'beats', 'responded', 'showed', 'gain', 'taught', 'windows', 'ketchup', 'pets', 'allowed', 'polite', 'trigger', 'article', 'revenge', 'rome', 'italy', 'prayers', 'defeated', 'despised', 'despises', 'idolized', 'pianist', 'shameless', 'socks', 'repulses', 'rode', 'camel', 'happily', 'sadly', 'stared', 'startled', 'studies', 'promoted', 'worships', 'size', 'apologizing', 'avoiding', 'nosey', 'interfering', 'pinching', 'scaring', 'showing', 'touching', 'precautions', 'kindly', 'concerns', 'enormous', 'confusing', 'debatable', 'dishonest', 'idle', 'affair', 'troubling', 'babys', 'ballon', 'burst', 'cage', 'ticked', 'creaked', 'foods', 'jury', 'mic', 'milkman', 'partys', 'pool', 'road', 'icy', 'abated', 'waters', 'world', 'wound', 'healed', 'limit', 'entered', 'singers', 'demoted', 'grave', 'nearby', 'theyd', 'escaping', 'immature', 'traitors', 'luxury', 'coach', 'relaxing', 'sabotage', 'norm', 'admires', 'loses', 'avoided', 'babysat', 'belongs', 'cannot', 'convinced', 'detests', 'drown', 'tb', 'frightens', 'alibi', 'freckles', 'insomnia', 'olives', 'fascist', 'fighter', 'patriot', 'plumber', 'recluse', 'redneck', 'refugee', 'schemer', 'surgeon', 'trucker', 'veteran', 'widower', 'ambitious', 'brilliant', 'eccentric', 'emotional', 'energetic', 'honorable', 'insincere', 'muttering', 'nephew', 'obsessive', 'perplexed', 'undecided', 'weakening', 'whistling', 'hockey', 'ponies', 'reggae', 'oven', 'shouts', 'punched', 'reads', 'log', 'slugged', 'calmly', 'wandered', 'pony', 'appalled', 'executed', 'tortured', 'watches', 'perk', 'succeed', 'award', 'toss', 'unreliable', 'slower', 'fingers', 'plants', 'checks', 'swordfish', 'competed', 'depend', 'disturbed', 'crisis', 'theory', 'visitors', 'havent', 'gunfire', 'sandbar', 'train', 'evacuate', 'withdraw', 'leader', 'classmates', 'historians', 'lifeguards', 'professors', 'sophomores', 'surrounded', 'movie', 'view', 'rotten', 'happening', 'cause', 'whatve', 'whatever', 'customs', 'razor', 'exit', 'damaged', 'murdered', 'hamlet', 'whod', 'invite', 'escape', 'younger', 'hobby', 'shouldnt', 'conform', 'necessary', 'practical', 'owner', 'mauled', 'add', 'adjust', 'brakes', 'admission', 'equal', 'under', 'arrest', 'error', 'candles', 'religious', 'chef', 'question', 'others', 'behave', 'build', 'nests', 'ambulance', 'hospital', 'rent', 'bow', 'champagne', 'click', 'link', 'coding', 'insist', 'crime', 'slack', 'imminent', 'dial', 'ants', 'pet', 'latin', 'wanna', 'proof', 'distract', 'threaten', 'weapons', 'exercise', 'outdoors', 'knees', 'days', 'spoon', 'goodnight', 'ladies', 'haste', 'makes', 'hay', 'blackmailed', 'blocked', 'headache', 'three', 'hanged', 'remorse', 'houses', 'biologist', 'poet', 'daredevil', 'scientist', 'forty', 'but', 'influential', 'introverted', 'smoker', 'osaka', 'owns', 'land', 'pushed', 'sailor', 'struck', 'studied', 'vitamins', 'picture', 'twisted', 'violated', 'wakes', 'imprisoned', 'raging', 'pants', 'scripts', 'hell', 'driver', 'journalist', 'timer', 'mr', 'overreacting']\n",
            "Target Vocabulary ['<eos>', '<bof>', 'tom', 'es', 'el', 'no', 'a', 'me', 'esta', 'un', 'la', 'lo', 'se', 'yo', 'de', 'que', 'estoy', 'mi', 'soy', 'eso', 'en', 'te', 'una', 'ella', 'esto', 'los', 'le', 'aqui', 'gusta', 'por', 'tu', 'tengo', 'estaba', '¿quien', 'las', 'mary', 'bien', '¿que', 'son', 'ahora', 'muy', 'tomas', 'puedo', 'tiene', 'casa', 'estamos', 'nos', 'ellos', 'fue', 'necesito', 'favor', 'eres', 'quiero', 'era', 'estas', 'todos', 'mas', 'con', 'ir', 'estan', 'solo', 'nadie', 'puede', 'este', '¿es', '¿puedo', 'perro', 'tan', 'ese', 'su', 'he', 'demasiado', 'voy', '¿donde', 've', 'odio', 'trabajo', '¿estas', 'todo', 'deja', 'al', 'somos', 'siento', 'gustan', '¿como', 'ha', '¿te', 'ahi', 'nosotros', 'hice', 'nuevo', 'libro', '¿esta', 'tenemos', 'vi', 'dejame', 'ven', 'mucho', 'feliz', 'ya', '¿tom', 'ayuda', '¿por', 'rapido', 'dos', 'hay', 'como', 'dame', 'vino', 'dinero', 'sabe', 'mal', 'sos', 'hombre', 'vamos', 'puedes', 'parece', 'encanta', 'para', 'y', '¿puedes', 'nunca', 'coche', 'tarde', 'nada', 'hizo', 'tienes', 'espera', 'mira', 'si', 'va', 'tenia', 'quiere', 'conmigo', 'poco', 'hace', 'ti', 'veo', 'esa', 'alguien', '¿me', 'vida', 'mejor', 'hacer', 'cansado', 'verdad', 'tiempo', 'amo', 'grande', 'haz', 'bueno', 'listo', 'duele', 'podemos', 'ayudar', 'vez', 'nadar', 'enfermo', 'fui', 'alli', 'usted', 'hoy', '¿no', 'triste', 'todavia', 'auto', 'viejo', 'has', 'buen', 'entrar', 'loco', 'mio', 'nuestro', 'ocupado', 'hablar', 'estar', 'gato', 'ser', 'murio', 'llama', 'borracho', 'llave', 'boston', 'tambien', 'muerto', 'uno', '¿eres', 'hemos', 'alto', 'razon', 'conozco', 'hambre', 'sueno', 'hacerlo', 'mis', 'acuerdo', 'toma', 'hecho', 'quien', 'dije', 'estos', 'suerte', 'facil', 'necesita', 'seas', '¿lo', 'vete', 'divertido', 'aca', 'frio', 'comer', '¿eso', 'joven', 'debo', 'llorar', 'casi', 'mismo', 'fuerte', 'hazlo', 'trabajar', '¿a', 'ver', 'menos', 'cerca', 'vio', 'aburrido', 'sigue', 'sombrero', 'pareces', 'hijo', 'timido', 'cierra', 'despierto', '¿podemos', 'leer', 'gusto', '¿esto', 'dia', '¿tu', 'dormir', 'habla', 'les', 'algo', 'cama', 'fuera', 'quedate', '¿tienes', 'comida', 'otra', 'temprano', 'acabo', 'cosas', 'hora', 'frances', 'padre', 'escucha', 'gordo', 'entiendo', 'rico', 'correr', 'dejo', 'sin', 'quedo', 'cantar', 'ayudo', 'llamo', 'seguro', 'pagar', 'estupido', 'encantan', 'ves', '¿cuando', 'dio', 'trabajando', 'serio', 'herido', 'suyo', 'cuidado', 'vuelve', 'sea', 'estare', 'anos', 'chico', 'queremos', 'mano', 'mujer', 'mundo', 'necesitamos', 'felices', 'dijo', 'viene', 'idea', '¿son', 'cafe', 'juego', '¿cual', 'parecia', 'perdi', 'comio', 'gano', 'libre', 'llego', 'malo', 'dejalo', 'lloro', 'raro', 'primero', 'lado', 'vivo', 'trampa', 'camino', 'ganar', 'caminar', 'cerveza', 'cuenta', 'tuve', 'gatos', 'ingenuo', 'equivocado', 'lunes', 'digas', 'bromeando', 'estabamos', 'morir', 'nino', 'amigo', 'hola', 'gracias', 'mantente', 'pasa', 'perfecto', 'intenta', 'llame', 'bastante', 'extrano', 'perros', 'coge', 'espero', 'perdido', 'momento', 'ten', 'salio', 'creo', 'hagas', 'grito', 'levanto', 'irte', 'buena', 'venir', 'casado', 'broma', 'amable', 'esos', 'tipo', 'parar', 'podria', 'miedo', 'visto', 'tonto', 'llorando', 'puerta', 'culpa', 'tus', 'hasta', 'telefono', 'lleno', 'funciona', 'sientate', 'sabia', 'perdio', 'ido', 'enojado', 'da', 'paso', 'escribe', 'empieza', 'hombres', 'encontre', 'normal', 'calor', 'real', '¿acaso', 'mia', 'amor', 'di', 'bebe', 'dormido', 'leche', 'escucho', 'deberia', 'nervioso', 'conoces', 'turno', 'disparo', '¿quieres', 'abogado', 'media', 'nombre', 'van', 'vive', 'preguntale', 'justo', '¿estoy', 'ponte', 'ojos', 'hablo', 'comi', 'quede', 'debil', 'genial', 'mintio', 'pronto', 'senti', 'adoro', 'tuyo', 'lee', 'anda', 'contento', 'carne', 'sentia', 'heroe', 'mentiroso', 'comiendo', 'ciudad', 'salir', 'mama', 'esperar', 'venido', 'pescado', 'esperando', 'television', 'agua', 'duro', 'suficiente', 'hablando', 'maria', 'ama', 'descansar', 'gracioso', 'ciego', '¿le', 'dale', 'palabra', 'siempre', 'llaves', 'cabeza', 'acaba', 'chica', 'debe', 'puso', 'reloj', 'habitacion', 'empezo', 'continua', 'adentro', 'boca', 'muevas', 'venga', 'prisa', 'vuelto', 'calvo', 'salvo', 'pago', 'pajaros', 'sonrio', 'echo', 'come', 'dios', 'cruel', 'hielo', 'guapa', 'mala', 'deberiamos', 'irnos', 'decir', 'leyendo', 'atrapado', 'sus', 'mintiendo', 'enfadado', 'medico', 'manana', 'fumar', 'sintio', 'odia', 'sabes', 'dulce', 'sola', 'bailar', 'engano', 'jefe', 'beso', 'lugar', 'plan', 'gente', 'cena', 'irme', 'bolsa', 'profesor', 'esposa', 'amigos', 'donde', 'pescar', 'adora', 'estaban', 'fuego', 'vaya', 'despacio', 'ire', 'despierta', 'manos', 'vayas', 'pagare', 'terminado', 'toca', 'enferma', 'gane', 'confia', '¿yo', 'entra', 'deje', 'falta', 'muriendo', 'vale', 'comamos', 'hacia', 'atras', 'camina', 'idiota', 'paciente', 'lleva', 'tal', 'hago', 'soltero', 'noche', 'bus', 'mordio', '¿hay', 'nieve', 'desnudo', 'emocionado', 'roto', 'secreto', 'ayudarte', 'saber', 'azul', 'cierto', 'alla', 'listos', '¿de', 'necesitas', 'quieras', 'sal', '¿se', 'valiente', 'dieta', 'boligrafo', 'corto', 'reglas', 'taxi', 'necesitaba', 'sera', 'ambos', 'ellas', 'tienen', 'vos', 'pequeno', 'toalla', 'segundo', 'gran', 'confundido', 'autobus', 'culpable', 'caballos', 'prefiero', 'verlo', 'peligro', 'pie', 'pueden', 'seis', 'queda', 'dano', 'contigo', 'canadiense', 'cualquier', 'realmente', 'pelo', 'corre', 'ganado', 'levanta', 'calma', 'tranquilo', 'agradable', 'renuncio', 'abre', 'abajo', 'adelante', 'pobre', 'cayo', 'veras', 'mueras', 'esquiar', 'lejos', 'oscuro', 'termino', 'caliente', 'fueron', 'vimos', 'quedar', 'os', 'puse', 'gratis', 'blanco', 'ocupada', 'conduce', 'intentarlo', '¿puede', 'ninos', 'pez', 'hicieron', 'cocinar', 'vuelta', '¿sabes', 'enseguida', 'escuela', 'colegio', 'canto', 'musica', 'mujeres', 'libros', 'abrazo', 'pregunto', 'segui', 'mirando', 'cantando', 'vayamos', 'duelen', 'caja', 'mios', 'respondio', 'bajo', 'paga', 'sonando', 'tacano', 'vende', 'estudio', 'futbol', 'toco', 'dicho', 'estudiante', 'importante', 'escuchando', 'hambriento', 'caballo', 'ley', 'mapa', 'siguio', '¿estabas', 'quieres', 'traeme', 'doctor', 'riendo', 'nuestra', 'almuerzo', 'familia', 'llevaba', 'tele', 'esperanza', 'traiciono', 'haciendo', 'estado', 'confiar', 'corrio', 'levantado', '¿en', 'estate', 'llamame', 'ayudame', 'dispare', 'vemos', 'lavate', 'sabemos', 'quieto', 'calmate', 'ello', 'olvide', 'hable', 'uso', 'perfectamente', 'delgado', 'dejanos', 'vamonos', 'preparate', 'parate', 'prueba', '¿para', 'despues', 'llegado', 'guarda', 'otro', 'arriba', 'dentro', 'importa', 'pregunta', 'trae', '¿los', 'hables', 'grites', 'inteligente', 'envidio', 'detesto', 'agrada', 'hare', 'intentando', 'caso', 'asi', 'parte', 'problema', 'baja', 'huele', 'consciente', 'mentir', 'miro', 'haremos', 'ocupados', 'sube', '¿ha', 'asiento', 'tome', 'quedando', 'leo', 'preguntare', 'bailando', 'estuvo', 'muneca', 'cancion', 'lista', 'deseo', 'carta', 'enorme', 'correcto', 'tuvo', 'rio', 'huevos', 'gustas', 'estaremos', 'gemelos', 'equipo', 'edad', 'invitado', '¿usted', 'fuma', 'o', 'dias', 'aguarda', 'comprar', 'escritor', 'embarazada', 'preparado', 'durmiendo', 'negro', 'carro', 'corta', 'ruido', 'brazo', 'pies', 'pierna', 'gritar', 'monton', 'odian', 'conocen', 'han', 'palido', '¿estan', 'policia', 'abra', 'consigueme', 'ingles', 'negocios', 'emocionante', 'recuerdo', 'cuarto', 'afuera', 'chiste', 'madre', 'satisfecho', 'cansada', 'famoso', 'habia', 'ninguna', 'arma', 'seco', 'minuto', 'bote', 'juntos', 'ganando', 'debes', 'vacas', 'dan', 'toques', 'ano', 'vacaciones', 'hijos', 'genio', 'manzana', 'hermanas', '¿el', 'maravilloso', 'cosa', 'hermano', 'bicicleta', 'trata', 'encontrarlo', 'cara', 'hermanos', 'escribio', 'problemas', 'corbata', 'totalmente', 'banco', 'peligroso', 'cielo', 'zapatos', 'respuesta', 'persona', 'trato', 'guerra', 'aun', 'orale', 'oh', 'menti', 'ganamos', 'agarra', 'luego', 'dormi', 'perdimos', 'llamalo', 'encanto', 'profundo', 'espere', 'limpio', 'rojo', 'pasar', 'sentate', 'miente', 'fantastico', 'veloz', 'volar', 'verguenza', 'golpeo', 'digo', 'funciono', 'silencio', 'tiro', 'mando', 'trabaja', 'ira', 'corriendo', 'ejercicio', 'pica', 'comido', '¿tiene', 'estupendo', 'cd', 'irse', 'pague', 'juguemos', 'miralo', 'voz', 'canta', 'estudia', 'mojado', 'sordo', 'feo', 'hicimos', '¿alguien', 'sed', 'atento', 'acercate', 'verme', 'escapo', 'pan', 'dolares', 'noticias', 'oi', 'arroz', 'golf', 'sopa', 'queria', 'necesite', 'gas', 'confio', 'mareado', 'despedido', 'cocinando', '¿ella', 'llueva', 'inutil', 'simple', '¿nos', 'pego', 'encendida', 'vieron', 'malvado', 'mayor', 'ayudara', 'lentamente', 'comimos', 'aburridos', 'arruinados', 'cansados', 'hiciste', 'simpatico', 'huevo', 'ayudarme', 'estes', 'muere', 'buenos', 'celoso', 'arrogante', 'horrible', 'confuso', 'vine', 'queso', 'dudas', 'sushi', 'apuesta', 'pistola', 'perder', 'inocente', 'angel', 'estudiando', 'exhausto', 'falso', 'repugnante', 'increible', 'haga', 'tuvieron', 'necesitan', 'desaparecio', 'lava', 'perdiendo', 'envio', 'vas', 'podes', 'tenes', 'conducir', 'ustedes', 'mires', 'sano', 'traer', 'aspecto', 'pellizco', 'sabra', 'adorable', 'nariz', '¿cuantos', 'japones', 'volvi', 'bebo', 'disfruto', 'jugar', 'enganado', 'hermana', 'tenis', 'mire', 'primavera', 'semana', 'rescate', 'respeto', 'oso', 'confiaba', 'gustaria', 'sere', 'llamare', 'cargo', 'peor', 'deber', 'del', 'volvamos', 'espalda', 'paz', 'todas', 'copia', 'absurdo', 'solos', 'palabras', 'recibio', 'injusto', 'ayudando', 'fuimos', 'borrachos', '¿ellos', 'deberias', 'estabas', 'sientes', 'racista', 'sentarme', 'limpia', 'viste', 'taza', '¿has', 'aprende', 'compre', 'fiestas', 'camion', 'sol', 'posible', 'menudo', 'cinco', 'sudando', 'gafas', 'seria', 'preferiria', 'probable', 'error', 'patetico', 'parecen', 'mesa', 'norma', 'acerco', 'paliza', 'robado', 'avergonzado', 'conoce', 'dice', 'causa', 'rompio', 'mato', 'molestes', 'enganes', 'mientas', 'suena', 'llegar', 'lapiz', 'preocupado', 'largo', 'correo', 'aire', 'volvio', 'abandono', 'adulto', 'acerca', 'viajar', 'debemos', 'papel', 'salte', 'corri', 'intento', 'sonrie', 'preocupo', 'cai', 'cante', 'entre', 'fuertemente', 'mojada', 'vista', 'cogelo', 'breve', 'date', 'sente', 'vago', 'perdida', 'diselo', 'nado', 'intentalo', 'mirame', 'iremos', 'respondeme', 'jesus', 'venid', 'llores', 'dieron', 'esperare', 'olvidalo', 'grave', 'consiguio', 'apesta', 'deci', 'condujo', 'vigila', 'bordo', 'cualquiera', 'llega', 'traed', 'hechos', 'existe', 'rindio', 'humano', 'rompi', 'risita', 'dudo', 'conoci', 'renuncie', 'ultimo', 'escribi', 'comprando', 'torpe', 'magia', 'dura', 'ningun', 'sientese', 'alerta', 'solto', 'metio', 'gira', 'derecha', 'ricos', 'debiles', '¿llamaste', 'puntual', 'contacto', 'termine', 'encontrar', 'pedir', 'vistazo', 'vengo', 'cocinero', 'disculpas', 'conduzco', 'odiaba', 'amaba', 'matematicas', 'huelo', 'vote', 'presente', 'perdedor', 'saludable', 'gorda', 'mentalizado', 'acabado', 'fresco', 'vivir', 'hagamoslo', 'pide', 'callate', 'adios', 'desperto', 'loca', '¿deberia', 'muestrame', 'ladron', 'echa', 'actua', 'tonteria', 'sonrieron', 'gritaron', 'viejos', 'piensa', 'cambio', 'ahogo', 'cedio', 'perezoso', 'furioso', 'pruebate', '¿estaba', 'amamos', 'sentamos', 'despiertos', 'dolor', 'lastima', 'retrasado', '¿estamos', 'herida', 'realista', 'paciencia', 'intentar', 'hagalo', 'saben', 'mitad', 'motivado', 'pateo', 'oye', 'romantico', 'chino', 'manzanas', 'arreglarlo', 'identificacion', 'frijoles', 'ajedrez', 'miel', 'juegos', 'leon', 'ex', 'oidos', 'actor', 'ahogando', 'vosotros', 'indignado', 'ciervo', 'llamas', 'nevando', 'siga', 'caminando', 'sueltame', 'atentamente', 'entro', 'orejas', 'descanso', 'mirar', 'quejarte', 'tomate', 'locura', 'rieron', 'dijeron', 'quieren', 'simpaticos', 'dispararon', 'huyo', 'hablara', 'teniamos', 'sabiamos', 'vivimos', 'quedamos', 'dormidos', 'bienvenido', '¿soy', 'enojada', 'molesto', 'patinar', 'sobre', 'vuelvas', 'peces', 'platos', 'grosero', 'lastimes', 'vacia', 'pajaro', 'algunos', 'bebio', 'luce', 'murieron', 'admiraba', 'prestado', 'verte', 'merecia', 'desprecio', 'perdono', 'invierno', 'resfriado', 'tenido', 'papa', 'lei', 'levantate', 'raton', 'luz', 'renunciar', 'despertado', 'llamar', 'extranar', 'dire', 'olvidadizo', 'banda', 'encontrado', 'doloroso', 'pone', 'regalo', 'depende', 'injusta', 'entrada', 'continuar', 'contrato', 'claramente', 'linea', 'escribir', 'pelear', 'pasan', 'respiro', 'basta', 'encontraron', 'deben', 'japon', 'asusta', 'inservible', 'comemos', 'primos', 'casados', 'atrapados', 'unos', 'vendra', 'trabajas', 'rojas', 'respira', 'besarte', 'comen', 'compro', 'treinta', 'manera', 'lata', 'dejes', 'pasala', 'llora', 'subete', 'golpe', 'golfista', 'tio', 'abofeteo', 'animal', 'deprimido', 'estudiar', 'plata', 'asco', 'hacen', 'afortunado', '¿cuanto', 'cuesta', 'traje', 'arreglar', 'levantarme', 'aranas', 'ni', 'simplemente', 'gustaba', 'amiga', 'regresar', 'quisiera', 'ocupare', 'ensenar', 'detras', 'desafortunado', 'paro', 'lastimado', 'navidad', 'tarea', 'barato', 'arriesgado', 'buscando', 'seamos', 'esperemos', 'escritorio', 'estomago', 'cocina', 'veia', 'aparecio', 'azucar', 'verano', 'ayudaron', 'muertos', 'tuya', 'responder', 'travieso', 'caluroso', '¿y', 'sido', 'termina', '¿adonde', 'paris', 'guardia', 'claro', 'mentiste', 'fuiste', 'tuyos', '¿podes', 'oido', '¿ves', 'confies', 'provecho', 'viaje', 'honesto', 'tokio', 'corte', 'escuche', 'opcion', 'vuestro', 'aquel', 'quise', 'campana', 'estuve', 'sorprendio', 'compras', 'leerlo', 'segura', 'propio', 'mente', 'abierta', 'radio', '¿este', 'importara', 'salida', 'limitate', 'mensaje', 'cantante', 'cenar', 'gris', 'fria', 'cambiar', 'beben', 'viven', 'hotel', 'enemigo', 'odiamos', 'conocimos', 'locos', 'pasando', 'sirve', 'habeis', '¿sois', 'estudiantes', 'alguna', 'orden', 'tenian', 'lluvia', 'seguir', 'paraguas', 'piernas', 'permanecio', 'francia', 'haces', 'tomo', 'normas', 'pasado', 'izquierda', 'seca', 'tormenta', 'traidor', 'encendio', 'sento', 'oimos', '¿podrias', '¿compraste', 'salta', 'abrazame', 'hui', 'dimito', 'llore', 'pruebalo', 'ayudanos', 'forma', 'esperame', 'arregla', 'sujeta', 'diviertanse', 'hazme', 'niego', 'sonrei', 'deten', 'llevate', 'ganaron', 'prueben', 'usa', 'intentamos', 'escribeme', 'perdiste', 'vuelan', 'veni', 'preguntes', 'corras', 'sigueme', 'afeito', 'dj', 'sosten', 'consciencia', 'rei', 'ciega', 'obeso', 'televisor', 'veamos', 'hazte', 'cuidate', 'cayeron', 'inclino', 'preocupa', 'mudo', 'pruebatelo', 'intentaremos', 'dieciocho', 'comprueba', '¿fue', 'pares', 'olvidate', 'hey', 'aburrimiento', 'bonito', 'saltar', 'oigo', 'arte', 'prometi', 'llegue', 'compraria', 'agotado', 'escondido', 'bagre', 'asustado', 'vacio', 'verde', 'dejale', 'vieja', 'hablame', 'valdra', 'pertenece', 'quedaron', 'baila', 'olvido', 'salido', 'gimio', 'obedecio', 'detuvo', 'ronca', 'pagara', 'enciendelo', '¿era', 'reimos', 'pobres', 'pero', 'discreto', 'razonable', 'tolerante', '¿juegas', 'entres', 'fumes', 'preocupes', 'vistete', 'recto', 'encontro', 'agallas', 'ocho', 'fingiendo', 'curioso', 'pregunte', 'comprado', 'fruta', 'arena', 'jazz', 'rock', 'refiero', 'esconderme', 'frecuencia', 'impuestos', 'labios', 'ovni', 'vendo', 'agradezco', 'probare', 'curiosidad', 'quisquilloso', 'enamorada', 'jodiendo', 'llevar', 'simpatica', 'arpa', 'empecemos', 'apuremonos', 'vayamonos', 'divertida', 'muchas', 'mueve', 'bajalo', 'muerta', 'duermas', 'saque', 'descansad', 'abrazaron', 'esperaron', 'nuevos', 'sonrojo', 'vitoreo', 'aplaudio', 'accidente', 'gruno', 'adelantado', 'nego', 'estornudo', 'ensena', 'disgustado', 'apagalo', '¿hacia', '¿estuvo', 'trabajamos', 'separamos', 'ayudamos', 'conocemos', 'luchar', 'limpios', 'desastre', '¿quienes', 'trampas', 'siguiente', '¿vas', 'desmayaron', 'lastimas', 'hermosa', 'hierve', 'revisa', 'alrededor', 'echale', 'cuando', 'llamado', '¿vino', '¿ayudaste', '¿bebes', '¿duele', 'nota', '¿funciona', 'tientes', 'encuentra', 'trago', 'evita', 'enfado', 'admiro', 'rezando', 'mordi', 'labio', 'conduciendo', 'probar', 'opera', 'pluma', 'ayude', 'mudarme', 'dulces', 'pizza', 'viajes', 'engane', 'eche', 'espacio', 'estrella', 'volvere', 'demandare', 'anorexico', 'autista', 'descalzo', 'divorciada', 'rebelde', 'aliviado', 'inquieto', 'tanto', 'pensando', 'decision', 'solido', 'maldicion', 'cavando', 'sonriendo', 'escribiendo', 'mona', 'alta', 'cesped', 'mandibula', 'proba', 'abri', 'apurate', 'repitelo', 'entonces', 'tanque', 'concentrate', 'control', 'llevanos', 'cuentame', 'funcionara', 'mentira', 'sentaron', 'grandes', 'entraron', 'vitorearon', 'escaparon', 'ayudan', 'aman', 'vendran', 'sencillo', 'pastel', 'aburre', 'cancelo', 'encogio', 'poli', 'veterano', 'manoso', 'panico', 'viniendo', 'estricto', 'bebida', 'demandar', 'rendimos', 'cerrados', 'saliendo', 'escondidos', 'pico', 'construyo', 'tinta', 'pasaron', 'estaras', 'cerdo', 'intentado', 'equivocada', 'altos', 'corren', 'tomarlo', 'vengan', '¿necesito', 'rapidamente', 'rindas', 'tires', 'atencion', 'empujes', 'circulo', 'beban', 'comete', 'mejores', 'damelo', 'deme', 'agarrate', 'aferrate', 'agujero', 'cogieron', 'andando', 'machista', 'demente', 'sirvase', 'sangraba', 'cuerda', 'mori', 'americano', 'tosiendo', 'estornudando', 'queme', 'explicar', 'sentirlo', 'pude', 'pienso', 'robo', 'llevo', 'bmw', 'escuchar', 'temo', 'alimente', 'sediento', 'esconder', 'bomba', 'cancer', 'recien', 'camellos', 'deporte', 'trenes', 'tulipanes', 'hornear', 'naturaleza', 'negocio', 'bano', 'cambie', 'corona', 'reina', 'barco', 'humo', 'vendi', 'ganas', 'permitire', 'comprare', 'matare', 'encontrarme', 'encargare', 'cogere', 'mirare', 'testigo', 'artista', 'huerfano', 'desesperado', 'impresionada', 'asegurado', 'mejorado', 'siente', 'privado', 'lloviendo', 'peluca', 'legal', 'quebro', 'nevado', 'ironico', 'servira', 'sabado', 'obsoleto', 'pena', 'dejelo', 'terminar', 'cogerlo', 'preguntemosle', 'hagamos', 'prosigamos', 'sigamos', 'aquellos', 'oferta', 'preguntar', 'cuello', 'quitate', 'monos', 'cambia', 'subase', 'leelo', 'rusia', 'manda', 'ingenua', 'modelo', 'junto', 'quedito', 'entrometas', 'disparar', 'preocuparte', 'barre', 'numero', 'llevame', 'aquella', 'copa', 'chicas', 'sabian', 'estaran', 'vivos', 'verdes', 'enojo', 'oyo', 'ausente', 'delgaducho', 'acuerda', 'cumplio', 'rota', 'sucio', 'adoptado', 'violento', 'esperad', 'roncando', 'piso', 'podriamos', 'preguntamos', 'robados', 'intencion', 'hablamos', 'tuvimos', 'intrigados', 'abogados', 'hundiendo', 'especiales', 'alivio', 'ocurrio', 'teneis', 'preguntas', 'hueles', 'coca', 'cola', 'hondo', 'traemelo', 'comerme', 'ayudarle', 'verlos', 'levantarte', 'pelota', 'pieza', 'dijiste', 'preparada', 'apresurado', 'pierdas', 'cuchillo', 'disfrute', 'daselo', 'pista', 'buenas', 'acelero', 'contar', 'cambiado', 'regreso', 'techo', 'juega', 'reto', 'enfadada', 'extranjero', 'acostar', 'vienen', 'esconde', 'apurensen', 'muchachos', 'presto', 'demostrarlo', 'cuento', 'sigo', 'levante', 'insectos', 'planchar', 'tos', 'corazonada', 'rancho', 'hogar', 'hipo', 'ojala', 'venderlo', 'pollo', 'galletas', 'historia', 'mahjongg', 'norte', 'aumento', 'tener', 'normalmente', 'saberlo', 'arrestado', 'dejaron', 'poder', 'cuidadoso', 'honor', 'quedare', 'dare', 'principiante', 'cansancio', 'apurado', 'meditando', 'optimista', 'reforma', 'venta', 'dificil', 'cedera', 'excusa', 'insulto', 'delicioso', 'diferente', 'seguros', 'lento', 'llevalo', 'dejalos', 'cada', 'sentemonos', 'caminas', 'corazon', 'lastimo', 'vayase', 'precios', 'ahorco', 'rosas', 'extrana', 'provocaba', 'belleza', 'dejen', 'farsa', 'gallina', 'inmoral', 'obsceno', 'suicidio', 'bandera', 'enfermos', 'trabajan', 'idiotas', 'fatal', 'piensatelo', 'tira', 'quedarse', 'intervino', 'enamorado', 'relajado', 'fumando', 'estudiamos', 'inquietos', 'observando', 'tragedia', 'causo', 'fallo', 'bolso', 'pinto', 'importaria', 'das', 'quiza', 'vuelva', '¿sos', 'fantasma', 'preguntame', 'abejas', 'quedarme', 'ayudarnos', 'probarlo', 'charlar', 'respirar', 'callar', 'silbar', 'cerra', 'cuente', 'puedas', '¿la', '¿confias', 'juegues', 'mentiras', 'miraron', 'sonrisa', 'baston', 'amanecer', 'balon', 'boleto', 'diez', 'coches', 'etiope', 'sonador', 'pintor', 'seguia', 'tigres', 'muchacha', 'jardinero', 'cabello', 'eh', 'estais', 'hacemos', 'interesante', 'lengua', 'permitir', 'aguanto', 'volver', 'podia', 'muerte', 'impotente', 'rechazado', 'supongo', 'malas', 'fiebre', 'trabajos', 'automovil', 'aprender', 'escalera', 'panuelo', 'unas', 'empleo', 'rindo', 'pedi', 'alcalde', 'trate', 'naci', 'extenuado', 'detendre', 'detective', 'atrasado', 'friendo', 'apuros', 'perfecta', 'especial', 'gritando', 'noticia', 'japonesa', 'viernes', 'suave', 'sorpresa', 'remontemos', 'servida', 'sobrina', 'volo', 'camisa', 'abran', 'dimelo', 'dile', 'drogas', 'amas', 'durmio', 'apunalo', 'cartas', 'derecho', 'alarma', 'funcionar', 'terrible', 'echada', 'lago', 'red', 'mar', 'color', 'pozo', 'cura', 'separados', 'equivocados', 'estupendamente', 'rusos', 'preocupados', 'destino', 'tiempos', 'duros', 'suya', 'inseguro', 'cogio', 'primo', 'apaga', 'encienda', 'dedos', 'profesores', 'cerramos', 'compartimos', 'seremos', 'canadienses', 'premio', 'peine', 'anota', 'traicionaste', 'murmurando', 'fiar', 'llegas', 'alas', '¿estais', '¿os', 'flexible', 'dientes', 'permiten', 'conejos', 'verifique', 'elige', 'espejo', 'cierre', 'controlate', 'cruza', 'mataste', '¿ya', 'dar', 'quiera', '¿vives', 'llena', 'consejo', 'duerme', 'grano', 'espada', 'daselos', 'arruino', 'pocos', 'animales', 'cazar', 'sonreir', 'jugo', 'grita', 'aterroriza', 'nacio', 'caballero', 'solitario', 'rojos', 'afortunados', 'violencia', 'sudar', 'pararla', 'preguntado', 'helado', 'parque', 'lastime', 'sorpresas', 'duda', 'australia', 'playa', 'vuestra', 'gustaban', 'deuda', 'pasmado', 'estados', 'unidos', 'disponible', 'clase', 'viendo', 'sospechoso', 'coma', 'adecuado', 'abierto', 'nevar', 'ayer', 'mediodia', 'truco', 'hablen', 'fuerza', 'pulso', 'deshonesto', 'ofensivo', 'pesada', 'carrera', 'trajo', 'detesta', 'mejorando', 'punetazo', 'pruebas', 'partido', 'completamente', 'comiste', 'empezamos', 'llamaste', '¿ustedes', 'sorprendido', 'cometio', 'cobarde', 'caigo', 'mantuvo', 'corred', 'parad', 'esperen', 'oculte', 'tomatelo', 'soda', 'ataque', 'pillas', 'metete', 'sali', 'diecinueve', 'procuramos', 'sean', 'gentiles', 'pirate', 'llamanos', 'andale', 'sueltalo', 'bajate', 'golpea', 'sostenlo', 'resista', 'abraza', 'incline', 'congele', 'mudado', 'intente', 'afectado', 'unete', 'guardalo', 'desapercibido', 'empujala', 'muestramelo', 'saltatelo', 'paralo', 'decime', 'preocupamos', 'bienvenidos', 'corria', 'preguntales', 'aparta', 'apartate', 'animate', 'esposale', 'encontralo', 'pierdete', 'esfumate', '¿subes', 'agarralo', 'convine', 'maldije', 'fracase', 'arreglo', 'suspire', 'calmado', 'facilon', 'rica', 'calentito', 'prohibido', 'besa', 'casate', 'salva', 'avisale', 'observalos', 'callo', 'apunta', 'atrapelo', 'capturalo', 'ladran', 'mintais', 'tienta', 'siguenos', 'olvidame', 'preparaos', 'alguno', 'horror', 'divierte', 'ruego', 'eructe', 'exhale', 'arrodille', 'tropece', 'cocinare', 'vivire', 'cantare', 'parare', 'caminare', 'pro', 'amado', 'quemo', 'diluviaba', 'llovio', 'nevo', 'guardalos', 'marchate', 'marchar', 'dejeme', 'intentemoslo', 'tumbate', 'aflojalo', 'supuesto', 'disparad', '¿perdona', 'pontelo', 'registren', 'vease', 'candente', 'firme', 'firma', 'manten', 'detenlos', 'asume', '¿entonces', 'perdieron', 'dormito', 'teje', 'mece', 'juro', 'voto', 'saludo', 'abusado', 'fallamos', 'olvidamos', 'conversamos', 'esperamos', 'veremos', 'aabe', 'maneja', 'pedazo', 'intentaste', '¿tengo', 'equivoco', 'respondale', 'apuntas', 'cantan', 'comprobad', 'escoge', 'vente', 'pasale', 'parale', 'lloran', 'vengas', 'salteis', 'mireis', 'movais', 'cantes', 'esperes', 'enfrentate', 'quema', 'seguilo', 'siguele', 'olvidenlo', 'perdonanos', 'consiguete', 'fe', 'descolgo', 'gentil', 'mezquino', 'reia', 'blanca', 'sur', 'helo', 'tragico', 'admito', 'solte', 'imagino', 'agradas', 'objete', 'grite', 'sobrevivi', 'vomite', 'entrare', 'gemelo', 'codicioso', 'inmune', 'moviendo', 'flacucho', 'doce', 'ignora', 'inofensivo', '¿vale', 'viento', 'apuntes', 'abandona', 'dejar', 'dejadme', 'charlemos', 'besemonos', 'oremos', 'desistamos', 'cantemos', 'nademos', 'conversemos', 'votemos', 'caminemos', 'trabajemos', 'levantalo', 'miranos', 'buscalo', 'comentarios', 'reemplazadlo', 'patata', 'siguelo', 'retrocede', 'detente', 'harto', 'notas', 'enganaron', 'intentaron', 'votaron', 'vuela', 'convino', 'aquiescente', 'eructo', 'bailo', 'reprobo', 'peleo', 'ahogado', 'pata', 'salto', 'asintio', 'rezo', 'suspiro', 'charlo', 'guino', 'bostezo', 'llorara', 'morira', 'marchado', 'disparado', 'compramos', 'cedes', 'divertimos', 'fracasaremos', 'ayudaremos', 'cantaremos', 'esperaremos', 'trabajaremos', 'terminamos', 'perdidos', 'hartos', 'madera', 'arde', 'decides', 'fallaste', '¿hemos', 'creativos', 'clemente', 'especifico', 'exhaustivo', 'vigilante', 'comenzar', 'compruebalo', 'consuela', 'cociname', '¿ganaste', 'hacedlo', 'ahorita', 'boliche', 'discutais', 'copieis', 'peleeis', 'rias', 'dispares', 'sonrias', 'lanza', 'moneda', 'descubrelo', 'delante', 'envejecio', 'odiado', 'guarro', 'pajero', 'monje', 'pido', 'culpo', 'compartir', 'confese', 'noto', 'enfade', 'emborrache', 'ratas', 'trescientos', 'gota', 'traigo', 'contrate', 'extranaba', 'efectivo', 'autos', 'preguntaria', 'cambiare', 'panadero', 'desconcertado', 'comprometida', 'ayunando', 'fraile', 'carcel', 'neutral', 'descansando', 'egoista', 'muero', 'preocupada', 'ignoralos', 'ventoso', 'costo', 'invito', 'chido', 'yenes', 'quilombo', 'normativa', 'vicio', 'nublado', 'moviendote', 'hazmelo', 'bailemos', 'entremos', 'guateque', 'festejemos', 'relajemonos', 'comencemos', 'desde', 'busca', 'memorizalo', 'significa', 'resiste', 'liberale', 'recuerdalo', 'responded', 'disparos', 'mandalo', 'zorra', 'haciendolo', 'ojeada', 'quemaron', 'llamaron', 'bailaron', 'besaron', 'vayan', 'obedecieron', 'caminaron', 'malos', 'decidio', 'espiro', 'desmayo', 'regodeo', 'doc', 'inhalo', 'ordenado', 'arrodillo', 'relajo', 'resbalo', 'polvo', 'alegre', 'despertalo', 'encontrarnos', 'extranamos', 'actuar', 'prometimos', 'acordamos', 'sobrevivimos', 'conduciremos', 'compartiremos', 'sentimos', 'jovenes', 'burro', 'arrastrado', 'pendejo', 'ego', 'sois', 'dibujo', 'pegado', 'escribelo', 'quedatelo', 'exactamente', 'langa', 'abandonen', 'nave', 'acorde', '¿nada', 'invita', 'confiado', 'despiadado', 'objetivo', 'ternera', 'tropas', 'apoyo', 'hazle', 'fbi', 'mirad', 'regresa', 'nosotras', 'enfrialo', 'describilo', '¿perdiste', '¿firmaste', '¿luzco', 'sueltes', 'divagues', 'conduzca', 'examina', 'temas', 'lucha', 'fantasmas', 'existen', 'devuelvete', 'pascua', 'rosquilla', 'botana', 'humillado', 'esperara', 'fanatico', 'ninja', 'sufriendo', 'lindo', 'aguante', 'atreves', 'disculpe', 'caviar', 'mover', 'atontado', 'enmarque', 'pidieron', 'atracaron', 'habas', 'moscas', 'mentirosos', 'abrace', 'siesta', 'pintura', 'frecuentemente', 'nade', 'simpatizo', 'avisado', 'enmarcado', 'veces', 'arriesgare', 'granjero', 'sacerdote', 'surfista', 'camarero', 'adulta', 'agente', 'dubitativo', 'formacion', 'congelado', 'agradecida', 'luto', 'vacilante', 'gravemente', 'perth', 'culto', 'pintando', 'racional', 'terco', 'trece', 'concienzudo', 'entusiasmado', 'cachondo', 'hierro', 'curado', 'lucido', 'lobo', 'alce', 'empezado', 'romper', 'magico', 'quemara', 'funcionando', 'nomas', 'pensar', 'salgamos', 'escuchemos', 'adivina', 'detenga', 'cerdos', 'muevete', 'cadera', 'movio', 'ah', 'marchese', 'senalalo', 'abrela', 'ponedlo', 'escondete', 'tranquila', 'demando', 'frente', 'discutas', 'empujar', 'mirarme', 'suenos', 'relajate', 'llevatelo', 'bondi', 'dinos', 'colmo', 'bastara', 'durara', 'aprueban', 'abandonaron', 'conocian', 'negaron', 'pararon', 'sudaron', 'llamaran', 'sabran', 'esperaran', 'chicos', 'rapidos', 'ricas', 'feos', 'rompen', 'oro', 'aprueba', 'enrolo', 'insistio', 'asqueroso', 'fiel', 'chispa', 'conocio', 'prometio', 'hombros', 'tartamudea', 'sobrevivio', 'ruin', 'grogui', 'drogado', 'tarta', 'centrarte', 'despertalos', 'despiertate', 'pedimos', 'aplaudimos', 'preparamos', 'almorzamos', 'queriamos', 'echar', 'conseguimos', 'heridos', 'saldremos', 'adultos', 'asustados', 'desahuciados', 'hambrientos', 'mudando', 'reventados', 'consegido', 'festin', 'farsante', 'susto', 'desperdicio', 'conto', 'agradeces', '¿va', 'vivira', 'diviertes', 'maleducado', 'quedarte', 'heriste', 'acalorado', 'prometiste', 'asustas', 'sobreviviste', 'borracha', 'espabilado', 'ingenioso', 'atropello', 'aprobe', 'incluido', 'talentoso', 'polis', 'experto', 'portate', 'respetuoso', 'apoyame', 'bate', 'rompelo', 'traelo', 'quemen', 'cuerpo', 'cain', 'seguridad', 'tenerlo', 'abrazarte', 'participar', 'quedarmelo', 'visitar', 'observad', 'cuece', 'desfallecio', '¿funciono', '¿hablaste', '¿conozco', 'suenan', 'duermen', 'sigues', 'llegues', 'llames', 'niegues', 'desesperes', 'engordes', 'mates', 'prestes', 'burles', 'apresures', 'irrespetuoso', 'aceite', 'traza', 'coman', 'ganan', 'alimenta', 'rellena', 'frieme', 'pon', 'dadmelo', 'bendiga', 'aguanta', 'jamon', 'cavo', 'cultiva', 'blog', 'constipado', 'mucama', 'patineta', 'carros', 'don', 'apedreado', 'santo', '¿paqui', 'pa', 'retenga', 'llamadas', 'sujetalo', 'bocina', 'acepto', 'adquiri', 'anadi', 'dedico', 'trote', 'pertenezco', 'soborne', 'soportar', 'cancele', 'cause', 'contribui', 'disene', 'importo', 'movi', 'pare', 'camine', 'ronco', 'bebi', 'poker', 'exagere', 'renacido', 'finalmente', 'defendi', 'obtuve', 'bono', 'resulte', 'case', 'cita', 'aro', 'gemela', 'visa', 'rodilleras', 'fallado', 'ordenes', 'derechos', 'pecado', 'tenencia', 'sirenas', 'voces', 'ignore', 'caer', 'relojes', 'peliculas', 'coser', 'cucharas', 'ajo', 'excursionismo', 'prepare', 'objetar', 'rechazar', 'resistir', 'tripulacion', 'lampara', 'prestamo', 'lleven', 'consejos', 'supero', 'rango', 'dueno', 'yate', 'squash', 'violin', 'declare', 'fecha', 'ofendo', 'administro', 'motel', 'avion', 'tocino', 'oli', 'bane', 'paseo', 'firefox', 'ofreci', 'voluntario', 'desarmado', 'observe', 'subi', 'marcha', 'cedere', 'escribo', 'versos', 'alcanzare', 'comere', 'encontrare', 'echare', 'demostrare', 'mostrare', 'avisar', 'turista', 'adicta', 'horrorizado', 'imparcial', 'impaciente', 'intrigada', 'mudar', 'superare', 'espia', 'mandon', 'ebrio', 'huelga', 'sensible', 'estupida', 'jefa', 'popular', 'murcielago', 'examen', 'dolera', 'secuela', 'desierto', 'oficial', 'rata', 'remando', 'mantengamoslo', 'abramoslo', 'demandemos', 'traba', 'resume', 'mortal', 'chula', 'rara', 'chillo', 'escasa', 'memoriza', 'pulmones', 'capucha', 'hundio', 'buhos', 'tocalo', 'arreglalo', 'bata', 'apostar', 'descanse', 'mandamelo', '¿empiezo', '¿debo', 'agacho', 'ultima', 'francesa', 'obedece', 'derribalo', 'parense', 'positivo', 'manteneos', 'mezcla', 'balbucear', 'sonar', 'gustos', 'disputas', 'formas', 'saturno', 'mito', 'irreal', 'vulgar', 'levantaron', 'gritan', 'construyeron', 'cancelaron', 'mutuamente', 'pagan', 'salvaron', 'bailaran', 'haran', 'asiaticos', 'enojados', 'armadas', 'embriagados', 'enormes', 'pequenos', 'espias', 'vuestros', 'cambian', 'incorrecto', 'vaca', 'bravio', 'descansado', 'aliento', 'unio', 'pueblo', 'gustaste', 'recupero', 'vacilo', 'distante', 'banca', 'moria', 'severo', 'contratado', 'leal', 'mentia', 'palidecio', 'cocinara', 'obedecera', 'encera', 'cambiamos', 'planes', 'disparamos', 'entendemos', 'aburriamos', 'preguntaremos', 'esconderemos', 'sobreviviremos', 'desorientados', 'comprometidos', 'enamorados', 'pacientes', 'mentalizados', 'egoistas', 'serios', 'inutiles', 'fiasco', 'rollo', 'aflige', 'llegaste', 'hipocrita', 'quedaros', 'eras', 'fuisteis', 'fracasaras', 'llegareis', 'parcial', '¿bromeas', 'tratando', 'linda', 'calificado', '¿aqui', '¿somos', '¿vendreis', 'famosa', 'otono', 'aves', 'ponen', 'pala', '¿tambien', '¿podremos', 'conseguirlo', 'proseguir', 'atrapa', 'inteligentes', 'contacte', 'archivo', 'pasto', 'partelo', 'olvidaste', '¿entendio', 'odias', 'oyes', 'echas', 'prometes', 'reciclas', 'des', 'enfades', 'culpes', 'quejes', 'ayudes', 'levantes', 'forcejees', 'veas', 'suelta', 'agacha', 'espectaculo', 'mienten', 'peleen', 'filas', 'descansa', 'cambiarte', 'tardes', 'pasaselo', '¿han', 'antipatia', 'moreno', 'elevo', 'volantin', 'barba', 'arruinado', 'extrovertido', 'tirado', 'espaldas', 'gelatina', 'respeta', 'frutas', 'florista', 'prision', 'llegando', 'tarjeta', 'dolia', '¿cuan', 'hungara', 'crei', 'apuesto', 'merezco', 'avise', 'cedi', 'conducido', 'doy', 'honrado', 'empene', 'arrestaron', 'divorcie', 'nostalgico', 'garantizo', 'diverti', 'domingos', 'karaoke', 'acertijos', 'espinacas', 'escuincle', 'ganes', 'apresure', 'sencillamente', 'rendi', 'mantuve', 'castillos', 'pesca', 'trotar', 'fideos', 'picnic', 'rompecabezas', 'sashimi', 'mariscos', 'historias', 'tortugas', 'harvard', 'flores', 'lasana', 'puestas', 'galletitas', 'equivoque', 'regla', 'cigarrillo', 'bocadillo', 'sello', 'respuestas', 'cirugia', 'dejarlo', 'viajo', 'cien', 'declaro', 'castigue', 'crio', 'largues', 'calles', 'coreano', 'enseno', 'gire', 'vaso', 'perrito', 'palomitas', 'ventilador', 'secuestraron', 'capturado', 'ofendido', 'excitado', 'prosperare', 'desearia', 'directo', 'tomar', 'extra', 'reganare', 'invitare', 'diabetica', 'musico', 'sujeto', 'prisionero', 'ateo', 'anciano', 'asombrada', 'confiable', 'devastada', 'diplomatica', 'fascinada', 'sintiendo', 'divirtiendo', 'interesado', 'preparando', 'escondiendo', 'suficientemente', 'bencina', 'tanta', 'acostumbrado', 'rudo', 'demandaron', 'guiso', 'supiera', '¿tomas', 'timbre', 'ameno', 'planeado', 'estara', 'miercoles', 'clasico', 'reclamo', 'superior', 'identico', 'redundante', 'pesado', 'demasiada', 'vibrando', 'permanezca', 'crueles', 'inclinate', 'dejamelo', 'sala', 'responda', 'oirlo', 'valientes', 'continuemos', 'averiguemoslo', 'tina', 'practiquemos', 'levantemonos', 'suceda', 'simplifica', 'muchos', 'acompanarle', 'sentar', 'usar', 'avariciosos', 'muevase', 'articulaciones', 'abreme', 'trampilla', 'maletas', 'pase', 'ayudeme', 'abrelo', 'dime', 'pruebe', 'despiertese', 'subieron', 'demuestramelo', 'contador', 'reservame', 'enviame', '¿empezamos', '¿quiere', 'cultivo', 'enfermera', 'quieta', 'adinerada', 'teclea', 'cabezota', 'cerrar', '¿paramos', 'sientense', 'chismorrear', 'refunfunar', 'resistirte', 'chillar', 'llevaselo', 'devuelvelo', 'contanos', 'aspero', 'cambiara', 'cianuro', 'evidente', 'ilegal', 'frase', 'plastico', 'cantaban', 'ladraba', 'alzada', 'derritio', 'gotea', 'sirena', 'sono', 'cantaron', 'miradas', 'cruzaron', 'nuestras', 'autenticas', 'aplaudieron', 'preguntaron', 'molestan', 'compraron', 'volvieron', 'descubrieron', 'odiaban', 'amaban', 'encantaste', 'bienintencionados', 'discutieron', 'arruinaron', 'huelen', 'confian', 'ayudaran', 'atacaran', 'rotos', 'vacios', 'cambiaron', 'muerde', 'harpa', 'embrollo', 'estafa', 'espeluznante', 'esas', 'dados', 'billete', 'atate', 'cordones', 'disculpo', 'paralizado', 'despidio', 'dono', 'sangre', 'aproximo', 'asma', 'improviso', 'rubio', 'lacroso', 'enano', 'piloto', 'taimado', 'concentrado', 'temeroso', 'servicial', 'preso', 'idolo', 'servicio', 'temblando', 'frivolo', 'malcriado', 'quejando', 'aviso', 'leyo', 'acordo', 'copado', 'entendio', 'retratado', 'humilde', 'aterrado', 'luchara', 'cantara', 'encantador', 'colgado', 'nadando', 'salsa', 'pararme', 'enciende', 'volumen', 'adoptamos', 'medicos', 'pagarte', 'bebimos', 'perdonamos', 'necesitabamos', 'presentamos', 'voluntarios', 'enmarcados', 'llamaremos', 'averiguaremos', 'pintaremos', 'salvaremos', 'confiables', 'divorciados', 'famelicos', 'ingenuos', 'morimos', 'colgados', 'minuciosos', 'levantamos', 'golpeado', 'concepto', 'pais', 'chasco', 'pensamiento', 'podra', 'dedicas', 'ocurrira', '¿ahora', 'hara', 'mientes', 'haras', 'sonate', 'encantaba', 'podeis', 'andar', 'cambiaste', 'pagaste', 'ignorabas', 'negarte', 'tuviste', 'tenias', 'fraude', 'caprichoso', 'mojigato', 'chorro', 'increibles', 'entretenido', 'andas', 'superficial', 'flaco', 'zozobro', 'presentes', 'aburriendo', '¿estos', '¿terminamos', 'bolas', 'redondas', 'preciso', 'tripas', 'estupidos', 'acercalo', 'esposo', 'comprarme', 'probarmelo', '¿pueden', 'vernos', 'contribuir', 'oirme', 'oirnos', 'abrirlo', '¿podeis', 'mostrarme', 'atrapan', 'ratones', 'cajas', 'escotilla', 'cerrad', 'felicidades', 'defiendete', 'botaste', 'oiste', 'querias', 'echado', '¿dijiste', '¿viste', '¿demandaste', 'sabias', 'cava', '¿tenemos', '¿dudas', '¿comes', '¿come', '¿conoces', 'rap', '¿echas', 'recuerdas', 'crees', 'tengas', 'enoje', 'emborraches', 'interfieras', 'interrumpas', 'exageres', 'ridiculo', 'recuerdes', 'incluso', 'estuvieron', 'oraron', 'pildoras', 'locas', 'ponme', 'dales', 'damelas', 'pochoclo', 'tienda', 'senal', 'alcanzame', 'pudo', 'esperanzas', 'derrame', 'cerebral', 'vaqueros', 'toyota', 'camara', 'puesto', 'raqueta', 'disney', 'robot', 'menciono', 'rie', 'presiono', 'desafinado', 'whisky', 'tendencia', 'parado', 'nara', 'sobrevivira', 'comediante', 'primer', 'universidad', 'marido', 'rostro', 'ilumino', 'album', 'falsa', 'fascinante', 'humillante', 'terminara', 'muchachas', 'espana', 'desvistiendo', 'reserve', 'quebre', 'apanarmelas', 'sentir', 'rendirme', 'oir', 'evitarlo', 'deshacerlo', 'resfrie', 'capture', 'anguila', 'acobarde', 'cocine', 'dedo', 'seque', 'cabras', 'traicionada', 'febril', 'excluido', 'adivine', 'correctamente', 'politica', 'mapaches', 'reptiles', 'tomates', 'barbita', 'chivo', 'caspa', 'lapiceras', 'apurarme', 'automoviles', 'tambores', 'sirva', 'tobillo', 'codo', 'imagine', 'ganariamos', 'aprendi', 'dibujos', 'animados', 'escalada', 'comedias', 'berenjenas', 'festejar', 'casamientos', 'herir', 'conocido', 'ayudarla', 'ayudarlo', 'obedecer', 'decirselo', 'advertirle', 'internet', 'ducha', 'pastillas', 'tijeras', 'afeitarme', 'burle', 'cuentas', 'beisbol', 'campo', 'jugaba', 'jugue', 'cubierto', 'competi', 'sone', 'reconozco', 'corro', 'nuevamente', 'sacudi', 'arriesgue', 'lleve', 'dolar', 'devolucion', 'evidencias', 'petrificado', 'esceptico', 'seguire', 'ayudare', 'negare', 'estaria', 'agradecido', 'volveria', 'tenedor', 'arreglare', 'traere', 'ford', 'vendre', 'dejare', 'buscare', 'doble', 'premiare', 'entendere', 'cristiano', 'adicto', 'tv', 'carpintero', 'salvavidas', 'masoquista', 'ave', 'nocturna', 'ingeniero', 'suplicando', 'llamando', 'comprendiendo', 'daltonico', 'comodo', 'vuelvo', 'carcajeo', 'indefenso', 'extrovertida', 'banadera', 'bromeo', 'zurdo', 'miope', 'celosa', 'armado', 'desbordado', 'responsable', 'confundida', 'desmanado', 'modesto', 'farfullando', 'maestro', '¿respira', 'venenoso', 'doctora', '¿hoy', 'molesta', 'parecer', 'suceder', 'siglos', 'fabuloso', 'empeorara', 'llovera', 'callejon', 'seta', 'atajo', 'engendro', 'artificial', 'botado', 'imposible', 'inevitable', 'irrelevante', 'enganoso', 'refrescante', 'sofocante', 'solamente', 'pruebatela', 'envuelvalo', 'tenlo', 'practicando', 'guarde', 'koalas', 'plomo', 'metal', 'dejadle', 'limones', 'acidos', 'llevarlo', 'averiguarlo', 'celebremos', 'terminemos', 'barriletes', 'olvidemoslo', 'tomemos', 'llevemonos', 'emborrachemonos', 'alistemonos', 'colectivo', 'descansemos', 'quedemonos', 'paremos', 'intentemos', 'visitemos', 'equitativa', 'oficina', 'aflojate', 'achicalo', 'viuda', 'resplandeciente', 'veamonos', 'reunete', 'chirrian', 'olvides', 'botella', 'divertidas', 'aburren', 'prestame', 'continue', 'arregle', 'apresurate', 'recuerdamelo', 'repite', 'repitemelo', 'ensilla', 'cuida', 'vere', 'envielo', 'aereo', 'envialo', 'mandemelos', 'despreocupada', 'gracil', 'ato', 'quito', 'jadeando', 'brasilena', 'asertiva', 'piedad', 'muestra', 'mostraos', 'tosio', 'perdon', 'piensas', 'ortografia', 'roba', 'dejad', 'reniros', 'aspirina', 'durar', 'brinco', 'iglesia', 'pagoda', 'ninada', 'dudoso', 'vestido', 'personal', 'cordero', 'humedo', 'preciosa', 'abrio', 'motor', 'extinguio', 'hojas', 'luna', 'radar', 'calurosa', 'soldado', 'riesgo', 'geniales', 'hablaron', 'actores', 'melones', 'pilotos', 'lindos', 'amarillos', 'cenaron', 'liebre', 'temian', 'saludaron', 'tomaron', 'ignoraron', 'estupendos', 'vinieron', 'ataron', 'entendieron', 'quedaran', 'mataran', 'gustara', 'responderan', 'discutiendo', 'correctos', 'becarios', 'celosos', 'basura', 'chevere', 'final', 'regalos', 'tiraselo', 'limitado', 'eran', 'errar', 'horneo', 'cree', 'responsabilizo', 'pillo', 'persiguio', 'asfixio', 'aprobo', 'exagero', 'exagera', 'obtuvo', 'emociono', 'piano', 'musulman', 'banquero', 'cyborg', 'leyenda', 'maniaco', 'sangrando', 'creativo', 'chiflado', 'divorciado', 'desconfiado', 'amistoso', 'guapo', 'entrado', 'shock', 'insolente', 'inspirado', 'implicado', 'aprendiendo', 'socio', 'perverso', 'atarantado', 'meticuloso', 'ruidoso', 'entrenando', 'defraudo', 'mentido', 'vivia', 'tenso', 'fatigado', 'quizas', 'desfallecer', 'bromea', 'achucho', 'telefoneo', 'apiado', 'leia', 'novelas', 'suavemente', 'sentado', 'abatio', 'entiende', 'advirtio', 'enfermero', 'desorientado', 'artero', 'impactado', 'averiguara', 'recordara', 'confianza', 'gana', 'bostezar', 'destraba', 'cuidadosamente', 'arrestamos', 'metalico', 'contamos', 'crudo', 'visita', 'salimos', 'conversar', 'zona', 'picnics', 'waffles', 'pagamos', 'cantamos', 'ideas', 'andamos', 'justicia', 'votar', 'eramos', 'asesinados', 'detendremos', 'visitaremos', 'disponibles', 'fundidos', 'imparciales', 'objetivos', 'organizados', 'prisioneros', 'satisfechos', 'bravo', 'correras', 'zoologico', '¿cuales', 'individuo', 'muchacho', 'preguntaste', 'llorabas', 'corriste', 'sonamos', 'harias', 'escondas', 'decirnoslo', 'merecias', 'suertudo', 'alegrado', 'deberian', 'dormias', 'alcanzaras', 'descubriras', 'agradeceras', 'donnadie', 'decidido', 'inocentes', 'estancado', 'ladrando', 'zorro', 'accidentes', 'invisible', 'toda', 'lastimando', 'aplica', 'escrito', 'mago', 'sonrojando', 'bebiendo', 'congelando', '¿estudias', 'preguntate', 'atlantida', 'franco', 'osos', 'muerdete', 'cepillese', 'lentos', 'tocar', 'quedarnos', 'llamarlo', 'encontrarla', 'descubrirlo', 'ensenarme', 'carpeta', 'cerezas', 'sabiamente', 'persianas', 'cajon', 'ventana', 'unetenos', 'sentarte', 'consulte', 'seguid', 'cookie', 'puente', 'calle', 'papas', '¿pago', '¿dijeron', '¿encontraste', 'divertiste', '¿conocias', 'conociais', 'encontraste', 'votado', 'advertiste', 'inyeccion', 'hacelo', 'gustes', '¿lloras', '¿niegas', '¿alguna', 'descansas', '¿teneis', '¿necesitais', '¿queres', 'deberes', 'bruto', 'desanimado', 'bebais', 'exagereis', 'atrapen', 'ligero', 'comas', 'cable', 'rinas', 'desanimes', 'muecas', 'menciones', 'opongas', 'estafes', 'acuses', 'uses', 'dragones', 'molan', 'trace', 'bailaba', 'saltaron', 'rien', 'alegraron', 'triunfa', 'explicamelo', 'expliquese', 'pelea', 'deposito', '¿con', 'proposito', 'alejate', 'chance', 'martillo', 'entregame', 'danos', 'diviertete', 'garaje', 'escaleras', 'pasame', 'cruasan', 'tengais', 'ponche', 'decidiste', 'porto', 'infringio', 'alegria', 'merece', 'recientemente', 'repente', 'cumple', 'fascinaba', 'reparo', 'melena', 'picasso', 'largas', 'zanahorias', 'colgo', 'italiano', 'distraido', 'universitario', 'pijamas', 'sobrepeso', 'diario', 'naranjas', 'lentes', 'izo', 'endeudo', 'facilmente', 'comparte', 'volteo', 'ipad', 'persistente', 'pegar', 'arabe', 'barbaro', 'historiador', 'astuto', 'lisboa', 'envejeciendo', 'senil', 'inconsciente', 'salud', 'riqueza', 'ponerme', 'bici', 'bebete', 'furiosa', 'conten', 'respiracion', 'momentito', 'hierba', 'declara', 'melodramatico', 'mides', 'iba', 'crecido', 'aborrezco', 'ahogue', 'pasteles', 'bebido', 'contra', 'estupefacto', 'brasil', 'noruega', 'bruja', 'desempleado', 'relativamente', 'carino', 'convertido', 'empece', 'comienzo', 'inclinacion', 'golpee', 'rodilla', 'antes', 'apenas', 'mentes', 'moverlo', 'apice', 'quejarme', 'odiarte', 'oirte', 'alcanzar', 'mostrarte', 'pararle', 'agarre', 'gripe', 'matarte', 'ligera', 'aposta', 'simpatiza', 'relajarme', 'soledad', 'detalles', 'halagado', 'refrescado', 'comparto', 'gorra', 'quimica', 'hipocresia', 'granada', 'scooter', 'ardor', 'futuro', 'boligrafos', 'video', 'anular', 'cumpli', 'veinte', 'conseguir', 'patee', 'dejado', 'chocolate', 'idiomas', 'pop', 'astronomia', 'yemas', 'fortuna', 'cometi', 'desayuno', 'enfadar', 'agradecerselo', 'masaje', 'milagro', 'primeros', 'auxilios', 'jabon', 'computadora', 'pinte', 'plantado', 'arbol', 'violoncelo', 'flauta', 'apunte', 'milla', 'etiqueta', 'rehuse', 'arrepiento', 'aconsejen', 'dirijo', 'comprendo', 'punto', 'contuve', 'burlona', 'entendido', 'solia', 'visite', 'despidan', 'divorciarme', 'pancho', 'martini', 'jubilarme', 'asombrado', 'infeliz', 'intentare', 'callado', 'quejaria', 'ensalada', 'investigaria', 'apoyare', 'castigaran', 'batirte', 'comprobare', 'recogere', 'protegere', 'consultare', 'almohada', 'pueda', 'lavar', 'prima', 'ciudadano', 'traductor', 'quebrado', 'humor', 'anciana', 'registrando', 'decepcionado', 'almorzando', 'enloqueciendo', 'dispuesto', 'guardes', 'invitando', 'catolica', 'mendigo', 'delator', 'embaucando', 'suicida', 'orgulloso', 'hastiada', 'emocionada', 'nerviosa', 'relajada', 'mucha', 'ahorrando', 'dibujado', 'sentido', '¿verdad', 'contactar', '¿todo', 'contagioso', 'roja', 'flor', 'puzzle', 'dvd', 'llover', 'euros', 'enchinada', 'emboscada', 'lloviznaba', 'excesivo', 'medio', 'aterrador', 'llevara', 'horas', 'grupo', 'lluvioso', 'soleado', 'complicado', 'temporada', 'venados', 'oscurecido', 'droga', 'mono', 'logico', 'natural', 'sofa', 'guay', 'segunda', 'improbable', 'amargo', 'asia', 'mantengame', 'informado', 'dejadmelo', 'cargue', 'permiteme', 'repararlo', 'tratar', 'barrilete', 'probemos', 'almorcemos', 'olvidemos', 'pesquemos', 'candela', 'libertad', 'inmortal', 'eleccion', 'marimacho', 'encantadora', 'abrir', 'funcione', 'azules', 'adoloridos', 'frios', 'pequenita', 'elevado', 'quemadura', 'garganta', 'juguete', 'danado', 'pega', 'previno', 'ilesos', 'esfuerzo', 'consigue', 'recuerda', 'ensenado', 'erroneo', 'ventanas', 'ketchup', 'ridicula', 'mascotas', 'educado', 'pasate', 'sigame', 'retroceda', 'dese', 'hala', 'gatillo', 'envia', 'quejarse', 'precipitacion', 'articulo', 'tinto', 'respetate', 'venganza', 'roma', 'italia', 'dilo', 'oraciones', 'compartelo', 'compartilo', 'derroto', 'desprecia', 'divorcio', 'idolatraba', 'pianista', 'calcetines', 'rechazo', 'rechaza', 'monto', 'camello', 'cantaba', 'alegremente', 'melancolicamente', 'fijo', 'mirada', 'arduamente', 'promovida', 'venderla', 'mostranos', 'tamano', 'lamento', 'pongase', 'disculparte', 'evitarme', 'metiche', 'interferir', 'pellizcarme', 'asustar', 'presumir', 'sobarme', 'saquen', 'cordialmente', 'mochila', 'ayudado', 'asombroso', 'hermoso', 'discutible', 'asunto', 'problematico', 'revento', 'jaula', 'marron', 'tictac', 'cortina', 'telon', 'chirrio', 'jurado', 'desacuerdo', 'resulto', 'clara', 'bombilla', 'fundida', 'microfono', 'lechero', 'fiesta', 'piscina', 'carretera', 'congelada', 'oscura', 'show', 'despejado', 'amaino', 'aflojo', 'gemelas', 'curo', 'cabe', 'limite', 'lastiman', 'cantantes', 'degradaron', 'merecian', 'desprecian', 'desaparecieron', 'cavaron', 'tumba', 'sienten', 'casaron', 'sensatos', 'mintieron', 'confiaron', 'confiaban', 'comian', 'cederan', 'encontraran', 'acordaran', 'escapando', 'peleando', 'inmaduros', 'involucrados', 'traidores', 'pusieron', 'raras', 'piensalo', 'encaja', 'lujo', 'entrenador', 'relajante', 'sabotaje', 'faltaba', 'cds', 'admira', 'pierde', 'saciarse', 'evitaba', 'cuido', 'oiros', 'decidir', 'rehusarse', 'convencio', 'divirtio', 'tuberculosis', 'darse', 'perilla', 'coartada', 'pecas', 'insomnio', 'aceitunas', 'ignoro', 'fascista', 'luchador', 'patriota', 'plomero', 'recluso', 'campesino', 'refugiado', 'manipulador', 'cirujano', 'camionero', 'viudo', 'ambicioso', 'respirando', 'brillante', 'volviendo', 'excentrico', 'emocional', 'energico', 'honorable', 'ocultando', 'sincero', 'sobrino', 'obsesivo', 'perplejo', 'indeciso', 'debilitando', 'silbando', 'hockey', 'ponis', 'reggae', 'vela', 'prendio', 'horno', 'lucia', 'fiero', 'deportes', 'jamas', 'rescato', 'tronco', 'regano', 'hablaba', 'agradecio', 'zancadilleo', 'visito', 'alejo', 'pony', 'raptado', 'chismorreando', 'ejecutado', 'dudando', 'torturado', 'observo', 'observa', 'encontrara', 'amara', 'alegrara', 'aparecera', 'tendra', 'exito', 'entrara', 'trabajaba', 'llevarte', 'involucrado', 'tengan', 'riega', 'plantas', 'aceptamos', 'cheques', 'odiabamos', 'amabamos', 'confiamos', 'llegamos', 'competimos', 'vinimos', 'dependemos', 'molestamos', 'dimos', 'crisis', 'teoria', 'visitas', 'tiros', 'topamos', 'acabamos', 'tren', 'partida', 'referimos', 'pasada', 'evacuar', 'sentarnos', 'avisarle', 'retirarnos', 'lider', 'regreses', 'apegados', 'encallados', 'estudiabamos', 'entusiasmados', 'tristes', 'rescatados', 'encontraremos', 'sabremos', 'notificaremos', 'pagaremos', 'hablaremos', 'companeros', 'historiadores', 'socorristas', 'rodeados', 'pelicula', 'bonita', 'larga', 'sentis', 'desgracia', 'apuro', 'mudarnos', 'aparcar', 'empiezo', 'aduana', 'cuchilla', 'resto', 'cartera', 'correcta', 'estropeo', 'asesinado', 'hamlet', 'invitarian', 'vienes', 'viniste', 'renunciaste', 'quedaste', 'paraste', 'gritaste', 'estudias', 'ayudaras', 'acompanais', 'uniras', 'abandonaste', 'escapar', 'lidias', 'mereces', 'golpearon', 'entendiste', 'pulsera', 'mami', 'diriges', 'defraudaste', 'atrasaste', 'lleves', 'equivoques', 'decirmelo', 'pasatiempo', 'lees', 'salvado', 'deberiais', 'empezar', 'estuviste', 'morireis', 'ajustaras', 'establecidas', 'necesitaras', 'aburres', 'despistado', 'impacientes', 'necesario', 'autoridad', 'practico', 'propietario', 'sabio', 'engordado', 'enrojecida', 'mutilo', 'torrencial', 'agrega', 'ajusta', 'frenos', 'iguales', 'molestando', 'unico', 'arresto', 'america', 'respondame', 'velas', 'americanos', 'japoneses', '¿salis', 'libres', 'creyente', 'chef', 'sincera', 'demas', 'comportate', 'construyen', 'nidos', 'profundamente', 'ambulancia', 'hospital', 'llamad', 'mordida', 'probarme', '¿todos', 'rentar', 'solas', '¿oyes', 'firmar', 'ocuparte', 'coger', 'lazo', 'despedir', 'champana', 'click', 'enlace', 'codificar', 'insisto', 'admitelo', 'aprisa', 'tocala', 'callarte', 'crimen', 'repartenos', 'naipes', 'inminente', 'defendeos', 'pases', 'vueltas', '¿desperte', 'desperte', '¿hirio', '¿beso', '¿conocia', '¿fracaso', 'zumo', '¿oiste', 'besado', '¿sabias', '¿viviste', 'habias', '¿las', 'hormigas', 'ries', 'mascota', 'latin', '¿necesitas', '¿necesita', 'rosa', '¿hueles', '¿entendiste', 'porque', '¿importa', 'cambies', 'decepciones', 'busques', 'fies', 'repitas', 'amenaces', 'despiertes', 'armas', 'terror', 'sobrevivieron', 'moriran', 'llene', 'formulario', 'cuelga', 'arrodillate', 'cuchara', 'seguida', 'largate', 'senores', 'noches', 'senoritas', 'consejera', 'heno', 'fiera', 'chantajeo', 'bloqueo', 'mejoro', 'tres', 'marrones', 'castano', 'remordimiento', 'casas', 'biologo', 'poeta', 'nato', 'temerario', 'verdadero', 'cientifico', 'influyente', 'introvertido', 'misma', 'fumador', 'enviar', 'texto', 'suicido', 'encima', 'osaka', 'reputacion', 'traslado', 'haber', 'pidio', 'posee', 'tierra', 'empujo', 'rehuso', 'marinero', 'sacudio', 'ruso', 'fosforo', 'exterior', 'vitaminas', 'decia', 'saco', 'foto', 'giro', 'convirtio', 'torcio', 'violo', 'sonrisas', 'encarcelado', 'encolerizado', 'volvera', 'usaba', 'pantalones', 'guiones', 'recuperara', 'conductor', 'periodista', 'ideal', 'sobreactuando', 'verdaderamente']\n"
          ],
          "name": "stdout"
        }
      ]
    },
    {
      "cell_type": "code",
      "metadata": {
        "id": "kqZ9H1KBuVc6",
        "colab_type": "code",
        "colab": {}
      },
      "source": [
        "from sklearn.model_selection import train_test_split\n",
        "\n",
        "X_train , X_test , Y_train, Y_test = train_test_split(encoder_input_sequences, decoder_input_sequences , test_size=0.2)"
      ],
      "execution_count": 0,
      "outputs": []
    },
    {
      "cell_type": "markdown",
      "metadata": {
        "id": "CuQ7B78BhLrx",
        "colab_type": "text"
      },
      "source": [
        "**Task 3 (5 marks)** \n",
        "\n",
        "---\n",
        "\n",
        "---\n",
        "\n",
        "*  Assign each unique word an integer value (5 marks).\n",
        "*  Create word embedding for your vocabulary using pre-trained Glove embeddings (10 marks) (http://nlp.stanford.edu/data/glove.6B.zip)\n",
        "* Print the first line of the embeddings (see below) "
      ]
    },
    {
      "cell_type": "code",
      "metadata": {
        "id": "pPq-c1tqfoRO",
        "colab_type": "code",
        "colab": {}
      },
      "source": [
        "s_word_dict = {}\n",
        "for i,w in enumerate(Source_vocabulary):\n",
        "    s_word_dict[w] = i"
      ],
      "execution_count": 0,
      "outputs": []
    },
    {
      "cell_type": "code",
      "metadata": {
        "id": "tqEWYrBiykb4",
        "colab_type": "code",
        "colab": {}
      },
      "source": [
        "t_word_dict = {}\n",
        "for i,w in enumerate(target_vocabulary):\n",
        "    t_word_dict[w] = i"
      ],
      "execution_count": 0,
      "outputs": []
    },
    {
      "cell_type": "code",
      "metadata": {
        "id": "QuIr5-zMyBIo",
        "colab_type": "code",
        "outputId": "fdca8ce7-fea7-4b8c-d64a-5758b4478953",
        "colab": {
          "base_uri": "https://localhost:8080/",
          "height": 74
        }
      },
      "source": [
        "print(s_word_dict)\n",
        "print(t_word_dict)"
      ],
      "execution_count": 0,
      "outputs": [
        {
          "output_type": "stream",
          "text": [
            "{'i': 0, 'tom': 1, 'is': 2, 'you': 3, 'a': 4, 'it': 5, 'he': 6, 'im': 7, 'me': 8, 'the': 9, 'this': 10, 'its': 11, 'we': 12, 'my': 13, 'was': 14, 'do': 15, 'to': 16, 'are': 17, 'that': 18, 'go': 19, 'can': 20, 'dont': 21, 'she': 22, 'they': 23, 'not': 24, 'like': 25, 'were': 26, 'have': 27, 'here': 28, 'in': 29, 'be': 30, 'on': 31, 'youre': 32, 'him': 33, 'your': 34, 'up': 35, 'did': 36, 'thats': 37, 'come': 38, 'what': 39, 'ill': 40, 'need': 41, 'know': 42, 'mary': 43, 'love': 44, 'want': 45, 'hes': 46, 'now': 47, 'no': 48, 'who': 49, 'am': 50, 'toms': 51, 'lets': 52, 'cant': 53, 'get': 54, 'help': 55, 'see': 56, 'got': 57, 'well': 58, 'let': 59, 'please': 60, 'stop': 61, 'out': 62, 'has': 63, 'look': 64, 'at': 65, 'theyre': 66, 'how': 67, 'all': 68, 'us': 69, 'very': 70, 'home': 71, 'too': 72, 'her': 73, 'one': 74, 'there': 75, 'so': 76, 'will': 77, 'good': 78, 'hate': 79, 'just': 80, 'give': 81, 'an': 82, 'for': 83, 'saw': 84, 'car': 85, 'dog': 86, 'try': 87, 'isnt': 88, 'must': 89, 'feel': 90, 'work': 91, 'back': 92, 'his': 93, 'happy': 94, 'eat': 95, 'why': 96, 'may': 97, 'likes': 98, 'keep': 99, 'take': 100, 'leave': 101, 'wait': 102, 'didnt': 103, 'stay': 104, 'with': 105, 'them': 106, 'had': 107, 'lost': 108, 'ask': 109, 'call': 110, 'down': 111, 'whats': 112, 'made': 113, 'hurt': 114, 'time': 115, 'say': 116, 'right': 117, 'old': 118, 'book': 119, 'came': 120, 'again': 121, 'looks': 122, 'job': 123, 'pay': 124, 'ive': 125, 'tired': 126, 'read': 127, 'alone': 128, 'bad': 129, 'money': 130, 'wheres': 131, 'wont': 132, 'busy': 133, 'sick': 134, 'ready': 135, 'man': 136, 'still': 137, 'lot': 138, 'never': 139, 'went': 140, 'new': 141, 'died': 142, 'talk': 143, 'big': 144, 'close': 145, 'nice': 146, 'ok': 147, 'some': 148, 'watch': 149, 'drunk': 150, 'felt': 151, 'nobody': 152, 'more': 153, 'make': 154, 'wasnt': 155, 'whos': 156, 'fast': 157, 'mine': 158, 'wrong': 159, 'where': 160, 'ate': 161, 'going': 162, 'cold': 163, 'shes': 164, 'does': 165, 'loves': 166, 'left': 167, 'tell': 168, 'late': 169, 'sit': 170, 'die': 171, 'run': 172, 'angry': 173, 'weve': 174, 'hungry': 175, 'these': 176, 'today': 177, 'everyone': 178, 'won': 179, 'open': 180, 'fun': 181, 'done': 182, 'over': 183, 'live': 184, 'of': 185, 'swim': 186, 'play': 187, 'boy': 188, 'should': 189, 'nothing': 190, 'our': 191, 'away': 192, 'hold': 193, 'fine': 194, 'speak': 195, 'cry': 196, 'walk': 197, 'life': 198, 'find': 199, 'sad': 200, 'said': 201, 'turn': 202, 'sleep': 203, 'and': 204, 'easy': 205, 'shot': 206, 'hot': 207, 'dead': 208, 'called': 209, 'cat': 210, 'key': 211, 'boston': 212, 'off': 213, 'sing': 214, 'true': 215, 'hear': 216, 'looked': 217, 'seems': 218, 'about': 219, 'way': 220, 'hurry': 221, 'trust': 222, 'win': 223, 'miss': 224, 'awake': 225, 'id': 226, 'drink': 227, 'two': 228, 'fat': 229, 'mean': 230, 'rich': 231, 'hurts': 232, 'broke': 233, 'yours': 234, 'mad': 235, 'bring': 236, 'better': 237, 'coming': 238, 'young': 239, 'fish': 240, 'room': 241, 'ran': 242, 'hit': 243, 'by': 244, 'free': 245, 'hard': 246, 'gave': 247, 'tv': 248, 'knows': 249, 'bit': 250, 'helped': 251, 'married': 252, 'crying': 253, 'could': 254, 'needs': 255, 'wants': 256, 'lied': 257, 'quit': 258, 'show': 259, 'drive': 260, 'put': 261, 'bed': 262, 'move': 263, 'early': 264, 'tall': 265, 'found': 266, 'great': 267, 'bus': 268, 'day': 269, 'rest': 270, 'hat': 271, 'son': 272, 'yourself': 273, 'french': 274, 'only': 275, 'name': 276, 'listen': 277, 'shy': 278, 'lie': 279, 'stand': 280, 'knew': 281, 'answer': 282, 'loved': 283, 'wine': 284, 'remember': 285, 'buy': 286, 'working': 287, 'theres': 288, 'theyll': 289, 'almost': 290, 'when': 291, 'house': 292, 'friend': 293, 'from': 294, 'fell': 295, 'wake': 296, 'real': 297, 'write': 298, 'hope': 299, 'crazy': 300, 'first': 301, 'lying': 302, 'think': 303, 'told': 304, 'needed': 305, 'lucky': 306, 'doctor': 307, 'dream': 308, 'enjoy': 309, 'arent': 310, 'sat': 311, 'safe': 312, 'works': 313, 'cook': 314, 'start': 315, 'food': 316, 'boring': 317, 'stupid': 318, 'heard': 319, 'reading': 320, 'hand': 321, 'idea': 322, 'coffee': 323, 'wife': 324, 'everybody': 325, 'father': 326, 'care': 327, 'really': 328, 'smiled': 329, 'red': 330, 'soon': 331, 'follow': 332, 'blind': 333, 'check': 334, 'tea': 335, 'yes': 336, 'study': 337, 'gone': 338, 'cats': 339, 'both': 340, 'bored': 341, 'naive': 342, 'enough': 343, 'things': 344, 'met': 345, 'those': 346, 'bag': 347, 'doesnt': 348, 'began': 349, 'sang': 350, 'cool': 351, 'fair': 352, 'perfect': 353, 'quiet': 354, 'full': 355, 'kiss': 356, 'dogs': 357, 'forget': 358, 'men': 359, 'eating': 360, 'later': 361, 'smoke': 362, 'beer': 363, 'change': 364, 'trapped': 365, 'monday': 366, 'funny': 367, 'school': 368, 'understand': 369, 'best': 370, 'singing': 371, 'short': 372, 'joking': 373, 'lunch': 374, 'already': 375, 'been': 376, 'fire': 377, 'kind': 378, 'tried': 379, 'long': 380, 'weak': 381, 'helps': 382, 'inside': 383, 'hows': 384, 'laughed': 385, 'patient': 386, 'cut': 387, 'liked': 388, 'sleepy': 389, 'youll': 390, 'anybody': 391, 'dumb': 392, 'milk': 393, 'clean': 394, 'joke': 395, 'dance': 396, 'arrived': 397, 'sure': 398, 'myself': 399, 'hates': 400, 'lawyer': 401, 'door': 402, 'deal': 403, 'kept': 404, 'girl': 405, 'hair': 406, 'hang': 407, 'agree': 408, 'shut': 409, 'fix': 410, 'weird': 411, 'sorry': 412, 'step': 413, 'serious': 414, 'slowly': 415, 'ice': 416, 'last': 417, 'hero': 418, 'liar': 419, 'normal': 420, 'youve': 421, 'closer': 422, 'count': 423, 'strong': 424, 'bought': 425, 'hide': 426, 'woman': 427, 'nervous': 428, 'rain': 429, 'cheated': 430, 'pen': 431, 'rules': 432, 'itll': 433, 'talking': 434, 'pretty': 435, 'boss': 436, 'always': 437, 'own': 438, 'took': 439, 'fault': 440, 'touch': 441, 'keys': 442, 'betrayed': 443, 'thanks': 444, 'beat': 445, 'fired': 446, 'wash': 447, 'brave': 448, 'grab': 449, 'cute': 450, 'forgot': 451, 'use': 452, 'bald': 453, 'poor': 454, 'birds': 455, 'fly': 456, 'dying': 457, 'dark': 458, 'cried': 459, 'tomll': 460, 'along': 461, 'god': 462, 'head': 463, 'meat': 464, 'trying': 465, 'kidding': 466, 'smell': 467, 'luck': 468, 'fight': 469, 'meet': 470, 'snow': 471, 'baffled': 472, 'blue': 473, 'quickly': 474, 'books': 475, 'water': 476, 'afraid': 477, 'lonely': 478, 'confused': 479, 'seen': 480, 'someone': 481, 'sweet': 482, 'something': 483, 'asleep': 484, 'plan': 485, 'people': 486, 'horses': 487, 'mom': 488, 'teacher': 489, 'dry': 490, 'everything': 491, 'fishing': 492, 'much': 493, 'word': 494, 'phone': 495, 'eyes': 496, 'canadian': 497, 'doing': 498, 'yet': 499, 'wet': 500, 'stayed': 501, 'talked': 502, 'worked': 503, 'thank': 504, 'stood': 505, 'idiot': 506, 'around': 507, 'careful': 508, 'face': 509, 'cruel': 510, 'hey': 511, 'wrote': 512, 'moving': 513, 'single': 514, 'alive': 515, 'walked': 516, 'begin': 517, 'as': 518, 'seat': 519, 'asked': 520, 'often': 521, 'waiting': 522, 'broken': 523, 'secret': 524, 'talks': 525, 'send': 526, 'shall': 527, 'changed': 528, 'once': 529, 'heres': 530, 'gun': 531, 'sleeping': 532, 'studying': 533, 'running': 534, 'smoking': 535, 'small': 536, 'dreaming': 537, 'tomorrow': 538, 'kill': 539, 'caught': 540, 'japanese': 541, 'became': 542, 'guilty': 543, 'trusted': 544, 'budge': 545, 'listening': 546, 'might': 547, 'duty': 548, 'friends': 549, 'which': 550, 'lives': 551, 'correct': 552, 'tie': 553, 'game': 554, 'ones': 555, 'hi': 556, 'smile': 557, 'hug': 558, 'calm': 559, 'slow': 560, 'moved': 561, 'join': 562, 'guys': 563, 'failed': 564, 'phoned': 565, 'waited': 566, 'next': 567, 'paid': 568, 'warn': 569, 'catch': 570, 'smart': 571, 'hiding': 572, 'skinny': 573, 'town': 574, 'thatll': 575, 'missed': 576, 'hated': 577, 'strange': 578, 'news': 579, 'naked': 580, 'dancing': 581, 'excited': 582, 'doll': 583, 'simple': 584, 'twins': 585, 'bear': 586, 'outside': 587, 'jealous': 588, 'mind': 589, 'drank': 590, 'music': 591, 'women': 592, 'misled': 593, 'sue': 594, 'ears': 595, 'divorced': 596, 'thrilled': 597, 'break': 598, 'useless': 599, 'point': 600, 'pale': 601, 'together': 602, 'sells': 603, 'beautiful': 604, 'kid': 605, 'dinner': 606, 'owe': 607, 'rescued': 608, 'student': 609, 'danger': 610, 'famous': 611, 'horse': 612, 'somebody': 613, 'law': 614, 'map': 615, 'turned': 616, 'six': 617, 'winning': 618, 'seem': 619, 'towel': 620, 'laughing': 621, 'rather': 622, 'guy': 623, 'continue': 624, 'family': 625, 'shoes': 626, 'seemed': 627, 'watching': 628, 'killed': 629, 'into': 630, 'hands': 631, 'himself': 632, 'jump': 633, 'hello': 634, 'oh': 635, 'relax': 636, 'shoot': 637, 'slept': 638, 'ahead': 639, 'deep': 640, 'refuse': 641, 'lazy': 642, 'okay': 643, 'save': 644, 'hers': 645, 'ours': 646, 'walks': 647, 'sign': 648, 'drove': 649, 'anyone': 650, 'yell': 651, 'envy': 652, 'promised': 653, 'screamed': 654, 'survived': 655, 'white': 656, 'problem': 657, 'cheese': 658, 'cheat': 659, 'ugly': 660, 'finish': 661, 'curious': 662, 'share': 663, 'hired': 664, 'cars': 665, 'gas': 666, 'cooking': 667, 'healthy': 668, 'unlucky': 669, 'saved': 670, 'song': 671, 'wish': 672, 'woke': 673, 'hugged': 674, 'kissed': 675, 'cheered': 676, 'escaped': 677, 'evil': 678, 'eggs': 679, 'team': 680, 'age': 681, 'anything': 682, 'doubts': 683, 'cab': 684, 'finished': 685, 'innocent': 686, 'restless': 687, 'trap': 688, 'black': 689, 'amusing': 690, 'looking': 691, 'writing': 692, 'arm': 693, 'leg': 694, 'ignored': 695, 'english': 696, 'type': 697, 'believe': 698, 'deserved': 699, 'thirsty': 700, 'dad': 701, 'prefer': 702, 'prove': 703, 'easygoing': 704, 'important': 705, 'charge': 706, 'satisfied': 707, 'worse': 708, 'minute': 709, 'boat': 710, 'cheap': 711, 'cup': 712, 'second': 713, 'robbed': 714, 'insane': 715, 'breathe': 716, 'cows': 717, 'genius': 718, 'apple': 719, 'sisters': 720, 'raise': 721, 'glasses': 722, 'if': 723, 'wonderful': 724, 'brother': 725, 'sore': 726, 'truth': 727, 'wore': 728, 'brothers': 729, 'side': 730, 'would': 731, 'trouble': 732, 'end': 733, 'born': 734, 'dangerous': 735, 'sky': 736, 'mouth': 737, 'speaks': 738, 'person': 739, 'war': 740, 'drop': 741, 'goodbye': 742, 'bowed': 743, 'push': 744, 'jumped': 745, 'warm': 746, 'odd': 747, 'lies': 748, 'after': 749, 'fantastic': 750, 'ski': 751, 'ignore': 752, 'far': 753, 'tight': 754, 'then': 755, 'voted': 756, 'wholl': 757, 'quick': 758, 'doubt': 759, 'guess': 760, 'resigned': 761, 'scared': 762, 'eaten': 763, 'empty': 764, 'green': 765, 'magic': 766, 'night': 767, 'vote': 768, 'deaf': 769, 'tough': 770, 'fail': 771, 'prepared': 772, 'thorough': 773, 'shout': 774, 'worry': 775, 'bread': 776, 'rice': 777, 'golf': 778, 'kids': 779, 'sell': 780, 'psyched': 781, 'worried': 782, 'happened': 783, 'rule': 784, 'thief': 785, 'huge': 786, 'refused': 787, 'upset': 788, 'pain': 789, 'whose': 790, 'nuts': 791, 'egg': 792, 'lose': 793, 'half': 794, 'kicked': 795, 'framed': 796, 'beans': 797, 'sushi': 798, 'bet': 799, 'writer': 800, 'adult': 801, 'angel': 802, 'pregnant': 803, 'shopping': 804, 'worn': 805, 'deer': 806, 'fake': 807, 'gross': 808, 'snowing': 809, 'feet': 810, 'box': 811, 'cake': 812, 'canceled': 813, 'losing': 814, 'rude': 815, 'rush': 816, 'bird': 817, 'fill': 818, 'pinched': 819, 'smells': 820, 'adorable': 821, 'comes': 822, 'nose': 823, 'explain': 824, 'badly': 825, 'soccer': 826, 'tennis': 827, 'spring': 828, 'supper': 829, 'bath': 830, 'week': 831, 'advice': 832, 'respect': 833, 'light': 834, 'forgetful': 835, 'diet': 836, 'business': 837, 'unfair': 838, 'foot': 839, 'line': 840, 'babbling': 841, 'copy': 842, 'happen': 843, 'adores': 844, 'helping': 845, 'special': 846, 'staying': 847, 'sound': 848, 'baby': 849, 'racist': 850, 'year': 851, 'also': 852, 'sons': 853, 'arrested': 854, 'parties': 855, 'truck': 856, 'chicken': 857, 'teach': 858, 'sweating': 859, 'wide': 860, 'their': 861, 'heavy': 862, 'learn': 863, 'desk': 864, 'bill': 865, 'missing': 866, 'wed': 867, 'hopeless': 868, 'bite': 869, 'carefully': 870, 'honest': 871, 'writes': 872, 'lit': 873, 'choice': 874, 'pencil': 875, 'letter': 876, 'wanted': 877, 'bank': 878, 'city': 879, 'noise': 880, 'maybe': 881, 'tonight': 882, 'yourselves': 883, 'place': 884, 'paper': 885, 'wept': 886, 'fit': 887, 'welcome': 888, 'brief': 889, 'spoke': 890, 'agreed': 891, 'thin': 892, 'runs': 893, 'swam': 894, 'awful': 895, 'fainted': 896, 'burned': 897, 'stinks': 898, 'aboard': 899, 'carry': 900, 'choose': 901, 'forgive': 902, 'hung': 903, 'human': 904, 'faster': 905, 'happens': 906, 'cd': 907, 'sharp': 908, 'thisll': 909, 'danced': 910, 'drives': 911, 'obeyed': 912, 'yelled': 913, 'cds': 914, 'even': 915, 'punctual': 916, 'laugh': 917, 'jerk': 918, 'apologize': 919, 'blame': 920, 'fruit': 921, 'math': 922, 'soup': 923, 'cash': 924, 'overslept': 925, 'dizzy': 926, 'loser': 927, 'leaving': 928, 'sloshed': 929, 'harp': 930, 'mess': 931, 'party': 932, 'many': 933, 'return': 934, 'fox': 935, 'decided': 936, 'drowned': 937, 'relaxed': 938, 'shouted': 939, 'act': 940, 'ship': 941, 'invited': 942, 'attentive': 943, 'realistic': 944, 'fear': 945, 'or': 946, 'exist': 947, 'another': 948, 'dieting': 949, 'annoying': 950, 'romantic': 951, 'apples': 952, 'faint': 953, 'chess': 954, 'honey': 955, 'games': 956, 'lion': 957, 'warned': 958, 'ex': 959, 'actor': 960, 'doubtful': 961, 'drowning': 962, 'gullible': 963, 'amazing': 964, 'walking': 965, 'lifes': 966, 'closely': 967, 'quietly': 968, 'pull': 969, 'shame': 970, 'control': 971, 'stopped': 972, 'boys': 973, 'theyve': 974, 'answered': 975, 'harsh': 976, 'silly': 977, 'applauded': 978, 'closed': 979, 'waste': 980, 'sent': 981, 'mistaken': 982, 'skate': 983, 'dishes': 984, 'deny': 985, 'few': 986, 'sec': 987, 'admired': 988, 'american': 989, 'caused': 990, 'contributed': 991, 'despise': 992, 'winter': 993, 'ring': 994, 'sports': 995, 'nearly': 996, 'mouse': 997, 'sold': 998, 'furious': 999, 'watched': 1000, 'exhausted': 1001, 'painful': 1002, 'gets': 1003, 'takes': 1004, 'exciting': 1005, 'treat': 1006, 'lock': 1007, 'clearly': 1008, 'fighting': 1009, 'stuff': 1010, 'breath': 1011, 'creepy': 1012, 'girls': 1013, 'rose': 1014, 'japan': 1015, 'stingy': 1016, 'remembers': 1017, 'trusts': 1018, 'adopted': 1019, 'injured': 1020, 'moment': 1021, 'meant': 1022, 'cousins': 1023, 'nonsense': 1024, 'ball': 1025, 'dinners': 1026, 'complain': 1027, 'golfer': 1028, 'uncle': 1029, 'scolded': 1030, 'slapped': 1031, 'animal': 1032, 'borrow': 1033, 'brought': 1034, 'stroke': 1035, 'spiders': 1036, 'cookies': 1037, 'travel': 1038, 'five': 1039, 'handle': 1040, 'behind': 1041, 'feeling': 1042, 'likely': 1043, 'sounds': 1044, 'christmas': 1045, 'mistake': 1046, 'risky': 1047, 'tag': 1048, 'cooks': 1049, 'misses': 1050, 'sugar': 1051, 'summer': 1052, 'helpful': 1053, 'blew': 1054, 'ticket': 1055, 'says': 1056, 'stranded': 1057, 'swimming': 1058, 'causes': 1059, 'paris': 1060, 'painted': 1061, 'speaking': 1062, 'fool': 1063, 'trip': 1064, 'everyones': 1065, 'mother': 1066, 'gloomy': 1067, 'tokyo': 1068, 'couldnt': 1069, 'terrible': 1070, 'homework': 1071, 'played': 1072, 'bell': 1073, 'every': 1074, 'shook': 1075, 'totally': 1076, 'able': 1077, 'getting': 1078, 'quite': 1079, 'sister': 1080, 'radio': 1081, 'matter': 1082, 'pass': 1083, 'repeat': 1084, 'mail': 1085, 'disappeared': 1086, 'singer': 1087, 'cards': 1088, 'someones': 1089, 'table': 1090, 'pathetic': 1091, 'air': 1092, 'gray': 1093, 'russian': 1094, 'hotel': 1095, 'enemy': 1096, 'guest': 1097, 'conscious': 1098, 'cousin': 1099, 'any': 1100, 'students': 1101, 'ever': 1102, 'bicycle': 1103, 'legs': 1104, 'keeps': 1105, 'debt': 1106, 'france': 1107, 'grown': 1108, 'park': 1109, 'little': 1110, 'brown': 1111, 'storm': 1112, 'traitor': 1113, 'everythings': 1114, 'attack': 1115, 'awesome': 1116, 'cheer': 1117, 'tries': 1118, 'humor': 1119, 'resign': 1120, 'sighed': 1121, 'tidy': 1122, 'wise': 1123, 'aim': 1124, 'bless': 1125, 'shaved': 1126, 'dj': 1127, 'exhaled': 1128, 'kneeled': 1129, 'tripped': 1130, 'snowed': 1131, 'loosen': 1132, 'course': 1133, 'above': 1134, 'seize': 1135, 'cares': 1136, 'dozed': 1137, 'facts': 1138, 'burns': 1139, 'admit': 1140, 'chuckled': 1141, 'art': 1142, 'twin': 1143, 'buying': 1144, 'clumsy': 1145, 'greedy': 1146, 'windy': 1147, 'jesus': 1148, 'notes': 1149, 'lift': 1150, 'alert': 1151, 'aside': 1152, 'flies': 1153, 'agrees': 1154, 'cheats': 1155, 'drinks': 1156, 'fought': 1157, 'prayed': 1158, 'glad': 1159, 'decide': 1160, 'creative': 1161, 'discreet': 1162, 'tolerant': 1163, 'contact': 1164, 'dressed': 1165, 'straight': 1166, 'grew': 1167, 'guts': 1168, 'nasty': 1169, 'dozing': 1170, 'jazz': 1171, 'rock': 1172, 'taxes': 1173, 'lips': 1174, 'ufo': 1175, 'engaged': 1176, 'finicky': 1177, 'jail': 1178, 'jittery': 1179, 'selfish': 1180, 'through': 1181, 'memorize': 1182, 'card': 1183, 'blushed': 1184, 'crashed': 1185, 'giggled': 1186, 'listens': 1187, 'teaches': 1188, 'bore': 1189, 'pity': 1190, 'confident': 1191, 'objective': 1192, 'boil': 1193, 'anytime': 1194, 'forward': 1195, 'snore': 1196, 'scream': 1197, 'safely': 1198, 'upstairs': 1199, 'morning': 1200, 'snack': 1201, 'avoids': 1202, 'arrogant': 1203, 'horrible': 1204, 'admire': 1205, 'chinese': 1206, 'praying': 1207, 'apologized': 1208, 'lip': 1209, 'opera': 1210, 'candy': 1211, 'pizza': 1212, 'trips': 1213, 'paint': 1214, 'star': 1215, 'wonder': 1216, 'risk': 1217, 'priest': 1218, 'anorexic': 1219, 'autistic': 1220, 'barefoot': 1221, 'famished': 1222, 'freezing': 1223, 'grateful': 1224, 'hesitant': 1225, 'rebel': 1226, 'outraged': 1227, 'relieved': 1228, 'stubborn': 1229, 'thinking': 1230, 'solid': 1231, 'iron': 1232, 'burn': 1233, 'curse': 1234, 'trick': 1235, 'digging': 1236, 'smiling': 1237, 'goes': 1238, 'lawn': 1239, 'jaw': 1240, 'ended': 1241, 'sued': 1242, 'louder': 1243, 'softly': 1244, 'focused': 1245, 'arguing': 1246, 'whining': 1247, 'yelling': 1248, 'dreams': 1249, 'command': 1250, 'bores': 1251, 'cop': 1252, 'loyal': 1253, 'picky': 1254, 'witty': 1255, 'listened': 1256, 'panicked': 1257, 'vanished': 1258, 'stoned': 1259, 'strict': 1260, 'shock': 1261, 'built': 1262, 'pays': 1263, 'ink': 1264, 'years': 1265, 'passed': 1266, 'scare': 1267, 'pig': 1268, 'cops': 1269, 'beware': 1270, 'draw': 1271, 'wins': 1272, 'dug': 1273, 'hole': 1274, 'sexist': 1275, 'demented': 1276, 'accept': 1277, 'coughing': 1278, 'sneezing': 1279, 'part': 1280, 'steal': 1281, 'bmw': 1282, 'exaggerated': 1283, 'fed': 1284, 'freaked': 1285, 'bomb': 1286, 'cancer': 1287, 'camels': 1288, 'skiing': 1289, 'trains': 1290, 'tulips': 1291, 'hiking': 1292, 'nature': 1293, 'crown': 1294, 'queen': 1295, 'volunteered': 1296, 'unarmed': 1297, 'allow': 1298, 'witness': 1299, 'addict': 1300, 'artist': 1301, 'orphan': 1302, 'desperate': 1303, 'impartial': 1304, 'impatient': 1305, 'impressed': 1306, 'intrigued': 1307, 'motivated': 1308, 'uninsured': 1309, 'improved': 1310, 'returned': 1311, 'private': 1312, 'raining': 1313, 'wig': 1314, 'legal': 1315, 'gag': 1316, 'apart': 1317, 'gift': 1318, 'hoax': 1319, 'ironic': 1320, 'saturday': 1321, 'weapon': 1322, 'loud': 1323, 'worth': 1324, 'gate': 1325, 'offer': 1326, 'aches': 1327, 'neck': 1328, 'peace': 1329, 'russia': 1330, 'gentle': 1331, 'model': 1332, 'beside': 1333, 'shouting': 1334, 'suit': 1335, 'sweep': 1336, 'number': 1337, 'tastes': 1338, 'absurd': 1339, 'clever': 1340, 'freaky': 1341, 'theirs': 1342, 'cow': 1343, 'absent': 1344, 'fierce': 1345, 'winded': 1346, 'scares': 1347, 'dirty': 1348, 'obey': 1349, 'violent': 1350, 'snoring': 1351, 'floor': 1352, 'survive': 1353, 'lawyers': 1354, 'sinking': 1355, 'relief': 1356, 'thinks': 1357, 'calling': 1358, 'coke': 1359, 'aint': 1360, 'lay': 1361, 'deeply': 1362, 'grass': 1363, 'hasty': 1364, 'knife': 1365, 'form': 1366, 'hint': 1367, 'accelerated': 1368, 'flew': 1369, 'kite': 1370, 'plays': 1371, 'surrendered': 1372, 'abroad': 1373, 'depressed': 1374, 'deserve': 1375, 'dislike': 1376, 'honored': 1377, 'homesick': 1378, 'cough': 1379, 'hunch': 1380, 'ranch': 1381, 'mahjong': 1382, 'picnics': 1383, 'harm': 1384, 'favor': 1385, 'plead': 1386, 'punished': 1387, 'usually': 1388, 'popcorn': 1389, 'abducted': 1390, 'bleeding': 1391, 'insulted': 1392, 'beginner': 1393, 'astonished': 1394, 'fascinated': 1395, 'meditating': 1396, 'remodeling': 1397, 'speechless': 1398, 'undressing': 1399, 'used': 1400, 'earned': 1401, 'possible': 1402, 'sale': 1403, 'gimmick': 1404, 'excuse': 1405, 'delicious': 1406, 'different': 1407, 'hour': 1408, 'large': 1409, 'heart': 1410, 'ache': 1411, 'nobodys': 1412, 'hatch': 1413, 'prepare': 1414, 'prices': 1415, 'choked': 1416, 'dumped': 1417, 'fooled': 1418, 'roses': 1419, 'bike': 1420, 'nurse': 1421, 'teased': 1422, 'beauty': 1423, 'appeared': 1424, 'farce': 1425, 'immoral': 1426, 'obscene': 1427, 'suicide': 1428, 'flag': 1429, 'bother': 1430, 'ruined': 1431, 'throw': 1432, 'intervened': 1433, 'ashamed': 1434, 'devious': 1435, 'naughty': 1436, 'shallow': 1437, 'wounded': 1438, 'understood': 1439, 'charming': 1440, 'plenty': 1441, 'tragedy': 1442, 'clock': 1443, 'wealthy': 1444, 'present': 1445, 'ghost': 1446, 'bees': 1447, 'suits': 1448, 'husband': 1449, 'police': 1450, 'fixed': 1451, 'whistle': 1452, 'thirty': 1453, 'defend': 1454, 'remind': 1455, 'meal': 1456, 'pills': 1457, 'cane': 1458, 'dawn': 1459, 'ten': 1460, 'ethiopian': 1461, 'dreamer': 1462, 'painter': 1463, 'unmarried': 1464, 'tigers': 1465, 'laughs': 1466, 'gardener': 1467, 'interesting': 1468, 'tongue': 1469, 'death': 1470, 'football': 1471, 'goatee': 1472, 'fever': 1473, 'pens': 1474, 'jobs': 1475, 'learning': 1476, 'ladder': 1477, 'ordered': 1478, 'mayor': 1479, 'chance': 1480, 'evidence': 1481, 'mommy': 1482, 'surprised': 1483, 'taxi': 1484, 'notify': 1485, 'detective': 1486, 'policeman': 1487, 'color': 1488, 'embarrassed': 1489, 'frying': 1490, 'hunting': 1491, 'truly': 1492, 'breathing': 1493, 'friday': 1494, 'bugs': 1495, 'honor': 1496, 'surprise': 1497, 'lead': 1498, 'visit': 1499, 'served': 1500, 'marys': 1501, 'niece': 1502, 'shirt': 1503, 'cap': 1504, 'voice': 1505, 'drugs': 1506, 'forgave': 1507, 'stabbed': 1508, 'tied': 1509, 'alarm': 1510, 'being': 1511, 'story': 1512, 'lake': 1513, 'net': 1514, 'held': 1515, 'times': 1516, 'deranged': 1517, 'involved': 1518, 'texted': 1519, 'wears': 1520, 'available': 1521, 'separated': 1522, 'stake': 1523, 'comb': 1524, 'gorgeous': 1525, 'child': 1526, 'wings': 1527, 'past': 1528, 'flexible': 1529, 'teeth': 1530, 'rabbits': 1531, 'order': 1532, 'mirror': 1533, 'cross': 1534, 'deceive': 1535, 'disturb': 1536, 'tank': 1537, 'costs': 1538, 'umbrella': 1539, 'animals': 1540, 'easily': 1541, 'terrified': 1542, 'gentleman': 1543, 'intelligent': 1544, 'violence': 1545, 'sweat': 1546, 'powerless': 1547, 'surprises': 1548, 'traveling': 1549, 'australia': 1550, 'cream': 1551, 'beach': 1552, 'band': 1553, 'visited': 1554, 'america': 1555, 'suspect': 1556, 'suitable': 1557, 'yesterday': 1558, 'scary': 1559, 'sunny': 1560, 'noon': 1561, 'unlikely': 1562, 'candle': 1563, 'smokes': 1564, 'pulse': 1565, 'complaining': 1566, 'weep': 1567, 'reply': 1568, 'rejected': 1569, 'saying': 1570, 'offensive': 1571, 'curtain': 1572, 'clear': 1573, 'race': 1574, 'thanked': 1575, 'abandoned': 1576, 'conceited': 1577, 'deceitful': 1578, 'improving': 1579, 'smiles': 1580, 'match': 1581, 'children': 1582, 'pleased': 1583, 'rely': 1584, 'juice': 1585, 'coward': 1586, 'wow': 1587, 'hid': 1588, 'hop': 1589, 'fled': 1590, 'froze': 1591, 'low': 1592, 'skip': 1593, 'cuff': 1594, 'cursed': 1595, 'marry': 1596, 'terrific': 1597, 'bark': 1598, 'beg': 1599, 'belched': 1600, 'cringed': 1601, 'pro': 1602, 'obese': 1603, 'poured': 1604, 'rained': 1605, 'pardon': 1606, 'search': 1607, 'seriously': 1608, 'cared': 1609, 'knits': 1610, 'rocks': 1611, 'swims': 1612, 'swore': 1613, 'waved': 1614, 'higher': 1615, 'content': 1616, 'exists': 1617, 'faith': 1618, 'south': 1619, 'lovely': 1620, 'tragic': 1621, 'disagree': 1622, 'lingered': 1623, 'objected': 1624, 'threw': 1625, 'bushed': 1626, 'immune': 1627, 'twelve': 1628, 'chat': 1629, 'pray': 1630, 'lasts': 1631, 'mama': 1632, 'comment': 1633, 'replace': 1634, 'shadow': 1635, 'taste': 1636, 'burped': 1637, 'dances': 1638, 'gasped': 1639, 'goofed': 1640, 'moaned': 1641, 'nodded': 1642, 'paused': 1643, 'snores': 1644, 'winked': 1645, 'yawned': 1646, 'gives': 1647, 'wood': 1648, 'merciful': 1649, 'sensible': 1650, 'specific': 1651, 'vigilant': 1652, 'watchful': 1653, 'beers': 1654, 'comfort': 1655, 'bowl': 1656, 'argue': 1657, 'flip': 1658, 'coin': 1659, 'started': 1660, 'eight': 1661, 'faking': 1662, 'monk': 1663, 'taller': 1664, 'confessed': 1665, 'rats': 1666, 'sand': 1667, 'gout': 1668, 'attend': 1669, 'baker': 1670, 'fasting': 1671, 'fragile': 1672, 'neutral': 1673, 'resting': 1674, 'starved': 1675, 'cost': 1676, 'yen': 1677, 'vice': 1678, 'chilly': 1679, 'cloudy': 1680, 'futile': 1681, 'list': 1682, 'timing': 1683, 'means': 1684, 'release': 1685, 'stick': 1686, 'action': 1687, 'tvs': 1688, 'clapped': 1689, 'gloated': 1690, 'grinned': 1691, 'groaned': 1692, 'grunted': 1693, 'ocd': 1694, 'inhaled': 1695, 'prepaid': 1696, 'slipped': 1697, 'sneezed': 1698, 'flaky': 1699, 'dope': 1700, 'heel': 1701, 'loss': 1702, 'ego': 1703, 'drew': 1704, 'abandon': 1705, 'merciless': 1706, 'beef': 1707, 'backup': 1708, 'fbi': 1709, 'describe': 1710, 'ramble': 1711, 'examine': 1712, 'ghosts': 1713, 'easter': 1714, 'donut': 1715, 'courage': 1716, 'denied': 1717, 'cranky': 1718, 'driven': 1719, 'bigot': 1720, 'ninja': 1721, 'dare': 1722, 'caviar': 1723, 'detest': 1724, 'woozy': 1725, 'carded': 1726, 'mugged': 1727, 'liars': 1728, 'nap': 1729, 'space': 1730, 'sympathize': 1731, 'twice': 1732, 'farmer': 1733, 'surfer': 1734, 'waiter': 1735, 'agent': 1736, 'educated': 1737, 'grieving': 1738, 'perth': 1739, 'literate': 1740, 'painting': 1741, 'rational': 1742, 'thirteen': 1743, 'cured': 1744, 'lucid': 1745, 'wolf': 1746, 'elk': 1747, 'begun': 1748, 'bedtime': 1749, 'driving': 1750, 'pigs': 1751, 'mow': 1752, 'hip': 1753, 'recess': 1754, 'schools': 1755, 'gawking': 1756, 'pushing': 1757, 'staring': 1758, 'harder': 1759, 'switch': 1760, 'approve': 1761, 'sweated': 1762, 'gold': 1763, 'approves': 1764, 'enlisted': 1765, 'flinched': 1766, 'insisted': 1767, 'vet': 1768, 'timid': 1769, 'relented': 1770, 'shrugged': 1771, 'stutters': 1772, 'groggy': 1773, 'focus': 1774, 'unbelievable': 1775, 'succeeded': 1776, 'surrender': 1777, 'adults': 1778, 'dating': 1779, 'goners': 1780, 'pooped': 1781, 'feast': 1782, 'phony': 1783, 'paying': 1784, 'amuse': 1785, 'approved': 1786, 'included': 1787, 'talented': 1788, 'expert': 1789, 'reasonable': 1790, 'respectful': 1791, 'supportive': 1792, 'body': 1793, 'cain': 1794, 'security': 1795, 'despair': 1796, 'mock': 1797, 'sass': 1798, 'drain': 1799, 'oil': 1800, 'circle': 1801, 'healthily': 1802, 'feed': 1803, 'fry': 1804, 'downstairs': 1805, 'ham': 1806, 'eats': 1807, 'grows': 1808, 'blog': 1809, 'maid': 1810, 'skating': 1811, 'tycoon': 1812, 'saint': 1813, 'bled': 1814, 'calls': 1815, 'rope': 1816, 'honk': 1817, 'horn': 1818, 'thrilling': 1819, 'acquired': 1820, 'added': 1821, 'runner': 1822, 'belong': 1823, 'blacked': 1824, 'borrowed': 1825, 'bribed': 1826, 'designed': 1827, 'poker': 1828, 'queasy': 1829, 'reborn': 1830, 'finally': 1831, 'bonus': 1832, 'flying': 1833, 'date': 1834, 'visa': 1835, 'braces': 1836, 'orders': 1837, 'rights': 1838, 'sinned': 1839, 'tenure': 1840, 'sirens': 1841, 'voices': 1842, 'fall': 1843, 'clocks': 1844, 'movies': 1845, 'sewing': 1846, 'spoons': 1847, 'sweets': 1848, 'baking': 1849, 'garlic': 1850, 'object': 1851, 'resist': 1852, 'crew': 1853, 'lamp': 1854, 'loan': 1855, 'ride': 1856, 'outrank': 1857, 'yacht': 1858, 'squash': 1859, 'violin': 1860, 'pled': 1861, 'rescheduled': 1862, 'resent': 1863, 'motel': 1864, 'plane': 1865, 'bacon': 1866, 'smelled': 1867, 'firefox': 1868, 'poems': 1869, 'tourist': 1870, 'expecting': 1871, 'horrified': 1872, 'gang': 1873, 'spy': 1874, 'bossy': 1875, 'strike': 1876, 'sensitive': 1877, 'wasted': 1878, 'popular': 1879, 'bat': 1880, 'sickens': 1881, 'test': 1882, 'p': 1883, 'm': 1884, 'sequel': 1885, 'deserted': 1886, 'obsolete': 1887, 'occupied': 1888, 'official': 1889, 'outdated': 1890, 'rat': 1891, 'paddling': 1892, 'enter': 1893, 'proceed': 1894, 'mortal': 1895, 'shrieked': 1896, 'meats': 1897, 'scarce': 1898, 'lungs': 1899, 'names': 1900, 'hood': 1901, 'sank': 1902, 'owls': 1903, 'robe': 1904, 'gambling': 1905, 'shake': 1906, 'bent': 1907, 'obeys': 1908, 'positive': 1909, 'stir': 1910, 'meddling': 1911, 'shooting': 1912, 'worrying': 1913, 'differ': 1914, 'anyway': 1915, 'saturn': 1916, 'myth': 1917, 'unreal': 1918, 'vulgar': 1919, 'embraced': 1920, 'asian': 1921, 'armed': 1922, 'spies': 1923, 'pun': 1924, 'exercised': 1925, 'exercises': 1926, 'graduated': 1927, 'hesitated': 1928, 'hoot': 1929, 'wimp': 1930, 'rested': 1931, 'wicked': 1932, 'joined': 1933, 'recovered': 1934, 'staggered': 1935, 'aloof': 1936, 'klutz': 1937, 'till': 1938, 'wax': 1939, 'doomed': 1940, 'plans': 1941, 'fiasco': 1942, 'hassle': 1943, 'ails': 1944, 'whatll': 1945, 'disagreed': 1946, 'hypocrite': 1947, 'biased': 1948, 'qualified': 1949, 'autumn': 1950, 'brace': 1951, 'shovel': 1952, 'file': 1953, 'promise': 1954, 'recycle': 1955, 'annoy': 1956, 'struggle': 1957, 'tempt': 1958, 'duck': 1959, 'cries': 1960, 'lines': 1961, 'van': 1962, 'afternoon': 1963, 'mug': 1964, 'holidays': 1965, 'dislikes': 1966, 'tan': 1967, 'beard': 1968, 'bankrupt': 1969, 'homeless': 1970, 'outgoing': 1971, 'learns': 1972, 'jelly': 1973, 'respects': 1974, 'florist': 1975, 'slacker': 1976, 'author': 1977, 'prison': 1978, 'ached': 1979, 'disgusting': 1980, 'hungarian': 1981, 'believed': 1982, 'nail': 1983, 'notice': 1984, 'ease': 1985, 'guarantee': 1986, 'mondays': 1987, 'sundays': 1988, 'insects': 1989, 'ironing': 1990, 'karaoke': 1991, 'riddles': 1992, 'spinach': 1993, 'hiccup': 1994, 'hurried': 1995, 'castles': 1996, 'history': 1997, 'jogging': 1998, 'noodles': 1999, 'puzzles': 2000, 'sashimi': 2001, 'seafood': 2002, 'stories': 2003, 'turtles': 2004, 'upstate': 2005, 'harvard': 2006, 'flowers': 2007, 'lasagna': 2008, 'sunsets': 2009, 'sun': 2010, 'medic': 2011, 'ruler': 2012, 'stamp': 2013, 'answers': 2014, 'asap': 2015, 'surgery': 2016, 'cattle': 2017, 'sneeze': 2018, 'korean': 2019, 'glass': 2020, 'puppy': 2021, 'fan': 2022, 'captured': 2023, 'welcomed': 2024, 'wear': 2025, 'prosper': 2026, 'direct': 2027, 'extra': 2028, 'scold': 2029, 'diabetic': 2030, 'musician': 2031, 'prisoner': 2032, 'salesman': 2033, 'atheist': 2034, 'dependable': 2035, 'devastated': 2036, 'diplomatic': 2037, 'having': 2038, 'interested': 2039, 'making': 2040, 'quitter': 2041, 'holiday': 2042, 'optimistic': 2043, 'oldest': 2044, 'unemployed': 2045, 'blunt': 2046, 'stew': 2047, 'planned': 2048, 'wednesday': 2049, 'classic': 2050, 'insult': 2051, 'beyond': 2052, 'identical': 2053, 'redundant': 2054, 'vibrating': 2055, 'searching': 2056, 'lean': 2057, 'lend': 2058, 'dutch': 2059, 'practice': 2060, 'larger': 2061, 'power': 2062, 'joints': 2063, 'itches': 2064, 'tummy': 2065, 'nothings': 2066, 'pack': 2067, 'bags': 2068, 'meter': 2069, 'awkward': 2070, 'sings': 2071, 'types': 2072, 'counting': 2073, 'gossiping': 2074, 'grumbling': 2075, 'resisting': 2076, 'screaming': 2077, 'cyanide': 2078, 'evident': 2079, 'hogwash': 2080, 'illegal': 2081, 'obvious': 2082, 'plastic': 2083, 'lame': 2084, 'barked': 2085, 'melted': 2086, 'roof': 2087, 'leaks': 2088, 'siren': 2089, 'quarreled': 2090, 'struggled': 2091, 'starve': 2092, 'hollow': 2093, 'idiots': 2094, 'bites': 2095, 'fact': 2096, 'scam': 2097, 'dice': 2098, 'approached': 2099, 'blood': 2100, 'asthma': 2101, 'improvised': 2102, 'blond': 2103, 'creep': 2104, 'dwarf': 2105, 'pilot': 2106, 'miserly': 2107, 'idol': 2108, 'shaking': 2109, 'spoiled': 2110, 'paged': 2111, 'remembered': 2112, 'set': 2113, 'shed': 2114, 'tears': 2115, 'humble': 2116, 'sauce': 2117, 'front': 2118, 'doctors': 2119, 'credible': 2120, 'starving': 2121, 'concept': 2122, 'country': 2123, 'letdown': 2124, 'thought': 2125, 'whatd': 2126, 'whens': 2127, 'else': 2128, 'wind': 2129, 'wipe': 2130, 'morons': 2131, 'disgust': 2132, 'fraud': 2133, 'freak': 2134, 'prude': 2135, 'capsized': 2136, 'silent': 2137, 'instead': 2138, 'balls': 2139, 'round': 2140, 'precise': 2141, 'bullet': 2142, 'chip': 2143, 'mice': 2144, 'boxes': 2145, 'congratulations': 2146, 'dig': 2147, 'rap': 2148, 'interfere': 2149, 'interrupt': 2150, 'overdo': 2151, 'whirl': 2152, 'store': 2153, 'bottom': 2154, 'jeans': 2155, 'toyota': 2156, 'camera': 2157, 'racket': 2158, 'mark': 2159, 'disney': 2160, 'robot': 2161, 'mentioned': 2162, 'pressured': 2163, 'whisky': 2164, 'tends': 2165, 'cheating': 2166, 'standing': 2167, 'nara': 2168, 'comedian': 2169, 'freshman': 2170, 'album': 2171, 'fascinating': 2172, 'humiliating': 2173, 'unfortunate': 2174, 'spain': 2175, 'booked': 2176, 'afford': 2177, 'undo': 2178, 'eel': 2179, 'chickened': 2180, 'cooked': 2181, 'finger': 2182, 'dried': 2183, 'goats': 2184, 'feverish': 2185, 'helpless': 2186, 'repulsed': 2187, 'sunburned': 2188, 'guessed': 2189, 'politics': 2190, 'raccoons': 2191, 'reptiles': 2192, 'tomatoes': 2193, 'dandruff': 2194, 'drum': 2195, 'rains': 2196, 'ankle': 2197, 'elbow': 2198, 'imagined': 2199, 'learned': 2200, 'cartoons': 2201, 'climbing': 2202, 'teaching': 2203, 'heat': 2204, 'interest': 2205, 'comedies': 2206, 'eggplant': 2207, 'weddings': 2208, 'internet': 2209, 'shower': 2210, 'tissue': 2211, 'scissors': 2212, 'shave': 2213, 'outwitted': 2214, 'bills': 2215, 'baseball': 2216, 'outfield': 2217, 'bass': 2218, 'biking': 2219, 'cover': 2220, 'rang': 2221, 'recognize': 2222, 'relied': 2223, 'dollar': 2224, 'refund': 2225, 'concerned': 2226, 'disgusted': 2227, 'dismissed': 2228, 'petrified': 2229, 'skeptical': 2230, 'wouldnt': 2231, 'fork': 2232, 'arrange': 2233, 'assist': 2234, 'ford': 2235, 'double': 2236, 'reward': 2237, 'christian': 2238, 'carpenter': 2239, 'lifeguard': 2240, 'masochist': 2241, 'owl': 2242, 'engineer': 2243, 'optimist': 2244, 'aware': 2245, 'begging': 2246, 'catching': 2247, 'comfortable': 2248, 'cracking': 2249, 'defenseless': 2250, 'extroverted': 2251, 'pickle': 2252, 'asking': 2253, 'handed': 2254, 'nearsighted': 2255, 'alarmed': 2256, 'certain': 2257, 'vacation': 2258, 'minded': 2259, 'overwhelmed': 2260, 'responsible': 2261, 'tallest': 2262, 'modest': 2263, 'poisonous': 2264, 'llama': 2265, 'river': 2266, 'payday': 2267, 'option': 2268, 'tasted': 2269, 'thrill': 2270, 'ages': 2271, 'ago': 2272, 'fabulous': 2273, 'handmade': 2274, 'same': 2275, 'soft': 2276, 'mushroom': 2277, 'shortcut': 2278, 'eyesore': 2279, 'artificial': 2280, 'dinnertime': 2281, 'dirt': 2282, 'impossible': 2283, 'incredible': 2284, 'inevitable': 2285, 'irrelevant': 2286, 'misleading': 2287, 'refreshing': 2288, 'sweltering': 2289, 'wrap': 2290, 'practicing': 2291, 'koalas': 2292, 'metal': 2293, 'message': 2294, 'lemons': 2295, 'sour': 2296, 'celebrate': 2297, 'kites': 2298, 'office': 2299, 'smaller': 2300, 'widow': 2301, 'glowing': 2302, 'merry': 2303, 'shifts': 2304, 'squeak': 2305, 'seeing': 2306, 'changes': 2307, 'bottle': 2308, 'high': 2309, 'remove': 2310, 'saddle': 2311, 'airmail': 2312, 'carefree': 2313, 'graceful': 2314, 'panting': 2315, 'brazilian': 2316, 'assertive': 2317, 'somebodys': 2318, 'coughed': 2319, 'spelling': 2320, 'nosy': 2321, 'squabbling': 2322, 'whimpering': 2323, 'aspirin': 2324, 'church': 2325, 'pagoda': 2326, 'childish': 2327, 'dress': 2328, 'personal': 2329, 'snag': 2330, 'damp': 2331, 'cast': 2332, 'growled': 2333, 'opened': 2334, 'engine': 2335, 'leaves': 2336, 'moon': 2337, 'powers': 2338, 'radar': 2339, 'sea': 2340, 'soldier': 2341, 'soups': 2342, 'cure': 2343, 'salt': 2344, 'actors': 2345, 'melons': 2346, 'pilots': 2347, 'yellow': 2348, 'feared': 2349, 'greeted': 2350, 'respond': 2351, 'interns': 2352, 'garbage': 2353, 'fate': 2354, 'spot': 2355, 'pleases': 2356, 'gifts': 2357, 'limited': 2358, 'each': 2359, 'err': 2360, 'baked': 2361, 'believes': 2362, 'blamed': 2363, 'chased': 2364, 'disgusts': 2365, 'exaggerates': 2366, 'followed': 2367, 'piano': 2368, 'hiccups': 2369, 'muslim': 2370, 'banker': 2371, 'cyborg': 2372, 'legend': 2373, 'maniac': 2374, 'friendly': 2375, 'handsome': 2376, 'court': 2377, 'insecure': 2378, 'insolent': 2379, 'inspired': 2380, 'likeable': 2381, 'buddy': 2382, 'perverse': 2383, 'training': 2384, 'lived': 2385, 'perky': 2386, 'tense': 2387, 'weary': 2388, 'jokes': 2389, 'nudged': 2390, 'pitied': 2391, 'novels': 2392, 'sees': 2393, 'stole': 2394, 'understands': 2395, 'shocked': 2396, 'yawn': 2397, 'unlock': 2398, 'toes': 2399, 'teachers': 2400, 'raw': 2401, 'lack': 2402, 'waffles': 2403, 'ought': 2404, 'shared': 2405, 'ideas': 2406, 'justice': 2407, 'canadians': 2408, 'newlyweds': 2409, 'organized': 2410, 'prisoners': 2411, 'disaster': 2412, 'stolen': 2413, 'prize': 2414, 'dude': 2415, 'zoo': 2416, 'received': 2417, 'note': 2418, 'unsure': 2419, 'devil': 2420, 'mustnt': 2421, 'youd': 2422, 'decisive': 2423, 'reliable': 2424, 'stalling': 2425, 'less': 2426, 'than': 2427, 'barking': 2428, 'accidents': 2429, 'invisible': 2430, 'hurting': 2431, 'apply': 2432, 'wizard': 2433, 'blushing': 2434, 'drinking': 2435, 'atlantis': 2436, 'frank': 2437, 'bears': 2438, 'normally': 2439, 'brush': 2440, 'sometime': 2441, 'excused': 2442, 'inbox': 2443, 'cherries': 2444, 'blinds': 2445, 'drawer': 2446, 'window': 2447, 'immediately': 2448, 'concentrate': 2449, 'consult': 2450, 'cookie': 2451, 'supply': 2452, 'bridge': 2453, 'street': 2454, 'potatoes': 2455, 'deeds': 2456, 'words': 2457, 'brute': 2458, 'foolish': 2459, 'glum': 2460, 'exaggerate': 2461, 'lecture': 2462, 'faces': 2463, 'mention': 2464, 'mislead': 2465, 'oppose': 2466, 'rip': 2467, 'dragons': 2468, 'meals': 2469, 'everybodys': 2470, 'purpose': 2471, 'hammer': 2472, 'reason': 2473, 'sword': 2474, 'fetch': 2475, 'without': 2476, 'garage': 2477, 'stairs': 2478, 'croissant': 2479, 'eggnog': 2480, 'behaved': 2481, 'joy': 2482, 'deserves': 2483, 'recently': 2484, 'suddenly': 2485, 'feels': 2486, 'backward': 2487, 'picasso': 2488, 'carrots': 2489, 'italian': 2490, 'distracted': 2491, 'college': 2492, 'pajamas': 2493, 'overweight': 2494, 'diary': 2495, 'oranges': 2496, 'hunt': 2497, 'moves': 2498, 'remained': 2499, 'screams': 2500, 'shares': 2501, 'ipad': 2502, 'tenacious': 2503, 'arabic': 2504, 'crude': 2505, 'historian': 2506, 'lisbon': 2507, 'senile': 2508, 'stark': 2509, 'unconscious': 2510, 'health': 2511, 'wealth': 2512, 'embarrassing': 2513, 'melodramatic': 2514, 'howre': 2515, 'abhor': 2516, 'foreigner': 2517, 'professor': 2518, 'against': 2519, 'dumbfounded': 2520, 'brazil': 2521, 'norway': 2522, 'witch': 2523, 'appreciate': 2524, 'politely': 2525, 'bumped': 2526, 'knee': 2527, 'earlier': 2528, 'bake': 2529, 'hardly': 2530, 'minds': 2531, 'reach': 2532, 'flu': 2533, 'solitude': 2534, 'expect': 2535, 'details': 2536, 'flattered': 2537, 'refreshed': 2538, 'chemistry': 2539, 'hypocrisy': 2540, 'grenade': 2541, 'scooter': 2542, 'heartburn': 2543, 'future': 2544, 'video': 2545, 'cancel': 2546, 'chocolate': 2547, 'fresh': 2548, 'languages': 2549, 'pop': 2550, 'near': 2551, 'astronomy': 2552, 'yolks': 2553, 'fortune': 2554, 'breakfast': 2555, 'massage': 2556, 'miracle': 2557, 'aid': 2558, 'soap': 2559, 'outsmarted': 2560, 'computer': 2561, 'planted': 2562, 'tree': 2563, 'cello': 2564, 'flute': 2565, 'pointed': 2566, 'mile': 2567, 'label': 2568, 'regret': 2569, 'require': 2570, 'umbrellas': 2571, 'stifled': 2572, 'grin': 2573, 'divorce': 2574, 'martini': 2575, 'retire': 2576, 'dumbstruck': 2577, 'pretending': 2578, 'unhappy': 2579, 'salad': 2580, 'pick': 2581, 'protect': 2582, 'citizen': 2583, 'translator': 2584, 'moody': 2585, 'checking': 2586, 'disappointed': 2587, 'freaking': 2588, 'homeschooled': 2589, 'housesitting': 2590, 'inviting': 2591, 'middle': 2592, 'class': 2593, 'catholic': 2594, 'beggar': 2595, 'snitch': 2596, 'bluffing': 2597, 'suicidal': 2598, 'proud': 2599, 'sitting': 2600, 'wasting': 2601, 'saving': 2602, 'drawn': 2603, 'coma': 2604, 'reachable': 2605, 'contagious': 2606, 'flower': 2607, 'puzzle': 2608, 'dvd': 2609, 'euros': 2610, 'creeps': 2611, 'freaks': 2612, 'ambush': 2613, 'drizzling': 2614, 'excessive': 2615, 'hours': 2616, 'greek': 2617, 'group': 2618, 'rainy': 2619, 'complicated': 2620, 'season': 2621, 'gotten': 2622, 'drug': 2623, 'monkey': 2624, 'logical': 2625, 'natural': 2626, 'unusual': 2627, 'sofa': 2628, 'destiny': 2629, 'probably': 2630, 'bitter': 2631, 'asia': 2632, 'informed': 2633, 'kick': 2634, 'repair': 2635, 'immortal': 2636, 'lower': 2637, 'tomboy': 2638, 'tiny': 2639, 'itchy': 2640, 'scarf': 2641, 'stomach': 2642, 'sunburn': 2643, 'throat': 2644, 'toy': 2645, 'beats': 2646, 'responded': 2647, 'showed': 2648, 'gain': 2649, 'taught': 2650, 'windows': 2651, 'ketchup': 2652, 'pets': 2653, 'allowed': 2654, 'polite': 2655, 'trigger': 2656, 'article': 2657, 'revenge': 2658, 'rome': 2659, 'italy': 2660, 'prayers': 2661, 'defeated': 2662, 'despised': 2663, 'despises': 2664, 'idolized': 2665, 'pianist': 2666, 'shameless': 2667, 'socks': 2668, 'repulses': 2669, 'rode': 2670, 'camel': 2671, 'happily': 2672, 'sadly': 2673, 'stared': 2674, 'startled': 2675, 'studies': 2676, 'promoted': 2677, 'worships': 2678, 'size': 2679, 'apologizing': 2680, 'avoiding': 2681, 'nosey': 2682, 'interfering': 2683, 'pinching': 2684, 'scaring': 2685, 'showing': 2686, 'touching': 2687, 'precautions': 2688, 'kindly': 2689, 'concerns': 2690, 'enormous': 2691, 'confusing': 2692, 'debatable': 2693, 'dishonest': 2694, 'idle': 2695, 'affair': 2696, 'troubling': 2697, 'babys': 2698, 'ballon': 2699, 'burst': 2700, 'cage': 2701, 'ticked': 2702, 'creaked': 2703, 'foods': 2704, 'jury': 2705, 'mic': 2706, 'milkman': 2707, 'partys': 2708, 'pool': 2709, 'road': 2710, 'icy': 2711, 'abated': 2712, 'waters': 2713, 'world': 2714, 'wound': 2715, 'healed': 2716, 'limit': 2717, 'entered': 2718, 'singers': 2719, 'demoted': 2720, 'grave': 2721, 'nearby': 2722, 'theyd': 2723, 'escaping': 2724, 'immature': 2725, 'traitors': 2726, 'luxury': 2727, 'coach': 2728, 'relaxing': 2729, 'sabotage': 2730, 'norm': 2731, 'admires': 2732, 'loses': 2733, 'avoided': 2734, 'babysat': 2735, 'belongs': 2736, 'cannot': 2737, 'convinced': 2738, 'detests': 2739, 'drown': 2740, 'tb': 2741, 'frightens': 2742, 'alibi': 2743, 'freckles': 2744, 'insomnia': 2745, 'olives': 2746, 'fascist': 2747, 'fighter': 2748, 'patriot': 2749, 'plumber': 2750, 'recluse': 2751, 'redneck': 2752, 'refugee': 2753, 'schemer': 2754, 'surgeon': 2755, 'trucker': 2756, 'veteran': 2757, 'widower': 2758, 'ambitious': 2759, 'brilliant': 2760, 'eccentric': 2761, 'emotional': 2762, 'energetic': 2763, 'honorable': 2764, 'insincere': 2765, 'muttering': 2766, 'nephew': 2767, 'obsessive': 2768, 'perplexed': 2769, 'undecided': 2770, 'weakening': 2771, 'whistling': 2772, 'hockey': 2773, 'ponies': 2774, 'reggae': 2775, 'oven': 2776, 'shouts': 2777, 'punched': 2778, 'reads': 2779, 'log': 2780, 'slugged': 2781, 'calmly': 2782, 'wandered': 2783, 'pony': 2784, 'appalled': 2785, 'executed': 2786, 'tortured': 2787, 'watches': 2788, 'perk': 2789, 'succeed': 2790, 'award': 2791, 'toss': 2792, 'unreliable': 2793, 'slower': 2794, 'fingers': 2795, 'plants': 2796, 'checks': 2797, 'swordfish': 2798, 'competed': 2799, 'depend': 2800, 'disturbed': 2801, 'crisis': 2802, 'theory': 2803, 'visitors': 2804, 'havent': 2805, 'gunfire': 2806, 'sandbar': 2807, 'train': 2808, 'evacuate': 2809, 'withdraw': 2810, 'leader': 2811, 'classmates': 2812, 'historians': 2813, 'lifeguards': 2814, 'professors': 2815, 'sophomores': 2816, 'surrounded': 2817, 'movie': 2818, 'view': 2819, 'rotten': 2820, 'happening': 2821, 'cause': 2822, 'whatve': 2823, 'whatever': 2824, 'customs': 2825, 'razor': 2826, 'exit': 2827, 'damaged': 2828, 'murdered': 2829, 'hamlet': 2830, 'whod': 2831, 'invite': 2832, 'escape': 2833, 'younger': 2834, 'hobby': 2835, 'shouldnt': 2836, 'conform': 2837, 'necessary': 2838, 'practical': 2839, 'owner': 2840, 'mauled': 2841, 'add': 2842, 'adjust': 2843, 'brakes': 2844, 'admission': 2845, 'equal': 2846, 'under': 2847, 'arrest': 2848, 'error': 2849, 'candles': 2850, 'religious': 2851, 'chef': 2852, 'question': 2853, 'others': 2854, 'behave': 2855, 'build': 2856, 'nests': 2857, 'ambulance': 2858, 'hospital': 2859, 'rent': 2860, 'bow': 2861, 'champagne': 2862, 'click': 2863, 'link': 2864, 'coding': 2865, 'insist': 2866, 'crime': 2867, 'slack': 2868, 'imminent': 2869, 'dial': 2870, 'ants': 2871, 'pet': 2872, 'latin': 2873, 'wanna': 2874, 'proof': 2875, 'distract': 2876, 'threaten': 2877, 'weapons': 2878, 'exercise': 2879, 'outdoors': 2880, 'knees': 2881, 'days': 2882, 'spoon': 2883, 'goodnight': 2884, 'ladies': 2885, 'haste': 2886, 'makes': 2887, 'hay': 2888, 'blackmailed': 2889, 'blocked': 2890, 'headache': 2891, 'three': 2892, 'hanged': 2893, 'remorse': 2894, 'houses': 2895, 'biologist': 2896, 'poet': 2897, 'daredevil': 2898, 'scientist': 2899, 'forty': 2900, 'but': 2901, 'influential': 2902, 'introverted': 2903, 'smoker': 2904, 'osaka': 2905, 'owns': 2906, 'land': 2907, 'pushed': 2908, 'sailor': 2909, 'struck': 2910, 'studied': 2911, 'vitamins': 2912, 'picture': 2913, 'twisted': 2914, 'violated': 2915, 'wakes': 2916, 'imprisoned': 2917, 'raging': 2918, 'pants': 2919, 'scripts': 2920, 'hell': 2921, 'driver': 2922, 'journalist': 2923, 'timer': 2924, 'mr': 2925, 'overreacting': 2926}\n",
            "{'<eos>': 0, '<bof>': 1, 'tom': 2, 'es': 3, 'el': 4, 'no': 5, 'a': 6, 'me': 7, 'esta': 8, 'un': 9, 'la': 10, 'lo': 11, 'se': 12, 'yo': 13, 'de': 14, 'que': 15, 'estoy': 16, 'mi': 17, 'soy': 18, 'eso': 19, 'en': 20, 'te': 21, 'una': 22, 'ella': 23, 'esto': 24, 'los': 25, 'le': 26, 'aqui': 27, 'gusta': 28, 'por': 29, 'tu': 30, 'tengo': 31, 'estaba': 32, '¿quien': 33, 'las': 34, 'mary': 35, 'bien': 36, '¿que': 37, 'son': 38, 'ahora': 39, 'muy': 40, 'tomas': 41, 'puedo': 42, 'tiene': 43, 'casa': 44, 'estamos': 45, 'nos': 46, 'ellos': 47, 'fue': 48, 'necesito': 49, 'favor': 50, 'eres': 51, 'quiero': 52, 'era': 53, 'estas': 54, 'todos': 55, 'mas': 56, 'con': 57, 'ir': 58, 'estan': 59, 'solo': 60, 'nadie': 61, 'puede': 62, 'este': 63, '¿es': 64, '¿puedo': 65, 'perro': 66, 'tan': 67, 'ese': 68, 'su': 69, 'he': 70, 'demasiado': 71, 'voy': 72, '¿donde': 73, 've': 74, 'odio': 75, 'trabajo': 76, '¿estas': 77, 'todo': 78, 'deja': 79, 'al': 80, 'somos': 81, 'siento': 82, 'gustan': 83, '¿como': 84, 'ha': 85, '¿te': 86, 'ahi': 87, 'nosotros': 88, 'hice': 89, 'nuevo': 90, 'libro': 91, '¿esta': 92, 'tenemos': 93, 'vi': 94, 'dejame': 95, 'ven': 96, 'mucho': 97, 'feliz': 98, 'ya': 99, '¿tom': 100, 'ayuda': 101, '¿por': 102, 'rapido': 103, 'dos': 104, 'hay': 105, 'como': 106, 'dame': 107, 'vino': 108, 'dinero': 109, 'sabe': 110, 'mal': 111, 'sos': 112, 'hombre': 113, 'vamos': 114, 'puedes': 115, 'parece': 116, 'encanta': 117, 'para': 118, 'y': 119, '¿puedes': 120, 'nunca': 121, 'coche': 122, 'tarde': 123, 'nada': 124, 'hizo': 125, 'tienes': 126, 'espera': 127, 'mira': 128, 'si': 129, 'va': 130, 'tenia': 131, 'quiere': 132, 'conmigo': 133, 'poco': 134, 'hace': 135, 'ti': 136, 'veo': 137, 'esa': 138, 'alguien': 139, '¿me': 140, 'vida': 141, 'mejor': 142, 'hacer': 143, 'cansado': 144, 'verdad': 145, 'tiempo': 146, 'amo': 147, 'grande': 148, 'haz': 149, 'bueno': 150, 'listo': 151, 'duele': 152, 'podemos': 153, 'ayudar': 154, 'vez': 155, 'nadar': 156, 'enfermo': 157, 'fui': 158, 'alli': 159, 'usted': 160, 'hoy': 161, '¿no': 162, 'triste': 163, 'todavia': 164, 'auto': 165, 'viejo': 166, 'has': 167, 'buen': 168, 'entrar': 169, 'loco': 170, 'mio': 171, 'nuestro': 172, 'ocupado': 173, 'hablar': 174, 'estar': 175, 'gato': 176, 'ser': 177, 'murio': 178, 'llama': 179, 'borracho': 180, 'llave': 181, 'boston': 182, 'tambien': 183, 'muerto': 184, 'uno': 185, '¿eres': 186, 'hemos': 187, 'alto': 188, 'razon': 189, 'conozco': 190, 'hambre': 191, 'sueno': 192, 'hacerlo': 193, 'mis': 194, 'acuerdo': 195, 'toma': 196, 'hecho': 197, 'quien': 198, 'dije': 199, 'estos': 200, 'suerte': 201, 'facil': 202, 'necesita': 203, 'seas': 204, '¿lo': 205, 'vete': 206, 'divertido': 207, 'aca': 208, 'frio': 209, 'comer': 210, '¿eso': 211, 'joven': 212, 'debo': 213, 'llorar': 214, 'casi': 215, 'mismo': 216, 'fuerte': 217, 'hazlo': 218, 'trabajar': 219, '¿a': 220, 'ver': 221, 'menos': 222, 'cerca': 223, 'vio': 224, 'aburrido': 225, 'sigue': 226, 'sombrero': 227, 'pareces': 228, 'hijo': 229, 'timido': 230, 'cierra': 231, 'despierto': 232, '¿podemos': 233, 'leer': 234, 'gusto': 235, '¿esto': 236, 'dia': 237, '¿tu': 238, 'dormir': 239, 'habla': 240, 'les': 241, 'algo': 242, 'cama': 243, 'fuera': 244, 'quedate': 245, '¿tienes': 246, 'comida': 247, 'otra': 248, 'temprano': 249, 'acabo': 250, 'cosas': 251, 'hora': 252, 'frances': 253, 'padre': 254, 'escucha': 255, 'gordo': 256, 'entiendo': 257, 'rico': 258, 'correr': 259, 'dejo': 260, 'sin': 261, 'quedo': 262, 'cantar': 263, 'ayudo': 264, 'llamo': 265, 'seguro': 266, 'pagar': 267, 'estupido': 268, 'encantan': 269, 'ves': 270, '¿cuando': 271, 'dio': 272, 'trabajando': 273, 'serio': 274, 'herido': 275, 'suyo': 276, 'cuidado': 277, 'vuelve': 278, 'sea': 279, 'estare': 280, 'anos': 281, 'chico': 282, 'queremos': 283, 'mano': 284, 'mujer': 285, 'mundo': 286, 'necesitamos': 287, 'felices': 288, 'dijo': 289, 'viene': 290, 'idea': 291, '¿son': 292, 'cafe': 293, 'juego': 294, '¿cual': 295, 'parecia': 296, 'perdi': 297, 'comio': 298, 'gano': 299, 'libre': 300, 'llego': 301, 'malo': 302, 'dejalo': 303, 'lloro': 304, 'raro': 305, 'primero': 306, 'lado': 307, 'vivo': 308, 'trampa': 309, 'camino': 310, 'ganar': 311, 'caminar': 312, 'cerveza': 313, 'cuenta': 314, 'tuve': 315, 'gatos': 316, 'ingenuo': 317, 'equivocado': 318, 'lunes': 319, 'digas': 320, 'bromeando': 321, 'estabamos': 322, 'morir': 323, 'nino': 324, 'amigo': 325, 'hola': 326, 'gracias': 327, 'mantente': 328, 'pasa': 329, 'perfecto': 330, 'intenta': 331, 'llame': 332, 'bastante': 333, 'extrano': 334, 'perros': 335, 'coge': 336, 'espero': 337, 'perdido': 338, 'momento': 339, 'ten': 340, 'salio': 341, 'creo': 342, 'hagas': 343, 'grito': 344, 'levanto': 345, 'irte': 346, 'buena': 347, 'venir': 348, 'casado': 349, 'broma': 350, 'amable': 351, 'esos': 352, 'tipo': 353, 'parar': 354, 'podria': 355, 'miedo': 356, 'visto': 357, 'tonto': 358, 'llorando': 359, 'puerta': 360, 'culpa': 361, 'tus': 362, 'hasta': 363, 'telefono': 364, 'lleno': 365, 'funciona': 366, 'sientate': 367, 'sabia': 368, 'perdio': 369, 'ido': 370, 'enojado': 371, 'da': 372, 'paso': 373, 'escribe': 374, 'empieza': 375, 'hombres': 376, 'encontre': 377, 'normal': 378, 'calor': 379, 'real': 380, '¿acaso': 381, 'mia': 382, 'amor': 383, 'di': 384, 'bebe': 385, 'dormido': 386, 'leche': 387, 'escucho': 388, 'deberia': 389, 'nervioso': 390, 'conoces': 391, 'turno': 392, 'disparo': 393, '¿quieres': 394, 'abogado': 395, 'media': 396, 'nombre': 397, 'van': 398, 'vive': 399, 'preguntale': 400, 'justo': 401, '¿estoy': 402, 'ponte': 403, 'ojos': 404, 'hablo': 405, 'comi': 406, 'quede': 407, 'debil': 408, 'genial': 409, 'mintio': 410, 'pronto': 411, 'senti': 412, 'adoro': 413, 'tuyo': 414, 'lee': 415, 'anda': 416, 'contento': 417, 'carne': 418, 'sentia': 419, 'heroe': 420, 'mentiroso': 421, 'comiendo': 422, 'ciudad': 423, 'salir': 424, 'mama': 425, 'esperar': 426, 'venido': 427, 'pescado': 428, 'esperando': 429, 'television': 430, 'agua': 431, 'duro': 432, 'suficiente': 433, 'hablando': 434, 'maria': 435, 'ama': 436, 'descansar': 437, 'gracioso': 438, 'ciego': 439, '¿le': 440, 'dale': 441, 'palabra': 442, 'siempre': 443, 'llaves': 444, 'cabeza': 445, 'acaba': 446, 'chica': 447, 'debe': 448, 'puso': 449, 'reloj': 450, 'habitacion': 451, 'empezo': 452, 'continua': 453, 'adentro': 454, 'boca': 455, 'muevas': 456, 'venga': 457, 'prisa': 458, 'vuelto': 459, 'calvo': 460, 'salvo': 461, 'pago': 462, 'pajaros': 463, 'sonrio': 464, 'echo': 465, 'come': 466, 'dios': 467, 'cruel': 468, 'hielo': 469, 'guapa': 470, 'mala': 471, 'deberiamos': 472, 'irnos': 473, 'decir': 474, 'leyendo': 475, 'atrapado': 476, 'sus': 477, 'mintiendo': 478, 'enfadado': 479, 'medico': 480, 'manana': 481, 'fumar': 482, 'sintio': 483, 'odia': 484, 'sabes': 485, 'dulce': 486, 'sola': 487, 'bailar': 488, 'engano': 489, 'jefe': 490, 'beso': 491, 'lugar': 492, 'plan': 493, 'gente': 494, 'cena': 495, 'irme': 496, 'bolsa': 497, 'profesor': 498, 'esposa': 499, 'amigos': 500, 'donde': 501, 'pescar': 502, 'adora': 503, 'estaban': 504, 'fuego': 505, 'vaya': 506, 'despacio': 507, 'ire': 508, 'despierta': 509, 'manos': 510, 'vayas': 511, 'pagare': 512, 'terminado': 513, 'toca': 514, 'enferma': 515, 'gane': 516, 'confia': 517, '¿yo': 518, 'entra': 519, 'deje': 520, 'falta': 521, 'muriendo': 522, 'vale': 523, 'comamos': 524, 'hacia': 525, 'atras': 526, 'camina': 527, 'idiota': 528, 'paciente': 529, 'lleva': 530, 'tal': 531, 'hago': 532, 'soltero': 533, 'noche': 534, 'bus': 535, 'mordio': 536, '¿hay': 537, 'nieve': 538, 'desnudo': 539, 'emocionado': 540, 'roto': 541, 'secreto': 542, 'ayudarte': 543, 'saber': 544, 'azul': 545, 'cierto': 546, 'alla': 547, 'listos': 548, '¿de': 549, 'necesitas': 550, 'quieras': 551, 'sal': 552, '¿se': 553, 'valiente': 554, 'dieta': 555, 'boligrafo': 556, 'corto': 557, 'reglas': 558, 'taxi': 559, 'necesitaba': 560, 'sera': 561, 'ambos': 562, 'ellas': 563, 'tienen': 564, 'vos': 565, 'pequeno': 566, 'toalla': 567, 'segundo': 568, 'gran': 569, 'confundido': 570, 'autobus': 571, 'culpable': 572, 'caballos': 573, 'prefiero': 574, 'verlo': 575, 'peligro': 576, 'pie': 577, 'pueden': 578, 'seis': 579, 'queda': 580, 'dano': 581, 'contigo': 582, 'canadiense': 583, 'cualquier': 584, 'realmente': 585, 'pelo': 586, 'corre': 587, 'ganado': 588, 'levanta': 589, 'calma': 590, 'tranquilo': 591, 'agradable': 592, 'renuncio': 593, 'abre': 594, 'abajo': 595, 'adelante': 596, 'pobre': 597, 'cayo': 598, 'veras': 599, 'mueras': 600, 'esquiar': 601, 'lejos': 602, 'oscuro': 603, 'termino': 604, 'caliente': 605, 'fueron': 606, 'vimos': 607, 'quedar': 608, 'os': 609, 'puse': 610, 'gratis': 611, 'blanco': 612, 'ocupada': 613, 'conduce': 614, 'intentarlo': 615, '¿puede': 616, 'ninos': 617, 'pez': 618, 'hicieron': 619, 'cocinar': 620, 'vuelta': 621, '¿sabes': 622, 'enseguida': 623, 'escuela': 624, 'colegio': 625, 'canto': 626, 'musica': 627, 'mujeres': 628, 'libros': 629, 'abrazo': 630, 'pregunto': 631, 'segui': 632, 'mirando': 633, 'cantando': 634, 'vayamos': 635, 'duelen': 636, 'caja': 637, 'mios': 638, 'respondio': 639, 'bajo': 640, 'paga': 641, 'sonando': 642, 'tacano': 643, 'vende': 644, 'estudio': 645, 'futbol': 646, 'toco': 647, 'dicho': 648, 'estudiante': 649, 'importante': 650, 'escuchando': 651, 'hambriento': 652, 'caballo': 653, 'ley': 654, 'mapa': 655, 'siguio': 656, '¿estabas': 657, 'quieres': 658, 'traeme': 659, 'doctor': 660, 'riendo': 661, 'nuestra': 662, 'almuerzo': 663, 'familia': 664, 'llevaba': 665, 'tele': 666, 'esperanza': 667, 'traiciono': 668, 'haciendo': 669, 'estado': 670, 'confiar': 671, 'corrio': 672, 'levantado': 673, '¿en': 674, 'estate': 675, 'llamame': 676, 'ayudame': 677, 'dispare': 678, 'vemos': 679, 'lavate': 680, 'sabemos': 681, 'quieto': 682, 'calmate': 683, 'ello': 684, 'olvide': 685, 'hable': 686, 'uso': 687, 'perfectamente': 688, 'delgado': 689, 'dejanos': 690, 'vamonos': 691, 'preparate': 692, 'parate': 693, 'prueba': 694, '¿para': 695, 'despues': 696, 'llegado': 697, 'guarda': 698, 'otro': 699, 'arriba': 700, 'dentro': 701, 'importa': 702, 'pregunta': 703, 'trae': 704, '¿los': 705, 'hables': 706, 'grites': 707, 'inteligente': 708, 'envidio': 709, 'detesto': 710, 'agrada': 711, 'hare': 712, 'intentando': 713, 'caso': 714, 'asi': 715, 'parte': 716, 'problema': 717, 'baja': 718, 'huele': 719, 'consciente': 720, 'mentir': 721, 'miro': 722, 'haremos': 723, 'ocupados': 724, 'sube': 725, '¿ha': 726, 'asiento': 727, 'tome': 728, 'quedando': 729, 'leo': 730, 'preguntare': 731, 'bailando': 732, 'estuvo': 733, 'muneca': 734, 'cancion': 735, 'lista': 736, 'deseo': 737, 'carta': 738, 'enorme': 739, 'correcto': 740, 'tuvo': 741, 'rio': 742, 'huevos': 743, 'gustas': 744, 'estaremos': 745, 'gemelos': 746, 'equipo': 747, 'edad': 748, 'invitado': 749, '¿usted': 750, 'fuma': 751, 'o': 752, 'dias': 753, 'aguarda': 754, 'comprar': 755, 'escritor': 756, 'embarazada': 757, 'preparado': 758, 'durmiendo': 759, 'negro': 760, 'carro': 761, 'corta': 762, 'ruido': 763, 'brazo': 764, 'pies': 765, 'pierna': 766, 'gritar': 767, 'monton': 768, 'odian': 769, 'conocen': 770, 'han': 771, 'palido': 772, '¿estan': 773, 'policia': 774, 'abra': 775, 'consigueme': 776, 'ingles': 777, 'negocios': 778, 'emocionante': 779, 'recuerdo': 780, 'cuarto': 781, 'afuera': 782, 'chiste': 783, 'madre': 784, 'satisfecho': 785, 'cansada': 786, 'famoso': 787, 'habia': 788, 'ninguna': 789, 'arma': 790, 'seco': 791, 'minuto': 792, 'bote': 793, 'juntos': 794, 'ganando': 795, 'debes': 796, 'vacas': 797, 'dan': 798, 'toques': 799, 'ano': 800, 'vacaciones': 801, 'hijos': 802, 'genio': 803, 'manzana': 804, 'hermanas': 805, '¿el': 806, 'maravilloso': 807, 'cosa': 808, 'hermano': 809, 'bicicleta': 810, 'trata': 811, 'encontrarlo': 812, 'cara': 813, 'hermanos': 814, 'escribio': 815, 'problemas': 816, 'corbata': 817, 'totalmente': 818, 'banco': 819, 'peligroso': 820, 'cielo': 821, 'zapatos': 822, 'respuesta': 823, 'persona': 824, 'trato': 825, 'guerra': 826, 'aun': 827, 'orale': 828, 'oh': 829, 'menti': 830, 'ganamos': 831, 'agarra': 832, 'luego': 833, 'dormi': 834, 'perdimos': 835, 'llamalo': 836, 'encanto': 837, 'profundo': 838, 'espere': 839, 'limpio': 840, 'rojo': 841, 'pasar': 842, 'sentate': 843, 'miente': 844, 'fantastico': 845, 'veloz': 846, 'volar': 847, 'verguenza': 848, 'golpeo': 849, 'digo': 850, 'funciono': 851, 'silencio': 852, 'tiro': 853, 'mando': 854, 'trabaja': 855, 'ira': 856, 'corriendo': 857, 'ejercicio': 858, 'pica': 859, 'comido': 860, '¿tiene': 861, 'estupendo': 862, 'cd': 863, 'irse': 864, 'pague': 865, 'juguemos': 866, 'miralo': 867, 'voz': 868, 'canta': 869, 'estudia': 870, 'mojado': 871, 'sordo': 872, 'feo': 873, 'hicimos': 874, '¿alguien': 875, 'sed': 876, 'atento': 877, 'acercate': 878, 'verme': 879, 'escapo': 880, 'pan': 881, 'dolares': 882, 'noticias': 883, 'oi': 884, 'arroz': 885, 'golf': 886, 'sopa': 887, 'queria': 888, 'necesite': 889, 'gas': 890, 'confio': 891, 'mareado': 892, 'despedido': 893, 'cocinando': 894, '¿ella': 895, 'llueva': 896, 'inutil': 897, 'simple': 898, '¿nos': 899, 'pego': 900, 'encendida': 901, 'vieron': 902, 'malvado': 903, 'mayor': 904, 'ayudara': 905, 'lentamente': 906, 'comimos': 907, 'aburridos': 908, 'arruinados': 909, 'cansados': 910, 'hiciste': 911, 'simpatico': 912, 'huevo': 913, 'ayudarme': 914, 'estes': 915, 'muere': 916, 'buenos': 917, 'celoso': 918, 'arrogante': 919, 'horrible': 920, 'confuso': 921, 'vine': 922, 'queso': 923, 'dudas': 924, 'sushi': 925, 'apuesta': 926, 'pistola': 927, 'perder': 928, 'inocente': 929, 'angel': 930, 'estudiando': 931, 'exhausto': 932, 'falso': 933, 'repugnante': 934, 'increible': 935, 'haga': 936, 'tuvieron': 937, 'necesitan': 938, 'desaparecio': 939, 'lava': 940, 'perdiendo': 941, 'envio': 942, 'vas': 943, 'podes': 944, 'tenes': 945, 'conducir': 946, 'ustedes': 947, 'mires': 948, 'sano': 949, 'traer': 950, 'aspecto': 951, 'pellizco': 952, 'sabra': 953, 'adorable': 954, 'nariz': 955, '¿cuantos': 956, 'japones': 957, 'volvi': 958, 'bebo': 959, 'disfruto': 960, 'jugar': 961, 'enganado': 962, 'hermana': 963, 'tenis': 964, 'mire': 965, 'primavera': 966, 'semana': 967, 'rescate': 968, 'respeto': 969, 'oso': 970, 'confiaba': 971, 'gustaria': 972, 'sere': 973, 'llamare': 974, 'cargo': 975, 'peor': 976, 'deber': 977, 'del': 978, 'volvamos': 979, 'espalda': 980, 'paz': 981, 'todas': 982, 'copia': 983, 'absurdo': 984, 'solos': 985, 'palabras': 986, 'recibio': 987, 'injusto': 988, 'ayudando': 989, 'fuimos': 990, 'borrachos': 991, '¿ellos': 992, 'deberias': 993, 'estabas': 994, 'sientes': 995, 'racista': 996, 'sentarme': 997, 'limpia': 998, 'viste': 999, 'taza': 1000, '¿has': 1001, 'aprende': 1002, 'compre': 1003, 'fiestas': 1004, 'camion': 1005, 'sol': 1006, 'posible': 1007, 'menudo': 1008, 'cinco': 1009, 'sudando': 1010, 'gafas': 1011, 'seria': 1012, 'preferiria': 1013, 'probable': 1014, 'error': 1015, 'patetico': 1016, 'parecen': 1017, 'mesa': 1018, 'norma': 1019, 'acerco': 1020, 'paliza': 1021, 'robado': 1022, 'avergonzado': 1023, 'conoce': 1024, 'dice': 1025, 'causa': 1026, 'rompio': 1027, 'mato': 1028, 'molestes': 1029, 'enganes': 1030, 'mientas': 1031, 'suena': 1032, 'llegar': 1033, 'lapiz': 1034, 'preocupado': 1035, 'largo': 1036, 'correo': 1037, 'aire': 1038, 'volvio': 1039, 'abandono': 1040, 'adulto': 1041, 'acerca': 1042, 'viajar': 1043, 'debemos': 1044, 'papel': 1045, 'salte': 1046, 'corri': 1047, 'intento': 1048, 'sonrie': 1049, 'preocupo': 1050, 'cai': 1051, 'cante': 1052, 'entre': 1053, 'fuertemente': 1054, 'mojada': 1055, 'vista': 1056, 'cogelo': 1057, 'breve': 1058, 'date': 1059, 'sente': 1060, 'vago': 1061, 'perdida': 1062, 'diselo': 1063, 'nado': 1064, 'intentalo': 1065, 'mirame': 1066, 'iremos': 1067, 'respondeme': 1068, 'jesus': 1069, 'venid': 1070, 'llores': 1071, 'dieron': 1072, 'esperare': 1073, 'olvidalo': 1074, 'grave': 1075, 'consiguio': 1076, 'apesta': 1077, 'deci': 1078, 'condujo': 1079, 'vigila': 1080, 'bordo': 1081, 'cualquiera': 1082, 'llega': 1083, 'traed': 1084, 'hechos': 1085, 'existe': 1086, 'rindio': 1087, 'humano': 1088, 'rompi': 1089, 'risita': 1090, 'dudo': 1091, 'conoci': 1092, 'renuncie': 1093, 'ultimo': 1094, 'escribi': 1095, 'comprando': 1096, 'torpe': 1097, 'magia': 1098, 'dura': 1099, 'ningun': 1100, 'sientese': 1101, 'alerta': 1102, 'solto': 1103, 'metio': 1104, 'gira': 1105, 'derecha': 1106, 'ricos': 1107, 'debiles': 1108, '¿llamaste': 1109, 'puntual': 1110, 'contacto': 1111, 'termine': 1112, 'encontrar': 1113, 'pedir': 1114, 'vistazo': 1115, 'vengo': 1116, 'cocinero': 1117, 'disculpas': 1118, 'conduzco': 1119, 'odiaba': 1120, 'amaba': 1121, 'matematicas': 1122, 'huelo': 1123, 'vote': 1124, 'presente': 1125, 'perdedor': 1126, 'saludable': 1127, 'gorda': 1128, 'mentalizado': 1129, 'acabado': 1130, 'fresco': 1131, 'vivir': 1132, 'hagamoslo': 1133, 'pide': 1134, 'callate': 1135, 'adios': 1136, 'desperto': 1137, 'loca': 1138, '¿deberia': 1139, 'muestrame': 1140, 'ladron': 1141, 'echa': 1142, 'actua': 1143, 'tonteria': 1144, 'sonrieron': 1145, 'gritaron': 1146, 'viejos': 1147, 'piensa': 1148, 'cambio': 1149, 'ahogo': 1150, 'cedio': 1151, 'perezoso': 1152, 'furioso': 1153, 'pruebate': 1154, '¿estaba': 1155, 'amamos': 1156, 'sentamos': 1157, 'despiertos': 1158, 'dolor': 1159, 'lastima': 1160, 'retrasado': 1161, '¿estamos': 1162, 'herida': 1163, 'realista': 1164, 'paciencia': 1165, 'intentar': 1166, 'hagalo': 1167, 'saben': 1168, 'mitad': 1169, 'motivado': 1170, 'pateo': 1171, 'oye': 1172, 'romantico': 1173, 'chino': 1174, 'manzanas': 1175, 'arreglarlo': 1176, 'identificacion': 1177, 'frijoles': 1178, 'ajedrez': 1179, 'miel': 1180, 'juegos': 1181, 'leon': 1182, 'ex': 1183, 'oidos': 1184, 'actor': 1185, 'ahogando': 1186, 'vosotros': 1187, 'indignado': 1188, 'ciervo': 1189, 'llamas': 1190, 'nevando': 1191, 'siga': 1192, 'caminando': 1193, 'sueltame': 1194, 'atentamente': 1195, 'entro': 1196, 'orejas': 1197, 'descanso': 1198, 'mirar': 1199, 'quejarte': 1200, 'tomate': 1201, 'locura': 1202, 'rieron': 1203, 'dijeron': 1204, 'quieren': 1205, 'simpaticos': 1206, 'dispararon': 1207, 'huyo': 1208, 'hablara': 1209, 'teniamos': 1210, 'sabiamos': 1211, 'vivimos': 1212, 'quedamos': 1213, 'dormidos': 1214, 'bienvenido': 1215, '¿soy': 1216, 'enojada': 1217, 'molesto': 1218, 'patinar': 1219, 'sobre': 1220, 'vuelvas': 1221, 'peces': 1222, 'platos': 1223, 'grosero': 1224, 'lastimes': 1225, 'vacia': 1226, 'pajaro': 1227, 'algunos': 1228, 'bebio': 1229, 'luce': 1230, 'murieron': 1231, 'admiraba': 1232, 'prestado': 1233, 'verte': 1234, 'merecia': 1235, 'desprecio': 1236, 'perdono': 1237, 'invierno': 1238, 'resfriado': 1239, 'tenido': 1240, 'papa': 1241, 'lei': 1242, 'levantate': 1243, 'raton': 1244, 'luz': 1245, 'renunciar': 1246, 'despertado': 1247, 'llamar': 1248, 'extranar': 1249, 'dire': 1250, 'olvidadizo': 1251, 'banda': 1252, 'encontrado': 1253, 'doloroso': 1254, 'pone': 1255, 'regalo': 1256, 'depende': 1257, 'injusta': 1258, 'entrada': 1259, 'continuar': 1260, 'contrato': 1261, 'claramente': 1262, 'linea': 1263, 'escribir': 1264, 'pelear': 1265, 'pasan': 1266, 'respiro': 1267, 'basta': 1268, 'encontraron': 1269, 'deben': 1270, 'japon': 1271, 'asusta': 1272, 'inservible': 1273, 'comemos': 1274, 'primos': 1275, 'casados': 1276, 'atrapados': 1277, 'unos': 1278, 'vendra': 1279, 'trabajas': 1280, 'rojas': 1281, 'respira': 1282, 'besarte': 1283, 'comen': 1284, 'compro': 1285, 'treinta': 1286, 'manera': 1287, 'lata': 1288, 'dejes': 1289, 'pasala': 1290, 'llora': 1291, 'subete': 1292, 'golpe': 1293, 'golfista': 1294, 'tio': 1295, 'abofeteo': 1296, 'animal': 1297, 'deprimido': 1298, 'estudiar': 1299, 'plata': 1300, 'asco': 1301, 'hacen': 1302, 'afortunado': 1303, '¿cuanto': 1304, 'cuesta': 1305, 'traje': 1306, 'arreglar': 1307, 'levantarme': 1308, 'aranas': 1309, 'ni': 1310, 'simplemente': 1311, 'gustaba': 1312, 'amiga': 1313, 'regresar': 1314, 'quisiera': 1315, 'ocupare': 1316, 'ensenar': 1317, 'detras': 1318, 'desafortunado': 1319, 'paro': 1320, 'lastimado': 1321, 'navidad': 1322, 'tarea': 1323, 'barato': 1324, 'arriesgado': 1325, 'buscando': 1326, 'seamos': 1327, 'esperemos': 1328, 'escritorio': 1329, 'estomago': 1330, 'cocina': 1331, 'veia': 1332, 'aparecio': 1333, 'azucar': 1334, 'verano': 1335, 'ayudaron': 1336, 'muertos': 1337, 'tuya': 1338, 'responder': 1339, 'travieso': 1340, 'caluroso': 1341, '¿y': 1342, 'sido': 1343, 'termina': 1344, '¿adonde': 1345, 'paris': 1346, 'guardia': 1347, 'claro': 1348, 'mentiste': 1349, 'fuiste': 1350, 'tuyos': 1351, '¿podes': 1352, 'oido': 1353, '¿ves': 1354, 'confies': 1355, 'provecho': 1356, 'viaje': 1357, 'honesto': 1358, 'tokio': 1359, 'corte': 1360, 'escuche': 1361, 'opcion': 1362, 'vuestro': 1363, 'aquel': 1364, 'quise': 1365, 'campana': 1366, 'estuve': 1367, 'sorprendio': 1368, 'compras': 1369, 'leerlo': 1370, 'segura': 1371, 'propio': 1372, 'mente': 1373, 'abierta': 1374, 'radio': 1375, '¿este': 1376, 'importara': 1377, 'salida': 1378, 'limitate': 1379, 'mensaje': 1380, 'cantante': 1381, 'cenar': 1382, 'gris': 1383, 'fria': 1384, 'cambiar': 1385, 'beben': 1386, 'viven': 1387, 'hotel': 1388, 'enemigo': 1389, 'odiamos': 1390, 'conocimos': 1391, 'locos': 1392, 'pasando': 1393, 'sirve': 1394, 'habeis': 1395, '¿sois': 1396, 'estudiantes': 1397, 'alguna': 1398, 'orden': 1399, 'tenian': 1400, 'lluvia': 1401, 'seguir': 1402, 'paraguas': 1403, 'piernas': 1404, 'permanecio': 1405, 'francia': 1406, 'haces': 1407, 'tomo': 1408, 'normas': 1409, 'pasado': 1410, 'izquierda': 1411, 'seca': 1412, 'tormenta': 1413, 'traidor': 1414, 'encendio': 1415, 'sento': 1416, 'oimos': 1417, '¿podrias': 1418, '¿compraste': 1419, 'salta': 1420, 'abrazame': 1421, 'hui': 1422, 'dimito': 1423, 'llore': 1424, 'pruebalo': 1425, 'ayudanos': 1426, 'forma': 1427, 'esperame': 1428, 'arregla': 1429, 'sujeta': 1430, 'diviertanse': 1431, 'hazme': 1432, 'niego': 1433, 'sonrei': 1434, 'deten': 1435, 'llevate': 1436, 'ganaron': 1437, 'prueben': 1438, 'usa': 1439, 'intentamos': 1440, 'escribeme': 1441, 'perdiste': 1442, 'vuelan': 1443, 'veni': 1444, 'preguntes': 1445, 'corras': 1446, 'sigueme': 1447, 'afeito': 1448, 'dj': 1449, 'sosten': 1450, 'consciencia': 1451, 'rei': 1452, 'ciega': 1453, 'obeso': 1454, 'televisor': 1455, 'veamos': 1456, 'hazte': 1457, 'cuidate': 1458, 'cayeron': 1459, 'inclino': 1460, 'preocupa': 1461, 'mudo': 1462, 'pruebatelo': 1463, 'intentaremos': 1464, 'dieciocho': 1465, 'comprueba': 1466, '¿fue': 1467, 'pares': 1468, 'olvidate': 1469, 'hey': 1470, 'aburrimiento': 1471, 'bonito': 1472, 'saltar': 1473, 'oigo': 1474, 'arte': 1475, 'prometi': 1476, 'llegue': 1477, 'compraria': 1478, 'agotado': 1479, 'escondido': 1480, 'bagre': 1481, 'asustado': 1482, 'vacio': 1483, 'verde': 1484, 'dejale': 1485, 'vieja': 1486, 'hablame': 1487, 'valdra': 1488, 'pertenece': 1489, 'quedaron': 1490, 'baila': 1491, 'olvido': 1492, 'salido': 1493, 'gimio': 1494, 'obedecio': 1495, 'detuvo': 1496, 'ronca': 1497, 'pagara': 1498, 'enciendelo': 1499, '¿era': 1500, 'reimos': 1501, 'pobres': 1502, 'pero': 1503, 'discreto': 1504, 'razonable': 1505, 'tolerante': 1506, '¿juegas': 1507, 'entres': 1508, 'fumes': 1509, 'preocupes': 1510, 'vistete': 1511, 'recto': 1512, 'encontro': 1513, 'agallas': 1514, 'ocho': 1515, 'fingiendo': 1516, 'curioso': 1517, 'pregunte': 1518, 'comprado': 1519, 'fruta': 1520, 'arena': 1521, 'jazz': 1522, 'rock': 1523, 'refiero': 1524, 'esconderme': 1525, 'frecuencia': 1526, 'impuestos': 1527, 'labios': 1528, 'ovni': 1529, 'vendo': 1530, 'agradezco': 1531, 'probare': 1532, 'curiosidad': 1533, 'quisquilloso': 1534, 'enamorada': 1535, 'jodiendo': 1536, 'llevar': 1537, 'simpatica': 1538, 'arpa': 1539, 'empecemos': 1540, 'apuremonos': 1541, 'vayamonos': 1542, 'divertida': 1543, 'muchas': 1544, 'mueve': 1545, 'bajalo': 1546, 'muerta': 1547, 'duermas': 1548, 'saque': 1549, 'descansad': 1550, 'abrazaron': 1551, 'esperaron': 1552, 'nuevos': 1553, 'sonrojo': 1554, 'vitoreo': 1555, 'aplaudio': 1556, 'accidente': 1557, 'gruno': 1558, 'adelantado': 1559, 'nego': 1560, 'estornudo': 1561, 'ensena': 1562, 'disgustado': 1563, 'apagalo': 1564, '¿hacia': 1565, '¿estuvo': 1566, 'trabajamos': 1567, 'separamos': 1568, 'ayudamos': 1569, 'conocemos': 1570, 'luchar': 1571, 'limpios': 1572, 'desastre': 1573, '¿quienes': 1574, 'trampas': 1575, 'siguiente': 1576, '¿vas': 1577, 'desmayaron': 1578, 'lastimas': 1579, 'hermosa': 1580, 'hierve': 1581, 'revisa': 1582, 'alrededor': 1583, 'echale': 1584, 'cuando': 1585, 'llamado': 1586, '¿vino': 1587, '¿ayudaste': 1588, '¿bebes': 1589, '¿duele': 1590, 'nota': 1591, '¿funciona': 1592, 'tientes': 1593, 'encuentra': 1594, 'trago': 1595, 'evita': 1596, 'enfado': 1597, 'admiro': 1598, 'rezando': 1599, 'mordi': 1600, 'labio': 1601, 'conduciendo': 1602, 'probar': 1603, 'opera': 1604, 'pluma': 1605, 'ayude': 1606, 'mudarme': 1607, 'dulces': 1608, 'pizza': 1609, 'viajes': 1610, 'engane': 1611, 'eche': 1612, 'espacio': 1613, 'estrella': 1614, 'volvere': 1615, 'demandare': 1616, 'anorexico': 1617, 'autista': 1618, 'descalzo': 1619, 'divorciada': 1620, 'rebelde': 1621, 'aliviado': 1622, 'inquieto': 1623, 'tanto': 1624, 'pensando': 1625, 'decision': 1626, 'solido': 1627, 'maldicion': 1628, 'cavando': 1629, 'sonriendo': 1630, 'escribiendo': 1631, 'mona': 1632, 'alta': 1633, 'cesped': 1634, 'mandibula': 1635, 'proba': 1636, 'abri': 1637, 'apurate': 1638, 'repitelo': 1639, 'entonces': 1640, 'tanque': 1641, 'concentrate': 1642, 'control': 1643, 'llevanos': 1644, 'cuentame': 1645, 'funcionara': 1646, 'mentira': 1647, 'sentaron': 1648, 'grandes': 1649, 'entraron': 1650, 'vitorearon': 1651, 'escaparon': 1652, 'ayudan': 1653, 'aman': 1654, 'vendran': 1655, 'sencillo': 1656, 'pastel': 1657, 'aburre': 1658, 'cancelo': 1659, 'encogio': 1660, 'poli': 1661, 'veterano': 1662, 'manoso': 1663, 'panico': 1664, 'viniendo': 1665, 'estricto': 1666, 'bebida': 1667, 'demandar': 1668, 'rendimos': 1669, 'cerrados': 1670, 'saliendo': 1671, 'escondidos': 1672, 'pico': 1673, 'construyo': 1674, 'tinta': 1675, 'pasaron': 1676, 'estaras': 1677, 'cerdo': 1678, 'intentado': 1679, 'equivocada': 1680, 'altos': 1681, 'corren': 1682, 'tomarlo': 1683, 'vengan': 1684, '¿necesito': 1685, 'rapidamente': 1686, 'rindas': 1687, 'tires': 1688, 'atencion': 1689, 'empujes': 1690, 'circulo': 1691, 'beban': 1692, 'comete': 1693, 'mejores': 1694, 'damelo': 1695, 'deme': 1696, 'agarrate': 1697, 'aferrate': 1698, 'agujero': 1699, 'cogieron': 1700, 'andando': 1701, 'machista': 1702, 'demente': 1703, 'sirvase': 1704, 'sangraba': 1705, 'cuerda': 1706, 'mori': 1707, 'americano': 1708, 'tosiendo': 1709, 'estornudando': 1710, 'queme': 1711, 'explicar': 1712, 'sentirlo': 1713, 'pude': 1714, 'pienso': 1715, 'robo': 1716, 'llevo': 1717, 'bmw': 1718, 'escuchar': 1719, 'temo': 1720, 'alimente': 1721, 'sediento': 1722, 'esconder': 1723, 'bomba': 1724, 'cancer': 1725, 'recien': 1726, 'camellos': 1727, 'deporte': 1728, 'trenes': 1729, 'tulipanes': 1730, 'hornear': 1731, 'naturaleza': 1732, 'negocio': 1733, 'bano': 1734, 'cambie': 1735, 'corona': 1736, 'reina': 1737, 'barco': 1738, 'humo': 1739, 'vendi': 1740, 'ganas': 1741, 'permitire': 1742, 'comprare': 1743, 'matare': 1744, 'encontrarme': 1745, 'encargare': 1746, 'cogere': 1747, 'mirare': 1748, 'testigo': 1749, 'artista': 1750, 'huerfano': 1751, 'desesperado': 1752, 'impresionada': 1753, 'asegurado': 1754, 'mejorado': 1755, 'siente': 1756, 'privado': 1757, 'lloviendo': 1758, 'peluca': 1759, 'legal': 1760, 'quebro': 1761, 'nevado': 1762, 'ironico': 1763, 'servira': 1764, 'sabado': 1765, 'obsoleto': 1766, 'pena': 1767, 'dejelo': 1768, 'terminar': 1769, 'cogerlo': 1770, 'preguntemosle': 1771, 'hagamos': 1772, 'prosigamos': 1773, 'sigamos': 1774, 'aquellos': 1775, 'oferta': 1776, 'preguntar': 1777, 'cuello': 1778, 'quitate': 1779, 'monos': 1780, 'cambia': 1781, 'subase': 1782, 'leelo': 1783, 'rusia': 1784, 'manda': 1785, 'ingenua': 1786, 'modelo': 1787, 'junto': 1788, 'quedito': 1789, 'entrometas': 1790, 'disparar': 1791, 'preocuparte': 1792, 'barre': 1793, 'numero': 1794, 'llevame': 1795, 'aquella': 1796, 'copa': 1797, 'chicas': 1798, 'sabian': 1799, 'estaran': 1800, 'vivos': 1801, 'verdes': 1802, 'enojo': 1803, 'oyo': 1804, 'ausente': 1805, 'delgaducho': 1806, 'acuerda': 1807, 'cumplio': 1808, 'rota': 1809, 'sucio': 1810, 'adoptado': 1811, 'violento': 1812, 'esperad': 1813, 'roncando': 1814, 'piso': 1815, 'podriamos': 1816, 'preguntamos': 1817, 'robados': 1818, 'intencion': 1819, 'hablamos': 1820, 'tuvimos': 1821, 'intrigados': 1822, 'abogados': 1823, 'hundiendo': 1824, 'especiales': 1825, 'alivio': 1826, 'ocurrio': 1827, 'teneis': 1828, 'preguntas': 1829, 'hueles': 1830, 'coca': 1831, 'cola': 1832, 'hondo': 1833, 'traemelo': 1834, 'comerme': 1835, 'ayudarle': 1836, 'verlos': 1837, 'levantarte': 1838, 'pelota': 1839, 'pieza': 1840, 'dijiste': 1841, 'preparada': 1842, 'apresurado': 1843, 'pierdas': 1844, 'cuchillo': 1845, 'disfrute': 1846, 'daselo': 1847, 'pista': 1848, 'buenas': 1849, 'acelero': 1850, 'contar': 1851, 'cambiado': 1852, 'regreso': 1853, 'techo': 1854, 'juega': 1855, 'reto': 1856, 'enfadada': 1857, 'extranjero': 1858, 'acostar': 1859, 'vienen': 1860, 'esconde': 1861, 'apurensen': 1862, 'muchachos': 1863, 'presto': 1864, 'demostrarlo': 1865, 'cuento': 1866, 'sigo': 1867, 'levante': 1868, 'insectos': 1869, 'planchar': 1870, 'tos': 1871, 'corazonada': 1872, 'rancho': 1873, 'hogar': 1874, 'hipo': 1875, 'ojala': 1876, 'venderlo': 1877, 'pollo': 1878, 'galletas': 1879, 'historia': 1880, 'mahjongg': 1881, 'norte': 1882, 'aumento': 1883, 'tener': 1884, 'normalmente': 1885, 'saberlo': 1886, 'arrestado': 1887, 'dejaron': 1888, 'poder': 1889, 'cuidadoso': 1890, 'honor': 1891, 'quedare': 1892, 'dare': 1893, 'principiante': 1894, 'cansancio': 1895, 'apurado': 1896, 'meditando': 1897, 'optimista': 1898, 'reforma': 1899, 'venta': 1900, 'dificil': 1901, 'cedera': 1902, 'excusa': 1903, 'insulto': 1904, 'delicioso': 1905, 'diferente': 1906, 'seguros': 1907, 'lento': 1908, 'llevalo': 1909, 'dejalos': 1910, 'cada': 1911, 'sentemonos': 1912, 'caminas': 1913, 'corazon': 1914, 'lastimo': 1915, 'vayase': 1916, 'precios': 1917, 'ahorco': 1918, 'rosas': 1919, 'extrana': 1920, 'provocaba': 1921, 'belleza': 1922, 'dejen': 1923, 'farsa': 1924, 'gallina': 1925, 'inmoral': 1926, 'obsceno': 1927, 'suicidio': 1928, 'bandera': 1929, 'enfermos': 1930, 'trabajan': 1931, 'idiotas': 1932, 'fatal': 1933, 'piensatelo': 1934, 'tira': 1935, 'quedarse': 1936, 'intervino': 1937, 'enamorado': 1938, 'relajado': 1939, 'fumando': 1940, 'estudiamos': 1941, 'inquietos': 1942, 'observando': 1943, 'tragedia': 1944, 'causo': 1945, 'fallo': 1946, 'bolso': 1947, 'pinto': 1948, 'importaria': 1949, 'das': 1950, 'quiza': 1951, 'vuelva': 1952, '¿sos': 1953, 'fantasma': 1954, 'preguntame': 1955, 'abejas': 1956, 'quedarme': 1957, 'ayudarnos': 1958, 'probarlo': 1959, 'charlar': 1960, 'respirar': 1961, 'callar': 1962, 'silbar': 1963, 'cerra': 1964, 'cuente': 1965, 'puedas': 1966, '¿la': 1967, '¿confias': 1968, 'juegues': 1969, 'mentiras': 1970, 'miraron': 1971, 'sonrisa': 1972, 'baston': 1973, 'amanecer': 1974, 'balon': 1975, 'boleto': 1976, 'diez': 1977, 'coches': 1978, 'etiope': 1979, 'sonador': 1980, 'pintor': 1981, 'seguia': 1982, 'tigres': 1983, 'muchacha': 1984, 'jardinero': 1985, 'cabello': 1986, 'eh': 1987, 'estais': 1988, 'hacemos': 1989, 'interesante': 1990, 'lengua': 1991, 'permitir': 1992, 'aguanto': 1993, 'volver': 1994, 'podia': 1995, 'muerte': 1996, 'impotente': 1997, 'rechazado': 1998, 'supongo': 1999, 'malas': 2000, 'fiebre': 2001, 'trabajos': 2002, 'automovil': 2003, 'aprender': 2004, 'escalera': 2005, 'panuelo': 2006, 'unas': 2007, 'empleo': 2008, 'rindo': 2009, 'pedi': 2010, 'alcalde': 2011, 'trate': 2012, 'naci': 2013, 'extenuado': 2014, 'detendre': 2015, 'detective': 2016, 'atrasado': 2017, 'friendo': 2018, 'apuros': 2019, 'perfecta': 2020, 'especial': 2021, 'gritando': 2022, 'noticia': 2023, 'japonesa': 2024, 'viernes': 2025, 'suave': 2026, 'sorpresa': 2027, 'remontemos': 2028, 'servida': 2029, 'sobrina': 2030, 'volo': 2031, 'camisa': 2032, 'abran': 2033, 'dimelo': 2034, 'dile': 2035, 'drogas': 2036, 'amas': 2037, 'durmio': 2038, 'apunalo': 2039, 'cartas': 2040, 'derecho': 2041, 'alarma': 2042, 'funcionar': 2043, 'terrible': 2044, 'echada': 2045, 'lago': 2046, 'red': 2047, 'mar': 2048, 'color': 2049, 'pozo': 2050, 'cura': 2051, 'separados': 2052, 'equivocados': 2053, 'estupendamente': 2054, 'rusos': 2055, 'preocupados': 2056, 'destino': 2057, 'tiempos': 2058, 'duros': 2059, 'suya': 2060, 'inseguro': 2061, 'cogio': 2062, 'primo': 2063, 'apaga': 2064, 'encienda': 2065, 'dedos': 2066, 'profesores': 2067, 'cerramos': 2068, 'compartimos': 2069, 'seremos': 2070, 'canadienses': 2071, 'premio': 2072, 'peine': 2073, 'anota': 2074, 'traicionaste': 2075, 'murmurando': 2076, 'fiar': 2077, 'llegas': 2078, 'alas': 2079, '¿estais': 2080, '¿os': 2081, 'flexible': 2082, 'dientes': 2083, 'permiten': 2084, 'conejos': 2085, 'verifique': 2086, 'elige': 2087, 'espejo': 2088, 'cierre': 2089, 'controlate': 2090, 'cruza': 2091, 'mataste': 2092, '¿ya': 2093, 'dar': 2094, 'quiera': 2095, '¿vives': 2096, 'llena': 2097, 'consejo': 2098, 'duerme': 2099, 'grano': 2100, 'espada': 2101, 'daselos': 2102, 'arruino': 2103, 'pocos': 2104, 'animales': 2105, 'cazar': 2106, 'sonreir': 2107, 'jugo': 2108, 'grita': 2109, 'aterroriza': 2110, 'nacio': 2111, 'caballero': 2112, 'solitario': 2113, 'rojos': 2114, 'afortunados': 2115, 'violencia': 2116, 'sudar': 2117, 'pararla': 2118, 'preguntado': 2119, 'helado': 2120, 'parque': 2121, 'lastime': 2122, 'sorpresas': 2123, 'duda': 2124, 'australia': 2125, 'playa': 2126, 'vuestra': 2127, 'gustaban': 2128, 'deuda': 2129, 'pasmado': 2130, 'estados': 2131, 'unidos': 2132, 'disponible': 2133, 'clase': 2134, 'viendo': 2135, 'sospechoso': 2136, 'coma': 2137, 'adecuado': 2138, 'abierto': 2139, 'nevar': 2140, 'ayer': 2141, 'mediodia': 2142, 'truco': 2143, 'hablen': 2144, 'fuerza': 2145, 'pulso': 2146, 'deshonesto': 2147, 'ofensivo': 2148, 'pesada': 2149, 'carrera': 2150, 'trajo': 2151, 'detesta': 2152, 'mejorando': 2153, 'punetazo': 2154, 'pruebas': 2155, 'partido': 2156, 'completamente': 2157, 'comiste': 2158, 'empezamos': 2159, 'llamaste': 2160, '¿ustedes': 2161, 'sorprendido': 2162, 'cometio': 2163, 'cobarde': 2164, 'caigo': 2165, 'mantuvo': 2166, 'corred': 2167, 'parad': 2168, 'esperen': 2169, 'oculte': 2170, 'tomatelo': 2171, 'soda': 2172, 'ataque': 2173, 'pillas': 2174, 'metete': 2175, 'sali': 2176, 'diecinueve': 2177, 'procuramos': 2178, 'sean': 2179, 'gentiles': 2180, 'pirate': 2181, 'llamanos': 2182, 'andale': 2183, 'sueltalo': 2184, 'bajate': 2185, 'golpea': 2186, 'sostenlo': 2187, 'resista': 2188, 'abraza': 2189, 'incline': 2190, 'congele': 2191, 'mudado': 2192, 'intente': 2193, 'afectado': 2194, 'unete': 2195, 'guardalo': 2196, 'desapercibido': 2197, 'empujala': 2198, 'muestramelo': 2199, 'saltatelo': 2200, 'paralo': 2201, 'decime': 2202, 'preocupamos': 2203, 'bienvenidos': 2204, 'corria': 2205, 'preguntales': 2206, 'aparta': 2207, 'apartate': 2208, 'animate': 2209, 'esposale': 2210, 'encontralo': 2211, 'pierdete': 2212, 'esfumate': 2213, '¿subes': 2214, 'agarralo': 2215, 'convine': 2216, 'maldije': 2217, 'fracase': 2218, 'arreglo': 2219, 'suspire': 2220, 'calmado': 2221, 'facilon': 2222, 'rica': 2223, 'calentito': 2224, 'prohibido': 2225, 'besa': 2226, 'casate': 2227, 'salva': 2228, 'avisale': 2229, 'observalos': 2230, 'callo': 2231, 'apunta': 2232, 'atrapelo': 2233, 'capturalo': 2234, 'ladran': 2235, 'mintais': 2236, 'tienta': 2237, 'siguenos': 2238, 'olvidame': 2239, 'preparaos': 2240, 'alguno': 2241, 'horror': 2242, 'divierte': 2243, 'ruego': 2244, 'eructe': 2245, 'exhale': 2246, 'arrodille': 2247, 'tropece': 2248, 'cocinare': 2249, 'vivire': 2250, 'cantare': 2251, 'parare': 2252, 'caminare': 2253, 'pro': 2254, 'amado': 2255, 'quemo': 2256, 'diluviaba': 2257, 'llovio': 2258, 'nevo': 2259, 'guardalos': 2260, 'marchate': 2261, 'marchar': 2262, 'dejeme': 2263, 'intentemoslo': 2264, 'tumbate': 2265, 'aflojalo': 2266, 'supuesto': 2267, 'disparad': 2268, '¿perdona': 2269, 'pontelo': 2270, 'registren': 2271, 'vease': 2272, 'candente': 2273, 'firme': 2274, 'firma': 2275, 'manten': 2276, 'detenlos': 2277, 'asume': 2278, '¿entonces': 2279, 'perdieron': 2280, 'dormito': 2281, 'teje': 2282, 'mece': 2283, 'juro': 2284, 'voto': 2285, 'saludo': 2286, 'abusado': 2287, 'fallamos': 2288, 'olvidamos': 2289, 'conversamos': 2290, 'esperamos': 2291, 'veremos': 2292, 'aabe': 2293, 'maneja': 2294, 'pedazo': 2295, 'intentaste': 2296, '¿tengo': 2297, 'equivoco': 2298, 'respondale': 2299, 'apuntas': 2300, 'cantan': 2301, 'comprobad': 2302, 'escoge': 2303, 'vente': 2304, 'pasale': 2305, 'parale': 2306, 'lloran': 2307, 'vengas': 2308, 'salteis': 2309, 'mireis': 2310, 'movais': 2311, 'cantes': 2312, 'esperes': 2313, 'enfrentate': 2314, 'quema': 2315, 'seguilo': 2316, 'siguele': 2317, 'olvidenlo': 2318, 'perdonanos': 2319, 'consiguete': 2320, 'fe': 2321, 'descolgo': 2322, 'gentil': 2323, 'mezquino': 2324, 'reia': 2325, 'blanca': 2326, 'sur': 2327, 'helo': 2328, 'tragico': 2329, 'admito': 2330, 'solte': 2331, 'imagino': 2332, 'agradas': 2333, 'objete': 2334, 'grite': 2335, 'sobrevivi': 2336, 'vomite': 2337, 'entrare': 2338, 'gemelo': 2339, 'codicioso': 2340, 'inmune': 2341, 'moviendo': 2342, 'flacucho': 2343, 'doce': 2344, 'ignora': 2345, 'inofensivo': 2346, '¿vale': 2347, 'viento': 2348, 'apuntes': 2349, 'abandona': 2350, 'dejar': 2351, 'dejadme': 2352, 'charlemos': 2353, 'besemonos': 2354, 'oremos': 2355, 'desistamos': 2356, 'cantemos': 2357, 'nademos': 2358, 'conversemos': 2359, 'votemos': 2360, 'caminemos': 2361, 'trabajemos': 2362, 'levantalo': 2363, 'miranos': 2364, 'buscalo': 2365, 'comentarios': 2366, 'reemplazadlo': 2367, 'patata': 2368, 'siguelo': 2369, 'retrocede': 2370, 'detente': 2371, 'harto': 2372, 'notas': 2373, 'enganaron': 2374, 'intentaron': 2375, 'votaron': 2376, 'vuela': 2377, 'convino': 2378, 'aquiescente': 2379, 'eructo': 2380, 'bailo': 2381, 'reprobo': 2382, 'peleo': 2383, 'ahogado': 2384, 'pata': 2385, 'salto': 2386, 'asintio': 2387, 'rezo': 2388, 'suspiro': 2389, 'charlo': 2390, 'guino': 2391, 'bostezo': 2392, 'llorara': 2393, 'morira': 2394, 'marchado': 2395, 'disparado': 2396, 'compramos': 2397, 'cedes': 2398, 'divertimos': 2399, 'fracasaremos': 2400, 'ayudaremos': 2401, 'cantaremos': 2402, 'esperaremos': 2403, 'trabajaremos': 2404, 'terminamos': 2405, 'perdidos': 2406, 'hartos': 2407, 'madera': 2408, 'arde': 2409, 'decides': 2410, 'fallaste': 2411, '¿hemos': 2412, 'creativos': 2413, 'clemente': 2414, 'especifico': 2415, 'exhaustivo': 2416, 'vigilante': 2417, 'comenzar': 2418, 'compruebalo': 2419, 'consuela': 2420, 'cociname': 2421, '¿ganaste': 2422, 'hacedlo': 2423, 'ahorita': 2424, 'boliche': 2425, 'discutais': 2426, 'copieis': 2427, 'peleeis': 2428, 'rias': 2429, 'dispares': 2430, 'sonrias': 2431, 'lanza': 2432, 'moneda': 2433, 'descubrelo': 2434, 'delante': 2435, 'envejecio': 2436, 'odiado': 2437, 'guarro': 2438, 'pajero': 2439, 'monje': 2440, 'pido': 2441, 'culpo': 2442, 'compartir': 2443, 'confese': 2444, 'noto': 2445, 'enfade': 2446, 'emborrache': 2447, 'ratas': 2448, 'trescientos': 2449, 'gota': 2450, 'traigo': 2451, 'contrate': 2452, 'extranaba': 2453, 'efectivo': 2454, 'autos': 2455, 'preguntaria': 2456, 'cambiare': 2457, 'panadero': 2458, 'desconcertado': 2459, 'comprometida': 2460, 'ayunando': 2461, 'fraile': 2462, 'carcel': 2463, 'neutral': 2464, 'descansando': 2465, 'egoista': 2466, 'muero': 2467, 'preocupada': 2468, 'ignoralos': 2469, 'ventoso': 2470, 'costo': 2471, 'invito': 2472, 'chido': 2473, 'yenes': 2474, 'quilombo': 2475, 'normativa': 2476, 'vicio': 2477, 'nublado': 2478, 'moviendote': 2479, 'hazmelo': 2480, 'bailemos': 2481, 'entremos': 2482, 'guateque': 2483, 'festejemos': 2484, 'relajemonos': 2485, 'comencemos': 2486, 'desde': 2487, 'busca': 2488, 'memorizalo': 2489, 'significa': 2490, 'resiste': 2491, 'liberale': 2492, 'recuerdalo': 2493, 'responded': 2494, 'disparos': 2495, 'mandalo': 2496, 'zorra': 2497, 'haciendolo': 2498, 'ojeada': 2499, 'quemaron': 2500, 'llamaron': 2501, 'bailaron': 2502, 'besaron': 2503, 'vayan': 2504, 'obedecieron': 2505, 'caminaron': 2506, 'malos': 2507, 'decidio': 2508, 'espiro': 2509, 'desmayo': 2510, 'regodeo': 2511, 'doc': 2512, 'inhalo': 2513, 'ordenado': 2514, 'arrodillo': 2515, 'relajo': 2516, 'resbalo': 2517, 'polvo': 2518, 'alegre': 2519, 'despertalo': 2520, 'encontrarnos': 2521, 'extranamos': 2522, 'actuar': 2523, 'prometimos': 2524, 'acordamos': 2525, 'sobrevivimos': 2526, 'conduciremos': 2527, 'compartiremos': 2528, 'sentimos': 2529, 'jovenes': 2530, 'burro': 2531, 'arrastrado': 2532, 'pendejo': 2533, 'ego': 2534, 'sois': 2535, 'dibujo': 2536, 'pegado': 2537, 'escribelo': 2538, 'quedatelo': 2539, 'exactamente': 2540, 'langa': 2541, 'abandonen': 2542, 'nave': 2543, 'acorde': 2544, '¿nada': 2545, 'invita': 2546, 'confiado': 2547, 'despiadado': 2548, 'objetivo': 2549, 'ternera': 2550, 'tropas': 2551, 'apoyo': 2552, 'hazle': 2553, 'fbi': 2554, 'mirad': 2555, 'regresa': 2556, 'nosotras': 2557, 'enfrialo': 2558, 'describilo': 2559, '¿perdiste': 2560, '¿firmaste': 2561, '¿luzco': 2562, 'sueltes': 2563, 'divagues': 2564, 'conduzca': 2565, 'examina': 2566, 'temas': 2567, 'lucha': 2568, 'fantasmas': 2569, 'existen': 2570, 'devuelvete': 2571, 'pascua': 2572, 'rosquilla': 2573, 'botana': 2574, 'humillado': 2575, 'esperara': 2576, 'fanatico': 2577, 'ninja': 2578, 'sufriendo': 2579, 'lindo': 2580, 'aguante': 2581, 'atreves': 2582, 'disculpe': 2583, 'caviar': 2584, 'mover': 2585, 'atontado': 2586, 'enmarque': 2587, 'pidieron': 2588, 'atracaron': 2589, 'habas': 2590, 'moscas': 2591, 'mentirosos': 2592, 'abrace': 2593, 'siesta': 2594, 'pintura': 2595, 'frecuentemente': 2596, 'nade': 2597, 'simpatizo': 2598, 'avisado': 2599, 'enmarcado': 2600, 'veces': 2601, 'arriesgare': 2602, 'granjero': 2603, 'sacerdote': 2604, 'surfista': 2605, 'camarero': 2606, 'adulta': 2607, 'agente': 2608, 'dubitativo': 2609, 'formacion': 2610, 'congelado': 2611, 'agradecida': 2612, 'luto': 2613, 'vacilante': 2614, 'gravemente': 2615, 'perth': 2616, 'culto': 2617, 'pintando': 2618, 'racional': 2619, 'terco': 2620, 'trece': 2621, 'concienzudo': 2622, 'entusiasmado': 2623, 'cachondo': 2624, 'hierro': 2625, 'curado': 2626, 'lucido': 2627, 'lobo': 2628, 'alce': 2629, 'empezado': 2630, 'romper': 2631, 'magico': 2632, 'quemara': 2633, 'funcionando': 2634, 'nomas': 2635, 'pensar': 2636, 'salgamos': 2637, 'escuchemos': 2638, 'adivina': 2639, 'detenga': 2640, 'cerdos': 2641, 'muevete': 2642, 'cadera': 2643, 'movio': 2644, 'ah': 2645, 'marchese': 2646, 'senalalo': 2647, 'abrela': 2648, 'ponedlo': 2649, 'escondete': 2650, 'tranquila': 2651, 'demando': 2652, 'frente': 2653, 'discutas': 2654, 'empujar': 2655, 'mirarme': 2656, 'suenos': 2657, 'relajate': 2658, 'llevatelo': 2659, 'bondi': 2660, 'dinos': 2661, 'colmo': 2662, 'bastara': 2663, 'durara': 2664, 'aprueban': 2665, 'abandonaron': 2666, 'conocian': 2667, 'negaron': 2668, 'pararon': 2669, 'sudaron': 2670, 'llamaran': 2671, 'sabran': 2672, 'esperaran': 2673, 'chicos': 2674, 'rapidos': 2675, 'ricas': 2676, 'feos': 2677, 'rompen': 2678, 'oro': 2679, 'aprueba': 2680, 'enrolo': 2681, 'insistio': 2682, 'asqueroso': 2683, 'fiel': 2684, 'chispa': 2685, 'conocio': 2686, 'prometio': 2687, 'hombros': 2688, 'tartamudea': 2689, 'sobrevivio': 2690, 'ruin': 2691, 'grogui': 2692, 'drogado': 2693, 'tarta': 2694, 'centrarte': 2695, 'despertalos': 2696, 'despiertate': 2697, 'pedimos': 2698, 'aplaudimos': 2699, 'preparamos': 2700, 'almorzamos': 2701, 'queriamos': 2702, 'echar': 2703, 'conseguimos': 2704, 'heridos': 2705, 'saldremos': 2706, 'adultos': 2707, 'asustados': 2708, 'desahuciados': 2709, 'hambrientos': 2710, 'mudando': 2711, 'reventados': 2712, 'consegido': 2713, 'festin': 2714, 'farsante': 2715, 'susto': 2716, 'desperdicio': 2717, 'conto': 2718, 'agradeces': 2719, '¿va': 2720, 'vivira': 2721, 'diviertes': 2722, 'maleducado': 2723, 'quedarte': 2724, 'heriste': 2725, 'acalorado': 2726, 'prometiste': 2727, 'asustas': 2728, 'sobreviviste': 2729, 'borracha': 2730, 'espabilado': 2731, 'ingenioso': 2732, 'atropello': 2733, 'aprobe': 2734, 'incluido': 2735, 'talentoso': 2736, 'polis': 2737, 'experto': 2738, 'portate': 2739, 'respetuoso': 2740, 'apoyame': 2741, 'bate': 2742, 'rompelo': 2743, 'traelo': 2744, 'quemen': 2745, 'cuerpo': 2746, 'cain': 2747, 'seguridad': 2748, 'tenerlo': 2749, 'abrazarte': 2750, 'participar': 2751, 'quedarmelo': 2752, 'visitar': 2753, 'observad': 2754, 'cuece': 2755, 'desfallecio': 2756, '¿funciono': 2757, '¿hablaste': 2758, '¿conozco': 2759, 'suenan': 2760, 'duermen': 2761, 'sigues': 2762, 'llegues': 2763, 'llames': 2764, 'niegues': 2765, 'desesperes': 2766, 'engordes': 2767, 'mates': 2768, 'prestes': 2769, 'burles': 2770, 'apresures': 2771, 'irrespetuoso': 2772, 'aceite': 2773, 'traza': 2774, 'coman': 2775, 'ganan': 2776, 'alimenta': 2777, 'rellena': 2778, 'frieme': 2779, 'pon': 2780, 'dadmelo': 2781, 'bendiga': 2782, 'aguanta': 2783, 'jamon': 2784, 'cavo': 2785, 'cultiva': 2786, 'blog': 2787, 'constipado': 2788, 'mucama': 2789, 'patineta': 2790, 'carros': 2791, 'don': 2792, 'apedreado': 2793, 'santo': 2794, '¿paqui': 2795, 'pa': 2796, 'retenga': 2797, 'llamadas': 2798, 'sujetalo': 2799, 'bocina': 2800, 'acepto': 2801, 'adquiri': 2802, 'anadi': 2803, 'dedico': 2804, 'trote': 2805, 'pertenezco': 2806, 'soborne': 2807, 'soportar': 2808, 'cancele': 2809, 'cause': 2810, 'contribui': 2811, 'disene': 2812, 'importo': 2813, 'movi': 2814, 'pare': 2815, 'camine': 2816, 'ronco': 2817, 'bebi': 2818, 'poker': 2819, 'exagere': 2820, 'renacido': 2821, 'finalmente': 2822, 'defendi': 2823, 'obtuve': 2824, 'bono': 2825, 'resulte': 2826, 'case': 2827, 'cita': 2828, 'aro': 2829, 'gemela': 2830, 'visa': 2831, 'rodilleras': 2832, 'fallado': 2833, 'ordenes': 2834, 'derechos': 2835, 'pecado': 2836, 'tenencia': 2837, 'sirenas': 2838, 'voces': 2839, 'ignore': 2840, 'caer': 2841, 'relojes': 2842, 'peliculas': 2843, 'coser': 2844, 'cucharas': 2845, 'ajo': 2846, 'excursionismo': 2847, 'prepare': 2848, 'objetar': 2849, 'rechazar': 2850, 'resistir': 2851, 'tripulacion': 2852, 'lampara': 2853, 'prestamo': 2854, 'lleven': 2855, 'consejos': 2856, 'supero': 2857, 'rango': 2858, 'dueno': 2859, 'yate': 2860, 'squash': 2861, 'violin': 2862, 'declare': 2863, 'fecha': 2864, 'ofendo': 2865, 'administro': 2866, 'motel': 2867, 'avion': 2868, 'tocino': 2869, 'oli': 2870, 'bane': 2871, 'paseo': 2872, 'firefox': 2873, 'ofreci': 2874, 'voluntario': 2875, 'desarmado': 2876, 'observe': 2877, 'subi': 2878, 'marcha': 2879, 'cedere': 2880, 'escribo': 2881, 'versos': 2882, 'alcanzare': 2883, 'comere': 2884, 'encontrare': 2885, 'echare': 2886, 'demostrare': 2887, 'mostrare': 2888, 'avisar': 2889, 'turista': 2890, 'adicta': 2891, 'horrorizado': 2892, 'imparcial': 2893, 'impaciente': 2894, 'intrigada': 2895, 'mudar': 2896, 'superare': 2897, 'espia': 2898, 'mandon': 2899, 'ebrio': 2900, 'huelga': 2901, 'sensible': 2902, 'estupida': 2903, 'jefa': 2904, 'popular': 2905, 'murcielago': 2906, 'examen': 2907, 'dolera': 2908, 'secuela': 2909, 'desierto': 2910, 'oficial': 2911, 'rata': 2912, 'remando': 2913, 'mantengamoslo': 2914, 'abramoslo': 2915, 'demandemos': 2916, 'traba': 2917, 'resume': 2918, 'mortal': 2919, 'chula': 2920, 'rara': 2921, 'chillo': 2922, 'escasa': 2923, 'memoriza': 2924, 'pulmones': 2925, 'capucha': 2926, 'hundio': 2927, 'buhos': 2928, 'tocalo': 2929, 'arreglalo': 2930, 'bata': 2931, 'apostar': 2932, 'descanse': 2933, 'mandamelo': 2934, '¿empiezo': 2935, '¿debo': 2936, 'agacho': 2937, 'ultima': 2938, 'francesa': 2939, 'obedece': 2940, 'derribalo': 2941, 'parense': 2942, 'positivo': 2943, 'manteneos': 2944, 'mezcla': 2945, 'balbucear': 2946, 'sonar': 2947, 'gustos': 2948, 'disputas': 2949, 'formas': 2950, 'saturno': 2951, 'mito': 2952, 'irreal': 2953, 'vulgar': 2954, 'levantaron': 2955, 'gritan': 2956, 'construyeron': 2957, 'cancelaron': 2958, 'mutuamente': 2959, 'pagan': 2960, 'salvaron': 2961, 'bailaran': 2962, 'haran': 2963, 'asiaticos': 2964, 'enojados': 2965, 'armadas': 2966, 'embriagados': 2967, 'enormes': 2968, 'pequenos': 2969, 'espias': 2970, 'vuestros': 2971, 'cambian': 2972, 'incorrecto': 2973, 'vaca': 2974, 'bravio': 2975, 'descansado': 2976, 'aliento': 2977, 'unio': 2978, 'pueblo': 2979, 'gustaste': 2980, 'recupero': 2981, 'vacilo': 2982, 'distante': 2983, 'banca': 2984, 'moria': 2985, 'severo': 2986, 'contratado': 2987, 'leal': 2988, 'mentia': 2989, 'palidecio': 2990, 'cocinara': 2991, 'obedecera': 2992, 'encera': 2993, 'cambiamos': 2994, 'planes': 2995, 'disparamos': 2996, 'entendemos': 2997, 'aburriamos': 2998, 'preguntaremos': 2999, 'esconderemos': 3000, 'sobreviviremos': 3001, 'desorientados': 3002, 'comprometidos': 3003, 'enamorados': 3004, 'pacientes': 3005, 'mentalizados': 3006, 'egoistas': 3007, 'serios': 3008, 'inutiles': 3009, 'fiasco': 3010, 'rollo': 3011, 'aflige': 3012, 'llegaste': 3013, 'hipocrita': 3014, 'quedaros': 3015, 'eras': 3016, 'fuisteis': 3017, 'fracasaras': 3018, 'llegareis': 3019, 'parcial': 3020, '¿bromeas': 3021, 'tratando': 3022, 'linda': 3023, 'calificado': 3024, '¿aqui': 3025, '¿somos': 3026, '¿vendreis': 3027, 'famosa': 3028, 'otono': 3029, 'aves': 3030, 'ponen': 3031, 'pala': 3032, '¿tambien': 3033, '¿podremos': 3034, 'conseguirlo': 3035, 'proseguir': 3036, 'atrapa': 3037, 'inteligentes': 3038, 'contacte': 3039, 'archivo': 3040, 'pasto': 3041, 'partelo': 3042, 'olvidaste': 3043, '¿entendio': 3044, 'odias': 3045, 'oyes': 3046, 'echas': 3047, 'prometes': 3048, 'reciclas': 3049, 'des': 3050, 'enfades': 3051, 'culpes': 3052, 'quejes': 3053, 'ayudes': 3054, 'levantes': 3055, 'forcejees': 3056, 'veas': 3057, 'suelta': 3058, 'agacha': 3059, 'espectaculo': 3060, 'mienten': 3061, 'peleen': 3062, 'filas': 3063, 'descansa': 3064, 'cambiarte': 3065, 'tardes': 3066, 'pasaselo': 3067, '¿han': 3068, 'antipatia': 3069, 'moreno': 3070, 'elevo': 3071, 'volantin': 3072, 'barba': 3073, 'arruinado': 3074, 'extrovertido': 3075, 'tirado': 3076, 'espaldas': 3077, 'gelatina': 3078, 'respeta': 3079, 'frutas': 3080, 'florista': 3081, 'prision': 3082, 'llegando': 3083, 'tarjeta': 3084, 'dolia': 3085, '¿cuan': 3086, 'hungara': 3087, 'crei': 3088, 'apuesto': 3089, 'merezco': 3090, 'avise': 3091, 'cedi': 3092, 'conducido': 3093, 'doy': 3094, 'honrado': 3095, 'empene': 3096, 'arrestaron': 3097, 'divorcie': 3098, 'nostalgico': 3099, 'garantizo': 3100, 'diverti': 3101, 'domingos': 3102, 'karaoke': 3103, 'acertijos': 3104, 'espinacas': 3105, 'escuincle': 3106, 'ganes': 3107, 'apresure': 3108, 'sencillamente': 3109, 'rendi': 3110, 'mantuve': 3111, 'castillos': 3112, 'pesca': 3113, 'trotar': 3114, 'fideos': 3115, 'picnic': 3116, 'rompecabezas': 3117, 'sashimi': 3118, 'mariscos': 3119, 'historias': 3120, 'tortugas': 3121, 'harvard': 3122, 'flores': 3123, 'lasana': 3124, 'puestas': 3125, 'galletitas': 3126, 'equivoque': 3127, 'regla': 3128, 'cigarrillo': 3129, 'bocadillo': 3130, 'sello': 3131, 'respuestas': 3132, 'cirugia': 3133, 'dejarlo': 3134, 'viajo': 3135, 'cien': 3136, 'declaro': 3137, 'castigue': 3138, 'crio': 3139, 'largues': 3140, 'calles': 3141, 'coreano': 3142, 'enseno': 3143, 'gire': 3144, 'vaso': 3145, 'perrito': 3146, 'palomitas': 3147, 'ventilador': 3148, 'secuestraron': 3149, 'capturado': 3150, 'ofendido': 3151, 'excitado': 3152, 'prosperare': 3153, 'desearia': 3154, 'directo': 3155, 'tomar': 3156, 'extra': 3157, 'reganare': 3158, 'invitare': 3159, 'diabetica': 3160, 'musico': 3161, 'sujeto': 3162, 'prisionero': 3163, 'ateo': 3164, 'anciano': 3165, 'asombrada': 3166, 'confiable': 3167, 'devastada': 3168, 'diplomatica': 3169, 'fascinada': 3170, 'sintiendo': 3171, 'divirtiendo': 3172, 'interesado': 3173, 'preparando': 3174, 'escondiendo': 3175, 'suficientemente': 3176, 'bencina': 3177, 'tanta': 3178, 'acostumbrado': 3179, 'rudo': 3180, 'demandaron': 3181, 'guiso': 3182, 'supiera': 3183, '¿tomas': 3184, 'timbre': 3185, 'ameno': 3186, 'planeado': 3187, 'estara': 3188, 'miercoles': 3189, 'clasico': 3190, 'reclamo': 3191, 'superior': 3192, 'identico': 3193, 'redundante': 3194, 'pesado': 3195, 'demasiada': 3196, 'vibrando': 3197, 'permanezca': 3198, 'crueles': 3199, 'inclinate': 3200, 'dejamelo': 3201, 'sala': 3202, 'responda': 3203, 'oirlo': 3204, 'valientes': 3205, 'continuemos': 3206, 'averiguemoslo': 3207, 'tina': 3208, 'practiquemos': 3209, 'levantemonos': 3210, 'suceda': 3211, 'simplifica': 3212, 'muchos': 3213, 'acompanarle': 3214, 'sentar': 3215, 'usar': 3216, 'avariciosos': 3217, 'muevase': 3218, 'articulaciones': 3219, 'abreme': 3220, 'trampilla': 3221, 'maletas': 3222, 'pase': 3223, 'ayudeme': 3224, 'abrelo': 3225, 'dime': 3226, 'pruebe': 3227, 'despiertese': 3228, 'subieron': 3229, 'demuestramelo': 3230, 'contador': 3231, 'reservame': 3232, 'enviame': 3233, '¿empezamos': 3234, '¿quiere': 3235, 'cultivo': 3236, 'enfermera': 3237, 'quieta': 3238, 'adinerada': 3239, 'teclea': 3240, 'cabezota': 3241, 'cerrar': 3242, '¿paramos': 3243, 'sientense': 3244, 'chismorrear': 3245, 'refunfunar': 3246, 'resistirte': 3247, 'chillar': 3248, 'llevaselo': 3249, 'devuelvelo': 3250, 'contanos': 3251, 'aspero': 3252, 'cambiara': 3253, 'cianuro': 3254, 'evidente': 3255, 'ilegal': 3256, 'frase': 3257, 'plastico': 3258, 'cantaban': 3259, 'ladraba': 3260, 'alzada': 3261, 'derritio': 3262, 'gotea': 3263, 'sirena': 3264, 'sono': 3265, 'cantaron': 3266, 'miradas': 3267, 'cruzaron': 3268, 'nuestras': 3269, 'autenticas': 3270, 'aplaudieron': 3271, 'preguntaron': 3272, 'molestan': 3273, 'compraron': 3274, 'volvieron': 3275, 'descubrieron': 3276, 'odiaban': 3277, 'amaban': 3278, 'encantaste': 3279, 'bienintencionados': 3280, 'discutieron': 3281, 'arruinaron': 3282, 'huelen': 3283, 'confian': 3284, 'ayudaran': 3285, 'atacaran': 3286, 'rotos': 3287, 'vacios': 3288, 'cambiaron': 3289, 'muerde': 3290, 'harpa': 3291, 'embrollo': 3292, 'estafa': 3293, 'espeluznante': 3294, 'esas': 3295, 'dados': 3296, 'billete': 3297, 'atate': 3298, 'cordones': 3299, 'disculpo': 3300, 'paralizado': 3301, 'despidio': 3302, 'dono': 3303, 'sangre': 3304, 'aproximo': 3305, 'asma': 3306, 'improviso': 3307, 'rubio': 3308, 'lacroso': 3309, 'enano': 3310, 'piloto': 3311, 'taimado': 3312, 'concentrado': 3313, 'temeroso': 3314, 'servicial': 3315, 'preso': 3316, 'idolo': 3317, 'servicio': 3318, 'temblando': 3319, 'frivolo': 3320, 'malcriado': 3321, 'quejando': 3322, 'aviso': 3323, 'leyo': 3324, 'acordo': 3325, 'copado': 3326, 'entendio': 3327, 'retratado': 3328, 'humilde': 3329, 'aterrado': 3330, 'luchara': 3331, 'cantara': 3332, 'encantador': 3333, 'colgado': 3334, 'nadando': 3335, 'salsa': 3336, 'pararme': 3337, 'enciende': 3338, 'volumen': 3339, 'adoptamos': 3340, 'medicos': 3341, 'pagarte': 3342, 'bebimos': 3343, 'perdonamos': 3344, 'necesitabamos': 3345, 'presentamos': 3346, 'voluntarios': 3347, 'enmarcados': 3348, 'llamaremos': 3349, 'averiguaremos': 3350, 'pintaremos': 3351, 'salvaremos': 3352, 'confiables': 3353, 'divorciados': 3354, 'famelicos': 3355, 'ingenuos': 3356, 'morimos': 3357, 'colgados': 3358, 'minuciosos': 3359, 'levantamos': 3360, 'golpeado': 3361, 'concepto': 3362, 'pais': 3363, 'chasco': 3364, 'pensamiento': 3365, 'podra': 3366, 'dedicas': 3367, 'ocurrira': 3368, '¿ahora': 3369, 'hara': 3370, 'mientes': 3371, 'haras': 3372, 'sonate': 3373, 'encantaba': 3374, 'podeis': 3375, 'andar': 3376, 'cambiaste': 3377, 'pagaste': 3378, 'ignorabas': 3379, 'negarte': 3380, 'tuviste': 3381, 'tenias': 3382, 'fraude': 3383, 'caprichoso': 3384, 'mojigato': 3385, 'chorro': 3386, 'increibles': 3387, 'entretenido': 3388, 'andas': 3389, 'superficial': 3390, 'flaco': 3391, 'zozobro': 3392, 'presentes': 3393, 'aburriendo': 3394, '¿estos': 3395, '¿terminamos': 3396, 'bolas': 3397, 'redondas': 3398, 'preciso': 3399, 'tripas': 3400, 'estupidos': 3401, 'acercalo': 3402, 'esposo': 3403, 'comprarme': 3404, 'probarmelo': 3405, '¿pueden': 3406, 'vernos': 3407, 'contribuir': 3408, 'oirme': 3409, 'oirnos': 3410, 'abrirlo': 3411, '¿podeis': 3412, 'mostrarme': 3413, 'atrapan': 3414, 'ratones': 3415, 'cajas': 3416, 'escotilla': 3417, 'cerrad': 3418, 'felicidades': 3419, 'defiendete': 3420, 'botaste': 3421, 'oiste': 3422, 'querias': 3423, 'echado': 3424, '¿dijiste': 3425, '¿viste': 3426, '¿demandaste': 3427, 'sabias': 3428, 'cava': 3429, '¿tenemos': 3430, '¿dudas': 3431, '¿comes': 3432, '¿come': 3433, '¿conoces': 3434, 'rap': 3435, '¿echas': 3436, 'recuerdas': 3437, 'crees': 3438, 'tengas': 3439, 'enoje': 3440, 'emborraches': 3441, 'interfieras': 3442, 'interrumpas': 3443, 'exageres': 3444, 'ridiculo': 3445, 'recuerdes': 3446, 'incluso': 3447, 'estuvieron': 3448, 'oraron': 3449, 'pildoras': 3450, 'locas': 3451, 'ponme': 3452, 'dales': 3453, 'damelas': 3454, 'pochoclo': 3455, 'tienda': 3456, 'senal': 3457, 'alcanzame': 3458, 'pudo': 3459, 'esperanzas': 3460, 'derrame': 3461, 'cerebral': 3462, 'vaqueros': 3463, 'toyota': 3464, 'camara': 3465, 'puesto': 3466, 'raqueta': 3467, 'disney': 3468, 'robot': 3469, 'menciono': 3470, 'rie': 3471, 'presiono': 3472, 'desafinado': 3473, 'whisky': 3474, 'tendencia': 3475, 'parado': 3476, 'nara': 3477, 'sobrevivira': 3478, 'comediante': 3479, 'primer': 3480, 'universidad': 3481, 'marido': 3482, 'rostro': 3483, 'ilumino': 3484, 'album': 3485, 'falsa': 3486, 'fascinante': 3487, 'humillante': 3488, 'terminara': 3489, 'muchachas': 3490, 'espana': 3491, 'desvistiendo': 3492, 'reserve': 3493, 'quebre': 3494, 'apanarmelas': 3495, 'sentir': 3496, 'rendirme': 3497, 'oir': 3498, 'evitarlo': 3499, 'deshacerlo': 3500, 'resfrie': 3501, 'capture': 3502, 'anguila': 3503, 'acobarde': 3504, 'cocine': 3505, 'dedo': 3506, 'seque': 3507, 'cabras': 3508, 'traicionada': 3509, 'febril': 3510, 'excluido': 3511, 'adivine': 3512, 'correctamente': 3513, 'politica': 3514, 'mapaches': 3515, 'reptiles': 3516, 'tomates': 3517, 'barbita': 3518, 'chivo': 3519, 'caspa': 3520, 'lapiceras': 3521, 'apurarme': 3522, 'automoviles': 3523, 'tambores': 3524, 'sirva': 3525, 'tobillo': 3526, 'codo': 3527, 'imagine': 3528, 'ganariamos': 3529, 'aprendi': 3530, 'dibujos': 3531, 'animados': 3532, 'escalada': 3533, 'comedias': 3534, 'berenjenas': 3535, 'festejar': 3536, 'casamientos': 3537, 'herir': 3538, 'conocido': 3539, 'ayudarla': 3540, 'ayudarlo': 3541, 'obedecer': 3542, 'decirselo': 3543, 'advertirle': 3544, 'internet': 3545, 'ducha': 3546, 'pastillas': 3547, 'tijeras': 3548, 'afeitarme': 3549, 'burle': 3550, 'cuentas': 3551, 'beisbol': 3552, 'campo': 3553, 'jugaba': 3554, 'jugue': 3555, 'cubierto': 3556, 'competi': 3557, 'sone': 3558, 'reconozco': 3559, 'corro': 3560, 'nuevamente': 3561, 'sacudi': 3562, 'arriesgue': 3563, 'lleve': 3564, 'dolar': 3565, 'devolucion': 3566, 'evidencias': 3567, 'petrificado': 3568, 'esceptico': 3569, 'seguire': 3570, 'ayudare': 3571, 'negare': 3572, 'estaria': 3573, 'agradecido': 3574, 'volveria': 3575, 'tenedor': 3576, 'arreglare': 3577, 'traere': 3578, 'ford': 3579, 'vendre': 3580, 'dejare': 3581, 'buscare': 3582, 'doble': 3583, 'premiare': 3584, 'entendere': 3585, 'cristiano': 3586, 'adicto': 3587, 'tv': 3588, 'carpintero': 3589, 'salvavidas': 3590, 'masoquista': 3591, 'ave': 3592, 'nocturna': 3593, 'ingeniero': 3594, 'suplicando': 3595, 'llamando': 3596, 'comprendiendo': 3597, 'daltonico': 3598, 'comodo': 3599, 'vuelvo': 3600, 'carcajeo': 3601, 'indefenso': 3602, 'extrovertida': 3603, 'banadera': 3604, 'bromeo': 3605, 'zurdo': 3606, 'miope': 3607, 'celosa': 3608, 'armado': 3609, 'desbordado': 3610, 'responsable': 3611, 'confundida': 3612, 'desmanado': 3613, 'modesto': 3614, 'farfullando': 3615, 'maestro': 3616, '¿respira': 3617, 'venenoso': 3618, 'doctora': 3619, '¿hoy': 3620, 'molesta': 3621, 'parecer': 3622, 'suceder': 3623, 'siglos': 3624, 'fabuloso': 3625, 'empeorara': 3626, 'llovera': 3627, 'callejon': 3628, 'seta': 3629, 'atajo': 3630, 'engendro': 3631, 'artificial': 3632, 'botado': 3633, 'imposible': 3634, 'inevitable': 3635, 'irrelevante': 3636, 'enganoso': 3637, 'refrescante': 3638, 'sofocante': 3639, 'solamente': 3640, 'pruebatela': 3641, 'envuelvalo': 3642, 'tenlo': 3643, 'practicando': 3644, 'guarde': 3645, 'koalas': 3646, 'plomo': 3647, 'metal': 3648, 'dejadle': 3649, 'limones': 3650, 'acidos': 3651, 'llevarlo': 3652, 'averiguarlo': 3653, 'celebremos': 3654, 'terminemos': 3655, 'barriletes': 3656, 'olvidemoslo': 3657, 'tomemos': 3658, 'llevemonos': 3659, 'emborrachemonos': 3660, 'alistemonos': 3661, 'colectivo': 3662, 'descansemos': 3663, 'quedemonos': 3664, 'paremos': 3665, 'intentemos': 3666, 'visitemos': 3667, 'equitativa': 3668, 'oficina': 3669, 'aflojate': 3670, 'achicalo': 3671, 'viuda': 3672, 'resplandeciente': 3673, 'veamonos': 3674, 'reunete': 3675, 'chirrian': 3676, 'olvides': 3677, 'botella': 3678, 'divertidas': 3679, 'aburren': 3680, 'prestame': 3681, 'continue': 3682, 'arregle': 3683, 'apresurate': 3684, 'recuerdamelo': 3685, 'repite': 3686, 'repitemelo': 3687, 'ensilla': 3688, 'cuida': 3689, 'vere': 3690, 'envielo': 3691, 'aereo': 3692, 'envialo': 3693, 'mandemelos': 3694, 'despreocupada': 3695, 'gracil': 3696, 'ato': 3697, 'quito': 3698, 'jadeando': 3699, 'brasilena': 3700, 'asertiva': 3701, 'piedad': 3702, 'muestra': 3703, 'mostraos': 3704, 'tosio': 3705, 'perdon': 3706, 'piensas': 3707, 'ortografia': 3708, 'roba': 3709, 'dejad': 3710, 'reniros': 3711, 'aspirina': 3712, 'durar': 3713, 'brinco': 3714, 'iglesia': 3715, 'pagoda': 3716, 'ninada': 3717, 'dudoso': 3718, 'vestido': 3719, 'personal': 3720, 'cordero': 3721, 'humedo': 3722, 'preciosa': 3723, 'abrio': 3724, 'motor': 3725, 'extinguio': 3726, 'hojas': 3727, 'luna': 3728, 'radar': 3729, 'calurosa': 3730, 'soldado': 3731, 'riesgo': 3732, 'geniales': 3733, 'hablaron': 3734, 'actores': 3735, 'melones': 3736, 'pilotos': 3737, 'lindos': 3738, 'amarillos': 3739, 'cenaron': 3740, 'liebre': 3741, 'temian': 3742, 'saludaron': 3743, 'tomaron': 3744, 'ignoraron': 3745, 'estupendos': 3746, 'vinieron': 3747, 'ataron': 3748, 'entendieron': 3749, 'quedaran': 3750, 'mataran': 3751, 'gustara': 3752, 'responderan': 3753, 'discutiendo': 3754, 'correctos': 3755, 'becarios': 3756, 'celosos': 3757, 'basura': 3758, 'chevere': 3759, 'final': 3760, 'regalos': 3761, 'tiraselo': 3762, 'limitado': 3763, 'eran': 3764, 'errar': 3765, 'horneo': 3766, 'cree': 3767, 'responsabilizo': 3768, 'pillo': 3769, 'persiguio': 3770, 'asfixio': 3771, 'aprobo': 3772, 'exagero': 3773, 'exagera': 3774, 'obtuvo': 3775, 'emociono': 3776, 'piano': 3777, 'musulman': 3778, 'banquero': 3779, 'cyborg': 3780, 'leyenda': 3781, 'maniaco': 3782, 'sangrando': 3783, 'creativo': 3784, 'chiflado': 3785, 'divorciado': 3786, 'desconfiado': 3787, 'amistoso': 3788, 'guapo': 3789, 'entrado': 3790, 'shock': 3791, 'insolente': 3792, 'inspirado': 3793, 'implicado': 3794, 'aprendiendo': 3795, 'socio': 3796, 'perverso': 3797, 'atarantado': 3798, 'meticuloso': 3799, 'ruidoso': 3800, 'entrenando': 3801, 'defraudo': 3802, 'mentido': 3803, 'vivia': 3804, 'tenso': 3805, 'fatigado': 3806, 'quizas': 3807, 'desfallecer': 3808, 'bromea': 3809, 'achucho': 3810, 'telefoneo': 3811, 'apiado': 3812, 'leia': 3813, 'novelas': 3814, 'suavemente': 3815, 'sentado': 3816, 'abatio': 3817, 'entiende': 3818, 'advirtio': 3819, 'enfermero': 3820, 'desorientado': 3821, 'artero': 3822, 'impactado': 3823, 'averiguara': 3824, 'recordara': 3825, 'confianza': 3826, 'gana': 3827, 'bostezar': 3828, 'destraba': 3829, 'cuidadosamente': 3830, 'arrestamos': 3831, 'metalico': 3832, 'contamos': 3833, 'crudo': 3834, 'visita': 3835, 'salimos': 3836, 'conversar': 3837, 'zona': 3838, 'picnics': 3839, 'waffles': 3840, 'pagamos': 3841, 'cantamos': 3842, 'ideas': 3843, 'andamos': 3844, 'justicia': 3845, 'votar': 3846, 'eramos': 3847, 'asesinados': 3848, 'detendremos': 3849, 'visitaremos': 3850, 'disponibles': 3851, 'fundidos': 3852, 'imparciales': 3853, 'objetivos': 3854, 'organizados': 3855, 'prisioneros': 3856, 'satisfechos': 3857, 'bravo': 3858, 'correras': 3859, 'zoologico': 3860, '¿cuales': 3861, 'individuo': 3862, 'muchacho': 3863, 'preguntaste': 3864, 'llorabas': 3865, 'corriste': 3866, 'sonamos': 3867, 'harias': 3868, 'escondas': 3869, 'decirnoslo': 3870, 'merecias': 3871, 'suertudo': 3872, 'alegrado': 3873, 'deberian': 3874, 'dormias': 3875, 'alcanzaras': 3876, 'descubriras': 3877, 'agradeceras': 3878, 'donnadie': 3879, 'decidido': 3880, 'inocentes': 3881, 'estancado': 3882, 'ladrando': 3883, 'zorro': 3884, 'accidentes': 3885, 'invisible': 3886, 'toda': 3887, 'lastimando': 3888, 'aplica': 3889, 'escrito': 3890, 'mago': 3891, 'sonrojando': 3892, 'bebiendo': 3893, 'congelando': 3894, '¿estudias': 3895, 'preguntate': 3896, 'atlantida': 3897, 'franco': 3898, 'osos': 3899, 'muerdete': 3900, 'cepillese': 3901, 'lentos': 3902, 'tocar': 3903, 'quedarnos': 3904, 'llamarlo': 3905, 'encontrarla': 3906, 'descubrirlo': 3907, 'ensenarme': 3908, 'carpeta': 3909, 'cerezas': 3910, 'sabiamente': 3911, 'persianas': 3912, 'cajon': 3913, 'ventana': 3914, 'unetenos': 3915, 'sentarte': 3916, 'consulte': 3917, 'seguid': 3918, 'cookie': 3919, 'puente': 3920, 'calle': 3921, 'papas': 3922, '¿pago': 3923, '¿dijeron': 3924, '¿encontraste': 3925, 'divertiste': 3926, '¿conocias': 3927, 'conociais': 3928, 'encontraste': 3929, 'votado': 3930, 'advertiste': 3931, 'inyeccion': 3932, 'hacelo': 3933, 'gustes': 3934, '¿lloras': 3935, '¿niegas': 3936, '¿alguna': 3937, 'descansas': 3938, '¿teneis': 3939, '¿necesitais': 3940, '¿queres': 3941, 'deberes': 3942, 'bruto': 3943, 'desanimado': 3944, 'bebais': 3945, 'exagereis': 3946, 'atrapen': 3947, 'ligero': 3948, 'comas': 3949, 'cable': 3950, 'rinas': 3951, 'desanimes': 3952, 'muecas': 3953, 'menciones': 3954, 'opongas': 3955, 'estafes': 3956, 'acuses': 3957, 'uses': 3958, 'dragones': 3959, 'molan': 3960, 'trace': 3961, 'bailaba': 3962, 'saltaron': 3963, 'rien': 3964, 'alegraron': 3965, 'triunfa': 3966, 'explicamelo': 3967, 'expliquese': 3968, 'pelea': 3969, 'deposito': 3970, '¿con': 3971, 'proposito': 3972, 'alejate': 3973, 'chance': 3974, 'martillo': 3975, 'entregame': 3976, 'danos': 3977, 'diviertete': 3978, 'garaje': 3979, 'escaleras': 3980, 'pasame': 3981, 'cruasan': 3982, 'tengais': 3983, 'ponche': 3984, 'decidiste': 3985, 'porto': 3986, 'infringio': 3987, 'alegria': 3988, 'merece': 3989, 'recientemente': 3990, 'repente': 3991, 'cumple': 3992, 'fascinaba': 3993, 'reparo': 3994, 'melena': 3995, 'picasso': 3996, 'largas': 3997, 'zanahorias': 3998, 'colgo': 3999, 'italiano': 4000, 'distraido': 4001, 'universitario': 4002, 'pijamas': 4003, 'sobrepeso': 4004, 'diario': 4005, 'naranjas': 4006, 'lentes': 4007, 'izo': 4008, 'endeudo': 4009, 'facilmente': 4010, 'comparte': 4011, 'volteo': 4012, 'ipad': 4013, 'persistente': 4014, 'pegar': 4015, 'arabe': 4016, 'barbaro': 4017, 'historiador': 4018, 'astuto': 4019, 'lisboa': 4020, 'envejeciendo': 4021, 'senil': 4022, 'inconsciente': 4023, 'salud': 4024, 'riqueza': 4025, 'ponerme': 4026, 'bici': 4027, 'bebete': 4028, 'furiosa': 4029, 'conten': 4030, 'respiracion': 4031, 'momentito': 4032, 'hierba': 4033, 'declara': 4034, 'melodramatico': 4035, 'mides': 4036, 'iba': 4037, 'crecido': 4038, 'aborrezco': 4039, 'ahogue': 4040, 'pasteles': 4041, 'bebido': 4042, 'contra': 4043, 'estupefacto': 4044, 'brasil': 4045, 'noruega': 4046, 'bruja': 4047, 'desempleado': 4048, 'relativamente': 4049, 'carino': 4050, 'convertido': 4051, 'empece': 4052, 'comienzo': 4053, 'inclinacion': 4054, 'golpee': 4055, 'rodilla': 4056, 'antes': 4057, 'apenas': 4058, 'mentes': 4059, 'moverlo': 4060, 'apice': 4061, 'quejarme': 4062, 'odiarte': 4063, 'oirte': 4064, 'alcanzar': 4065, 'mostrarte': 4066, 'pararle': 4067, 'agarre': 4068, 'gripe': 4069, 'matarte': 4070, 'ligera': 4071, 'aposta': 4072, 'simpatiza': 4073, 'relajarme': 4074, 'soledad': 4075, 'detalles': 4076, 'halagado': 4077, 'refrescado': 4078, 'comparto': 4079, 'gorra': 4080, 'quimica': 4081, 'hipocresia': 4082, 'granada': 4083, 'scooter': 4084, 'ardor': 4085, 'futuro': 4086, 'boligrafos': 4087, 'video': 4088, 'anular': 4089, 'cumpli': 4090, 'veinte': 4091, 'conseguir': 4092, 'patee': 4093, 'dejado': 4094, 'chocolate': 4095, 'idiomas': 4096, 'pop': 4097, 'astronomia': 4098, 'yemas': 4099, 'fortuna': 4100, 'cometi': 4101, 'desayuno': 4102, 'enfadar': 4103, 'agradecerselo': 4104, 'masaje': 4105, 'milagro': 4106, 'primeros': 4107, 'auxilios': 4108, 'jabon': 4109, 'computadora': 4110, 'pinte': 4111, 'plantado': 4112, 'arbol': 4113, 'violoncelo': 4114, 'flauta': 4115, 'apunte': 4116, 'milla': 4117, 'etiqueta': 4118, 'rehuse': 4119, 'arrepiento': 4120, 'aconsejen': 4121, 'dirijo': 4122, 'comprendo': 4123, 'punto': 4124, 'contuve': 4125, 'burlona': 4126, 'entendido': 4127, 'solia': 4128, 'visite': 4129, 'despidan': 4130, 'divorciarme': 4131, 'pancho': 4132, 'martini': 4133, 'jubilarme': 4134, 'asombrado': 4135, 'infeliz': 4136, 'intentare': 4137, 'callado': 4138, 'quejaria': 4139, 'ensalada': 4140, 'investigaria': 4141, 'apoyare': 4142, 'castigaran': 4143, 'batirte': 4144, 'comprobare': 4145, 'recogere': 4146, 'protegere': 4147, 'consultare': 4148, 'almohada': 4149, 'pueda': 4150, 'lavar': 4151, 'prima': 4152, 'ciudadano': 4153, 'traductor': 4154, 'quebrado': 4155, 'humor': 4156, 'anciana': 4157, 'registrando': 4158, 'decepcionado': 4159, 'almorzando': 4160, 'enloqueciendo': 4161, 'dispuesto': 4162, 'guardes': 4163, 'invitando': 4164, 'catolica': 4165, 'mendigo': 4166, 'delator': 4167, 'embaucando': 4168, 'suicida': 4169, 'orgulloso': 4170, 'hastiada': 4171, 'emocionada': 4172, 'nerviosa': 4173, 'relajada': 4174, 'mucha': 4175, 'ahorrando': 4176, 'dibujado': 4177, 'sentido': 4178, '¿verdad': 4179, 'contactar': 4180, '¿todo': 4181, 'contagioso': 4182, 'roja': 4183, 'flor': 4184, 'puzzle': 4185, 'dvd': 4186, 'llover': 4187, 'euros': 4188, 'enchinada': 4189, 'emboscada': 4190, 'lloviznaba': 4191, 'excesivo': 4192, 'medio': 4193, 'aterrador': 4194, 'llevara': 4195, 'horas': 4196, 'grupo': 4197, 'lluvioso': 4198, 'soleado': 4199, 'complicado': 4200, 'temporada': 4201, 'venados': 4202, 'oscurecido': 4203, 'droga': 4204, 'mono': 4205, 'logico': 4206, 'natural': 4207, 'sofa': 4208, 'guay': 4209, 'segunda': 4210, 'improbable': 4211, 'amargo': 4212, 'asia': 4213, 'mantengame': 4214, 'informado': 4215, 'dejadmelo': 4216, 'cargue': 4217, 'permiteme': 4218, 'repararlo': 4219, 'tratar': 4220, 'barrilete': 4221, 'probemos': 4222, 'almorcemos': 4223, 'olvidemos': 4224, 'pesquemos': 4225, 'candela': 4226, 'libertad': 4227, 'inmortal': 4228, 'eleccion': 4229, 'marimacho': 4230, 'encantadora': 4231, 'abrir': 4232, 'funcione': 4233, 'azules': 4234, 'adoloridos': 4235, 'frios': 4236, 'pequenita': 4237, 'elevado': 4238, 'quemadura': 4239, 'garganta': 4240, 'juguete': 4241, 'danado': 4242, 'pega': 4243, 'previno': 4244, 'ilesos': 4245, 'esfuerzo': 4246, 'consigue': 4247, 'recuerda': 4248, 'ensenado': 4249, 'erroneo': 4250, 'ventanas': 4251, 'ketchup': 4252, 'ridicula': 4253, 'mascotas': 4254, 'educado': 4255, 'pasate': 4256, 'sigame': 4257, 'retroceda': 4258, 'dese': 4259, 'hala': 4260, 'gatillo': 4261, 'envia': 4262, 'quejarse': 4263, 'precipitacion': 4264, 'articulo': 4265, 'tinto': 4266, 'respetate': 4267, 'venganza': 4268, 'roma': 4269, 'italia': 4270, 'dilo': 4271, 'oraciones': 4272, 'compartelo': 4273, 'compartilo': 4274, 'derroto': 4275, 'desprecia': 4276, 'divorcio': 4277, 'idolatraba': 4278, 'pianista': 4279, 'calcetines': 4280, 'rechazo': 4281, 'rechaza': 4282, 'monto': 4283, 'camello': 4284, 'cantaba': 4285, 'alegremente': 4286, 'melancolicamente': 4287, 'fijo': 4288, 'mirada': 4289, 'arduamente': 4290, 'promovida': 4291, 'venderla': 4292, 'mostranos': 4293, 'tamano': 4294, 'lamento': 4295, 'pongase': 4296, 'disculparte': 4297, 'evitarme': 4298, 'metiche': 4299, 'interferir': 4300, 'pellizcarme': 4301, 'asustar': 4302, 'presumir': 4303, 'sobarme': 4304, 'saquen': 4305, 'cordialmente': 4306, 'mochila': 4307, 'ayudado': 4308, 'asombroso': 4309, 'hermoso': 4310, 'discutible': 4311, 'asunto': 4312, 'problematico': 4313, 'revento': 4314, 'jaula': 4315, 'marron': 4316, 'tictac': 4317, 'cortina': 4318, 'telon': 4319, 'chirrio': 4320, 'jurado': 4321, 'desacuerdo': 4322, 'resulto': 4323, 'clara': 4324, 'bombilla': 4325, 'fundida': 4326, 'microfono': 4327, 'lechero': 4328, 'fiesta': 4329, 'piscina': 4330, 'carretera': 4331, 'congelada': 4332, 'oscura': 4333, 'show': 4334, 'despejado': 4335, 'amaino': 4336, 'aflojo': 4337, 'gemelas': 4338, 'curo': 4339, 'cabe': 4340, 'limite': 4341, 'lastiman': 4342, 'cantantes': 4343, 'degradaron': 4344, 'merecian': 4345, 'desprecian': 4346, 'desaparecieron': 4347, 'cavaron': 4348, 'tumba': 4349, 'sienten': 4350, 'casaron': 4351, 'sensatos': 4352, 'mintieron': 4353, 'confiaron': 4354, 'confiaban': 4355, 'comian': 4356, 'cederan': 4357, 'encontraran': 4358, 'acordaran': 4359, 'escapando': 4360, 'peleando': 4361, 'inmaduros': 4362, 'involucrados': 4363, 'traidores': 4364, 'pusieron': 4365, 'raras': 4366, 'piensalo': 4367, 'encaja': 4368, 'lujo': 4369, 'entrenador': 4370, 'relajante': 4371, 'sabotaje': 4372, 'faltaba': 4373, 'cds': 4374, 'admira': 4375, 'pierde': 4376, 'saciarse': 4377, 'evitaba': 4378, 'cuido': 4379, 'oiros': 4380, 'decidir': 4381, 'rehusarse': 4382, 'convencio': 4383, 'divirtio': 4384, 'tuberculosis': 4385, 'darse': 4386, 'perilla': 4387, 'coartada': 4388, 'pecas': 4389, 'insomnio': 4390, 'aceitunas': 4391, 'ignoro': 4392, 'fascista': 4393, 'luchador': 4394, 'patriota': 4395, 'plomero': 4396, 'recluso': 4397, 'campesino': 4398, 'refugiado': 4399, 'manipulador': 4400, 'cirujano': 4401, 'camionero': 4402, 'viudo': 4403, 'ambicioso': 4404, 'respirando': 4405, 'brillante': 4406, 'volviendo': 4407, 'excentrico': 4408, 'emocional': 4409, 'energico': 4410, 'honorable': 4411, 'ocultando': 4412, 'sincero': 4413, 'sobrino': 4414, 'obsesivo': 4415, 'perplejo': 4416, 'indeciso': 4417, 'debilitando': 4418, 'silbando': 4419, 'hockey': 4420, 'ponis': 4421, 'reggae': 4422, 'vela': 4423, 'prendio': 4424, 'horno': 4425, 'lucia': 4426, 'fiero': 4427, 'deportes': 4428, 'jamas': 4429, 'rescato': 4430, 'tronco': 4431, 'regano': 4432, 'hablaba': 4433, 'agradecio': 4434, 'zancadilleo': 4435, 'visito': 4436, 'alejo': 4437, 'pony': 4438, 'raptado': 4439, 'chismorreando': 4440, 'ejecutado': 4441, 'dudando': 4442, 'torturado': 4443, 'observo': 4444, 'observa': 4445, 'encontrara': 4446, 'amara': 4447, 'alegrara': 4448, 'aparecera': 4449, 'tendra': 4450, 'exito': 4451, 'entrara': 4452, 'trabajaba': 4453, 'llevarte': 4454, 'involucrado': 4455, 'tengan': 4456, 'riega': 4457, 'plantas': 4458, 'aceptamos': 4459, 'cheques': 4460, 'odiabamos': 4461, 'amabamos': 4462, 'confiamos': 4463, 'llegamos': 4464, 'competimos': 4465, 'vinimos': 4466, 'dependemos': 4467, 'molestamos': 4468, 'dimos': 4469, 'crisis': 4470, 'teoria': 4471, 'visitas': 4472, 'tiros': 4473, 'topamos': 4474, 'acabamos': 4475, 'tren': 4476, 'partida': 4477, 'referimos': 4478, 'pasada': 4479, 'evacuar': 4480, 'sentarnos': 4481, 'avisarle': 4482, 'retirarnos': 4483, 'lider': 4484, 'regreses': 4485, 'apegados': 4486, 'encallados': 4487, 'estudiabamos': 4488, 'entusiasmados': 4489, 'tristes': 4490, 'rescatados': 4491, 'encontraremos': 4492, 'sabremos': 4493, 'notificaremos': 4494, 'pagaremos': 4495, 'hablaremos': 4496, 'companeros': 4497, 'historiadores': 4498, 'socorristas': 4499, 'rodeados': 4500, 'pelicula': 4501, 'bonita': 4502, 'larga': 4503, 'sentis': 4504, 'desgracia': 4505, 'apuro': 4506, 'mudarnos': 4507, 'aparcar': 4508, 'empiezo': 4509, 'aduana': 4510, 'cuchilla': 4511, 'resto': 4512, 'cartera': 4513, 'correcta': 4514, 'estropeo': 4515, 'asesinado': 4516, 'hamlet': 4517, 'invitarian': 4518, 'vienes': 4519, 'viniste': 4520, 'renunciaste': 4521, 'quedaste': 4522, 'paraste': 4523, 'gritaste': 4524, 'estudias': 4525, 'ayudaras': 4526, 'acompanais': 4527, 'uniras': 4528, 'abandonaste': 4529, 'escapar': 4530, 'lidias': 4531, 'mereces': 4532, 'golpearon': 4533, 'entendiste': 4534, 'pulsera': 4535, 'mami': 4536, 'diriges': 4537, 'defraudaste': 4538, 'atrasaste': 4539, 'lleves': 4540, 'equivoques': 4541, 'decirmelo': 4542, 'pasatiempo': 4543, 'lees': 4544, 'salvado': 4545, 'deberiais': 4546, 'empezar': 4547, 'estuviste': 4548, 'morireis': 4549, 'ajustaras': 4550, 'establecidas': 4551, 'necesitaras': 4552, 'aburres': 4553, 'despistado': 4554, 'impacientes': 4555, 'necesario': 4556, 'autoridad': 4557, 'practico': 4558, 'propietario': 4559, 'sabio': 4560, 'engordado': 4561, 'enrojecida': 4562, 'mutilo': 4563, 'torrencial': 4564, 'agrega': 4565, 'ajusta': 4566, 'frenos': 4567, 'iguales': 4568, 'molestando': 4569, 'unico': 4570, 'arresto': 4571, 'america': 4572, 'respondame': 4573, 'velas': 4574, 'americanos': 4575, 'japoneses': 4576, '¿salis': 4577, 'libres': 4578, 'creyente': 4579, 'chef': 4580, 'sincera': 4581, 'demas': 4582, 'comportate': 4583, 'construyen': 4584, 'nidos': 4585, 'profundamente': 4586, 'ambulancia': 4587, 'hospital': 4588, 'llamad': 4589, 'mordida': 4590, 'probarme': 4591, '¿todos': 4592, 'rentar': 4593, 'solas': 4594, '¿oyes': 4595, 'firmar': 4596, 'ocuparte': 4597, 'coger': 4598, 'lazo': 4599, 'despedir': 4600, 'champana': 4601, 'click': 4602, 'enlace': 4603, 'codificar': 4604, 'insisto': 4605, 'admitelo': 4606, 'aprisa': 4607, 'tocala': 4608, 'callarte': 4609, 'crimen': 4610, 'repartenos': 4611, 'naipes': 4612, 'inminente': 4613, 'defendeos': 4614, 'pases': 4615, 'vueltas': 4616, '¿desperte': 4617, 'desperte': 4618, '¿hirio': 4619, '¿beso': 4620, '¿conocia': 4621, '¿fracaso': 4622, 'zumo': 4623, '¿oiste': 4624, 'besado': 4625, '¿sabias': 4626, '¿viviste': 4627, 'habias': 4628, '¿las': 4629, 'hormigas': 4630, 'ries': 4631, 'mascota': 4632, 'latin': 4633, '¿necesitas': 4634, '¿necesita': 4635, 'rosa': 4636, '¿hueles': 4637, '¿entendiste': 4638, 'porque': 4639, '¿importa': 4640, 'cambies': 4641, 'decepciones': 4642, 'busques': 4643, 'fies': 4644, 'repitas': 4645, 'amenaces': 4646, 'despiertes': 4647, 'armas': 4648, 'terror': 4649, 'sobrevivieron': 4650, 'moriran': 4651, 'llene': 4652, 'formulario': 4653, 'cuelga': 4654, 'arrodillate': 4655, 'cuchara': 4656, 'seguida': 4657, 'largate': 4658, 'senores': 4659, 'noches': 4660, 'senoritas': 4661, 'consejera': 4662, 'heno': 4663, 'fiera': 4664, 'chantajeo': 4665, 'bloqueo': 4666, 'mejoro': 4667, 'tres': 4668, 'marrones': 4669, 'castano': 4670, 'remordimiento': 4671, 'casas': 4672, 'biologo': 4673, 'poeta': 4674, 'nato': 4675, 'temerario': 4676, 'verdadero': 4677, 'cientifico': 4678, 'influyente': 4679, 'introvertido': 4680, 'misma': 4681, 'fumador': 4682, 'enviar': 4683, 'texto': 4684, 'suicido': 4685, 'encima': 4686, 'osaka': 4687, 'reputacion': 4688, 'traslado': 4689, 'haber': 4690, 'pidio': 4691, 'posee': 4692, 'tierra': 4693, 'empujo': 4694, 'rehuso': 4695, 'marinero': 4696, 'sacudio': 4697, 'ruso': 4698, 'fosforo': 4699, 'exterior': 4700, 'vitaminas': 4701, 'decia': 4702, 'saco': 4703, 'foto': 4704, 'giro': 4705, 'convirtio': 4706, 'torcio': 4707, 'violo': 4708, 'sonrisas': 4709, 'encarcelado': 4710, 'encolerizado': 4711, 'volvera': 4712, 'usaba': 4713, 'pantalones': 4714, 'guiones': 4715, 'recuperara': 4716, 'conductor': 4717, 'periodista': 4718, 'ideal': 4719, 'sobreactuando': 4720, 'verdaderamente': 4721}\n"
          ],
          "name": "stdout"
        }
      ]
    },
    {
      "cell_type": "code",
      "metadata": {
        "id": "SIOau4qSyysW",
        "colab_type": "code",
        "colab": {}
      },
      "source": [
        "# !wget nlp.stanford.edu/data/glove.6B.zip"
      ],
      "execution_count": 0,
      "outputs": []
    },
    {
      "cell_type": "code",
      "metadata": {
        "id": "6AY8Hcoxy0IH",
        "colab_type": "code",
        "colab": {}
      },
      "source": [
        "# !unzip glove.6B.zip"
      ],
      "execution_count": 0,
      "outputs": []
    },
    {
      "cell_type": "code",
      "metadata": {
        "id": "HJGBOBBZy9Cu",
        "colab_type": "code",
        "colab": {}
      },
      "source": [
        "#Example from keras.io\n",
        "\n",
        "embeddings_dict = {}\n",
        "with open(\"glove.6B.50d.txt\", 'r') as f:\n",
        "    for line in f:\n",
        "        values = line.split()\n",
        "        word = values[0]\n",
        "        vector = np.asarray(values[1:], \"float32\")\n",
        "        embeddings_dict[word] = vector"
      ],
      "execution_count": 0,
      "outputs": []
    },
    {
      "cell_type": "code",
      "metadata": {
        "id": "DBc43xYGzXk8",
        "colab_type": "code",
        "colab": {}
      },
      "source": [
        "#Example from keras.io\n",
        "num_words = min(NUM_WORDS, len(Source_vocabulary) + 1)\n",
        "embedding_matrix = np.zeros((num_words, 50))\n",
        "for word, index in Source_vocabulary.items():\n",
        "    embedding_vector = embeddings_dict.get(word)\n",
        "    if embedding_vector is not None:\n",
        "        embedding_matrix[index] = embedding_vector"
      ],
      "execution_count": 0,
      "outputs": []
    },
    {
      "cell_type": "code",
      "metadata": {
        "id": "I7G4tGZwgVUW",
        "colab_type": "code",
        "outputId": "c1a45acd-35aa-4770-b7f1-fb362da930a5",
        "colab": {
          "base_uri": "https://localhost:8080/",
          "height": 182
        }
      },
      "source": [
        "print(embeddings_dict[list(embeddings_dict.keys())[0]])"
      ],
      "execution_count": 0,
      "outputs": [
        {
          "output_type": "stream",
          "text": [
            "[ 4.1800e-01  2.4968e-01 -4.1242e-01  1.2170e-01  3.4527e-01 -4.4457e-02\n",
            " -4.9688e-01 -1.7862e-01 -6.6023e-04 -6.5660e-01  2.7843e-01 -1.4767e-01\n",
            " -5.5677e-01  1.4658e-01 -9.5095e-03  1.1658e-02  1.0204e-01 -1.2792e-01\n",
            " -8.4430e-01 -1.2181e-01 -1.6801e-02 -3.3279e-01 -1.5520e-01 -2.3131e-01\n",
            " -1.9181e-01 -1.8823e+00 -7.6746e-01  9.9051e-02 -4.2125e-01 -1.9526e-01\n",
            "  4.0071e+00 -1.8594e-01 -5.2287e-01 -3.1681e-01  5.9213e-04  7.4449e-03\n",
            "  1.7778e-01 -1.5897e-01  1.2041e-02 -5.4223e-02 -2.9871e-01 -1.5749e-01\n",
            " -3.4758e-01 -4.5637e-02 -4.4251e-01  1.8785e-01  2.7849e-03 -1.8411e-01\n",
            " -1.1514e-01 -7.8581e-01]\n"
          ],
          "name": "stdout"
        }
      ]
    },
    {
      "cell_type": "markdown",
      "metadata": {
        "id": "2QfLgKEgazro",
        "colab_type": "text"
      },
      "source": [
        "## Section 2 Translation Model training\n",
        "\n",
        "\n",
        "\n",
        "---\n",
        "\n"
      ]
    },
    {
      "cell_type": "markdown",
      "metadata": {
        "id": "Y8WnlX8d0RVj",
        "colab_type": "text"
      },
      "source": [
        "**Task 4 (15 marks)**\n",
        "* Provide code for the encoder using Keras LSTM (5 marks)\n",
        "* Provide code for the decoder using Keras LSTM (5 marks)\n",
        "* Train the sequence2sequence (encoder-decoder) model (5 marks) \n"
      ]
    },
    {
      "cell_type": "code",
      "metadata": {
        "id": "F_sLH38o0BJq",
        "colab_type": "code",
        "colab": {}
      },
      "source": [
        "embedding_layer = tf.keras.layers.Embedding(num_words, 50, weights=[embedding_matrix], input_length=max_source_seq_length)"
      ],
      "execution_count": 0,
      "outputs": []
    },
    {
      "cell_type": "code",
      "metadata": {
        "id": "yM5vmuoMzsrF",
        "colab_type": "code",
        "colab": {}
      },
      "source": [
        "decoder_targets_one_hot = np.zeros((\n",
        "        len(source_sentences),\n",
        "        max_target_seq_length,\n",
        "        num_words_output\n",
        "    ),\n",
        "    dtype='float32'\n",
        ")"
      ],
      "execution_count": 0,
      "outputs": []
    },
    {
      "cell_type": "code",
      "metadata": {
        "id": "0rd6sJ9EE4QX",
        "colab_type": "code",
        "colab": {}
      },
      "source": [
        "# decoder_targets_one_hot = None\n",
        "# model = None\n",
        "# del decoder_targets_one_hot\n",
        "# del model\n",
        "# # del encoder_states\n",
        "# # del decoder_dense\n",
        "# import gc\n",
        "# gc.collect()"
      ],
      "execution_count": 0,
      "outputs": []
    },
    {
      "cell_type": "code",
      "metadata": {
        "id": "pZ9g_RH40_fj",
        "colab_type": "code",
        "outputId": "82298012-d5d1-430b-a3de-0d42d78c7458",
        "colab": {
          "base_uri": "https://localhost:8080/",
          "height": 35
        }
      },
      "source": [
        "decoder_targets_one_hot.shape"
      ],
      "execution_count": 0,
      "outputs": [
        {
          "output_type": "execute_result",
          "data": {
            "text/plain": [
              "(10000, 10, 4723)"
            ]
          },
          "metadata": {
            "tags": []
          },
          "execution_count": 29
        }
      ]
    },
    {
      "cell_type": "code",
      "metadata": {
        "id": "5CzfBj9O1FSM",
        "colab_type": "code",
        "colab": {}
      },
      "source": [
        "for i, d in enumerate(decoder_output_sequences):\n",
        "    for t, word in enumerate(d):\n",
        "        decoder_targets_one_hot[i, t, word] = 1"
      ],
      "execution_count": 0,
      "outputs": []
    },
    {
      "cell_type": "code",
      "metadata": {
        "id": "6UmRZxfZ1aYO",
        "colab_type": "code",
        "colab": {}
      },
      "source": [
        "encoder_placeholder = tf.keras.layers.Input(shape=(max_source_seq_length,),name='encoder_layer')\n",
        "layer_inp = embedding_layer(encoder_placeholder)\n",
        "encoder = tf.keras.layers.LSTM(256, return_state=True)\n",
        "\n",
        "encoder_outputs, h, c = encoder(layer_inp)\n",
        "encoder_states = [h, c]"
      ],
      "execution_count": 0,
      "outputs": []
    },
    {
      "cell_type": "code",
      "metadata": {
        "id": "erw3s9vI0scb",
        "colab_type": "code",
        "colab": {}
      },
      "source": [
        "# decoder code goes here\n",
        "\n",
        "decoder_placeholder = tf.keras.layers.Input(shape=(max_target_seq_length,),name='decoder_layer')\n",
        "\n",
        "decoder_embedding_layer = tf.keras.layers.Embedding(num_words_output, 256 )\n",
        "decoder_inp = decoder_embedding_layer(decoder_placeholder)\n",
        "\n",
        "\n",
        "decoder_lstm = tf.keras.layers.LSTM(256, return_sequences=True, return_state=True)\n",
        "decoder_outputs, _, _ = decoder_lstm(decoder_inp, initial_state=encoder_states)"
      ],
      "execution_count": 0,
      "outputs": []
    },
    {
      "cell_type": "code",
      "metadata": {
        "id": "qg7UJL821sVX",
        "colab_type": "code",
        "colab": {}
      },
      "source": [
        "decoder_dense = tf.keras.layers.Dense(num_words_output, activation='softmax')\n",
        "decoder_outputs = decoder_dense(decoder_outputs)"
      ],
      "execution_count": 0,
      "outputs": []
    },
    {
      "cell_type": "code",
      "metadata": {
        "id": "xe3hV0b00uJN",
        "colab_type": "code",
        "outputId": "7890986f-473e-46d2-8f85-5ec3f4788752",
        "colab": {
          "base_uri": "https://localhost:8080/",
          "height": 458
        }
      },
      "source": [
        "model =  tf.keras.models.Model([encoder_placeholder,decoder_placeholder], decoder_outputs)\n",
        "model.compile(optimizer='rmsprop',loss='categorical_crossentropy',metrics=['accuracy'])\n",
        "model.summary()"
      ],
      "execution_count": 0,
      "outputs": [
        {
          "output_type": "stream",
          "text": [
            "Model: \"model\"\n",
            "__________________________________________________________________________________________________\n",
            "Layer (type)                    Output Shape         Param #     Connected to                     \n",
            "==================================================================================================\n",
            "encoder_layer (InputLayer)      [(None, 5)]          0                                            \n",
            "__________________________________________________________________________________________________\n",
            "decoder_layer (InputLayer)      [(None, 10)]         0                                            \n",
            "__________________________________________________________________________________________________\n",
            "embedding (Embedding)           (None, 5, 50)        146400      encoder_layer[0][0]              \n",
            "__________________________________________________________________________________________________\n",
            "embedding_1 (Embedding)         (None, 10, 256)      1209088     decoder_layer[0][0]              \n",
            "__________________________________________________________________________________________________\n",
            "lstm (LSTM)                     [(None, 256), (None, 314368      embedding[0][0]                  \n",
            "__________________________________________________________________________________________________\n",
            "lstm_1 (LSTM)                   [(None, 10, 256), (N 525312      embedding_1[0][0]                \n",
            "                                                                 lstm[0][1]                       \n",
            "                                                                 lstm[0][2]                       \n",
            "__________________________________________________________________________________________________\n",
            "dense (Dense)                   (None, 10, 4723)     1213811     lstm_1[0][0]                     \n",
            "==================================================================================================\n",
            "Total params: 3,408,979\n",
            "Trainable params: 3,408,979\n",
            "Non-trainable params: 0\n",
            "__________________________________________________________________________________________________\n"
          ],
          "name": "stdout"
        }
      ]
    },
    {
      "cell_type": "code",
      "metadata": {
        "id": "9bwe6QRp2Rrc",
        "colab_type": "code",
        "colab": {}
      },
      "source": [
        "X_train = np.array(X_train)\n",
        "Y_train = np.array(Y_train)"
      ],
      "execution_count": 0,
      "outputs": []
    },
    {
      "cell_type": "code",
      "metadata": {
        "id": "ovWQs8KG09we",
        "colab_type": "code",
        "outputId": "4ee8987d-5806-4389-b400-9412e811834d",
        "colab": {
          "base_uri": "https://localhost:8080/",
          "height": 935
        }
      },
      "source": [
        "r = model.fit(\n",
        "    [encoder_input_sequences, decoder_input_sequences],\n",
        "    decoder_targets_one_hot,\n",
        "    batch_size=128,\n",
        "    epochs=25,\n",
        "    # initial_epochs=25,\n",
        "    validation_split=0.1,\n",
        ")  \n",
        "model.save('seq2seq_source_target.h5')"
      ],
      "execution_count": 0,
      "outputs": [
        {
          "output_type": "stream",
          "text": [
            "Epoch 1/25\n",
            "71/71 [==============================] - 4s 55ms/step - loss: 2.6368 - accuracy: 0.6420 - val_loss: 2.5133 - val_accuracy: 0.6679\n",
            "Epoch 2/25\n",
            "71/71 [==============================] - 3s 45ms/step - loss: 1.9529 - accuracy: 0.7185 - val_loss: 2.2895 - val_accuracy: 0.6865\n",
            "Epoch 3/25\n",
            "71/71 [==============================] - 3s 44ms/step - loss: 1.7547 - accuracy: 0.7359 - val_loss: 2.1367 - val_accuracy: 0.7049\n",
            "Epoch 4/25\n",
            "71/71 [==============================] - 3s 45ms/step - loss: 1.6050 - accuracy: 0.7506 - val_loss: 2.0530 - val_accuracy: 0.7155\n",
            "Epoch 5/25\n",
            "71/71 [==============================] - 3s 44ms/step - loss: 1.4837 - accuracy: 0.7631 - val_loss: 1.9649 - val_accuracy: 0.7247\n",
            "Epoch 6/25\n",
            "71/71 [==============================] - 3s 44ms/step - loss: 1.3806 - accuracy: 0.7748 - val_loss: 1.9104 - val_accuracy: 0.7295\n",
            "Epoch 7/25\n",
            "71/71 [==============================] - 3s 44ms/step - loss: 1.2944 - accuracy: 0.7843 - val_loss: 1.8801 - val_accuracy: 0.7389\n",
            "Epoch 8/25\n",
            "71/71 [==============================] - 3s 44ms/step - loss: 1.2126 - accuracy: 0.7918 - val_loss: 1.8202 - val_accuracy: 0.7459\n",
            "Epoch 9/25\n",
            "71/71 [==============================] - 3s 44ms/step - loss: 1.1415 - accuracy: 0.8002 - val_loss: 1.7579 - val_accuracy: 0.7540\n",
            "Epoch 10/25\n",
            "71/71 [==============================] - 3s 44ms/step - loss: 1.0768 - accuracy: 0.8078 - val_loss: 1.7166 - val_accuracy: 0.7572\n",
            "Epoch 11/25\n",
            "71/71 [==============================] - 3s 44ms/step - loss: 1.0107 - accuracy: 0.8149 - val_loss: 1.6926 - val_accuracy: 0.7610\n",
            "Epoch 12/25\n",
            "71/71 [==============================] - 3s 44ms/step - loss: 0.9523 - accuracy: 0.8226 - val_loss: 1.6667 - val_accuracy: 0.7634\n",
            "Epoch 13/25\n",
            "71/71 [==============================] - 3s 44ms/step - loss: 0.8963 - accuracy: 0.8304 - val_loss: 1.6697 - val_accuracy: 0.7653\n",
            "Epoch 14/25\n",
            "71/71 [==============================] - 3s 44ms/step - loss: 0.8457 - accuracy: 0.8376 - val_loss: 1.6509 - val_accuracy: 0.7701\n",
            "Epoch 15/25\n",
            "71/71 [==============================] - 3s 44ms/step - loss: 0.7971 - accuracy: 0.8457 - val_loss: 1.6263 - val_accuracy: 0.7695\n",
            "Epoch 16/25\n",
            "71/71 [==============================] - 3s 44ms/step - loss: 0.7464 - accuracy: 0.8530 - val_loss: 1.6177 - val_accuracy: 0.7723\n",
            "Epoch 17/25\n",
            "71/71 [==============================] - 3s 44ms/step - loss: 0.7018 - accuracy: 0.8605 - val_loss: 1.6037 - val_accuracy: 0.7765\n",
            "Epoch 18/25\n",
            "71/71 [==============================] - 3s 44ms/step - loss: 0.6594 - accuracy: 0.8678 - val_loss: 1.5931 - val_accuracy: 0.7747\n",
            "Epoch 19/25\n",
            "71/71 [==============================] - 3s 44ms/step - loss: 0.6172 - accuracy: 0.8756 - val_loss: 1.5910 - val_accuracy: 0.7781\n",
            "Epoch 20/25\n",
            "71/71 [==============================] - 3s 44ms/step - loss: 0.5773 - accuracy: 0.8836 - val_loss: 1.5837 - val_accuracy: 0.7783\n",
            "Epoch 21/25\n",
            "71/71 [==============================] - 3s 44ms/step - loss: 0.5393 - accuracy: 0.8908 - val_loss: 1.5891 - val_accuracy: 0.7768\n",
            "Epoch 22/25\n",
            "71/71 [==============================] - 3s 44ms/step - loss: 0.5028 - accuracy: 0.8979 - val_loss: 1.5726 - val_accuracy: 0.7778\n",
            "Epoch 23/25\n",
            "71/71 [==============================] - 3s 44ms/step - loss: 0.4709 - accuracy: 0.9048 - val_loss: 1.5797 - val_accuracy: 0.7759\n",
            "Epoch 24/25\n",
            "71/71 [==============================] - 3s 44ms/step - loss: 0.4382 - accuracy: 0.9131 - val_loss: 1.5776 - val_accuracy: 0.7784\n",
            "Epoch 25/25\n",
            "71/71 [==============================] - 3s 44ms/step - loss: 0.4098 - accuracy: 0.9193 - val_loss: 1.5770 - val_accuracy: 0.7792\n"
          ],
          "name": "stdout"
        }
      ]
    },
    {
      "cell_type": "markdown",
      "metadata": {
        "id": "0Sy_WCp31x79",
        "colab_type": "text"
      },
      "source": [
        "## Section 3 Testing\n",
        "\n",
        "---\n",
        "\n",
        "**Task 5 (20 marks)**\n",
        "\n",
        "* Use the trained model to translate the text from the source into the target language (10 marks). \n",
        "* Use the test/evaluation set (see Section 1) and perform an automatic evaluation with the BLEU metric (10 marks). \n",
        "You can use the NLTK library to calculate BLEU."
      ]
    },
    {
      "cell_type": "code",
      "metadata": {
        "id": "lXg4Nacd253k",
        "colab_type": "code",
        "colab": {}
      },
      "source": [
        ""
      ],
      "execution_count": 0,
      "outputs": []
    },
    {
      "cell_type": "code",
      "metadata": {
        "id": "erqHiiTwngUg",
        "colab_type": "code",
        "colab": {}
      },
      "source": [
        "encoder_model = tf.keras.models.Model(encoder_placeholder, encoder_states)"
      ],
      "execution_count": 0,
      "outputs": []
    },
    {
      "cell_type": "code",
      "metadata": {
        "id": "F-au5PlSrufB",
        "colab_type": "code",
        "colab": {}
      },
      "source": [
        "decoder_h = tf.keras.layers.Input(shape=(256,))\n",
        "decoder_c = tf.keras.layers.Input(shape=(256,))\n",
        "decoder_states_inputs = [decoder_h, decoder_c]"
      ],
      "execution_count": 0,
      "outputs": []
    },
    {
      "cell_type": "code",
      "metadata": {
        "id": "soJq6PnKrwYV",
        "colab_type": "code",
        "colab": {}
      },
      "source": [
        "decoder_inputs_single = tf.keras.layers.Input(shape=(1,))\n",
        "decoder_inputs_single_x = decoder_embedding_layer(decoder_inputs_single)"
      ],
      "execution_count": 0,
      "outputs": []
    },
    {
      "cell_type": "code",
      "metadata": {
        "id": "H1Xyvq_HryOX",
        "colab_type": "code",
        "colab": {}
      },
      "source": [
        "decoder_outputs, h, c = decoder_lstm(decoder_inputs_single_x, initial_state=decoder_states_inputs)"
      ],
      "execution_count": 0,
      "outputs": []
    },
    {
      "cell_type": "code",
      "metadata": {
        "id": "UBhOxFjGrz2Z",
        "colab_type": "code",
        "colab": {}
      },
      "source": [
        "decoder_states = [h, c]\n",
        "decoder_outputs = decoder_dense(decoder_outputs)"
      ],
      "execution_count": 0,
      "outputs": []
    },
    {
      "cell_type": "code",
      "metadata": {
        "id": "Xs8YoXLkr2Q8",
        "colab_type": "code",
        "colab": {}
      },
      "source": [
        "decoder_model = tf.keras.models.Model(\n",
        "    [decoder_inputs_single] + decoder_states_inputs,\n",
        "    [decoder_outputs] + decoder_states\n",
        ")"
      ],
      "execution_count": 0,
      "outputs": []
    },
    {
      "cell_type": "code",
      "metadata": {
        "id": "OU4xovlfr4TX",
        "colab_type": "code",
        "colab": {}
      },
      "source": [
        "idx2word_input = {v:k for k, v in Source_vocabulary.items()}\n",
        "idx2word_target = {v:k for k, v in target_vocabulary.items()}"
      ],
      "execution_count": 0,
      "outputs": []
    },
    {
      "cell_type": "code",
      "metadata": {
        "id": "oz9TvlLZr7g4",
        "colab_type": "code",
        "colab": {}
      },
      "source": [
        "def translate(sequence):\n",
        "    states_value = encoder_model.predict(sequence)\n",
        "    target_seq = np.zeros((1, 1))\n",
        "    target_seq[0, 0] = target_vocabulary['<bof>']\n",
        "    eos = target_vocabulary['<eos>']\n",
        "    output_sentence = []\n",
        "\n",
        "    for _ in range(max_target_seq_length):\n",
        "        output_tokens, h, c = decoder_model.predict([target_seq] + states_value)\n",
        "        idx = np.argmax(output_tokens[0, 0, :])\n",
        "\n",
        "        if eos == idx:\n",
        "            break\n",
        "\n",
        "        word = ''\n",
        "\n",
        "        if idx > 0:\n",
        "            word = idx2word_target[idx]\n",
        "            output_sentence.append(word)\n",
        "\n",
        "        target_seq[0, 0] = idx\n",
        "        states_value = [h, c]\n",
        "\n",
        "    return ' '.join(output_sentence)"
      ],
      "execution_count": 0,
      "outputs": []
    },
    {
      "cell_type": "code",
      "metadata": {
        "id": "_5eXvYMs4p23",
        "colab_type": "code",
        "outputId": "ed960c2f-e2d8-4b43-cf1a-a06b4a097de2",
        "colab": {
          "base_uri": "https://localhost:8080/",
          "height": 54
        }
      },
      "source": [
        "# i = np.random.choice(len(source_sentences))\n",
        "i  = 7926\n",
        "input_seq = encoder_input_sequences[i:i+1]\n",
        "translation = translate(input_seq)\n",
        "print( source_sentences[i])\n",
        "print( translation)"
      ],
      "execution_count": 0,
      "outputs": [
        {
          "output_type": "stream",
          "text": [
            "i feel so lonely\n",
            "me siento tan tan mal\n"
          ],
          "name": "stdout"
        }
      ]
    },
    {
      "cell_type": "code",
      "metadata": {
        "id": "m6Nlk07y-shP",
        "colab_type": "code",
        "outputId": "ddb7be08-b647-4b89-f8c8-4787813dec0e",
        "colab": {
          "base_uri": "https://localhost:8080/",
          "height": 35
        }
      },
      "source": [
        "reference = target_sentences[i].split()\n",
        "hypothesis = translation.split()\n",
        "reference = reference[:-1]\n",
        "print(reference,hypothesis)"
      ],
      "execution_count": 0,
      "outputs": [
        {
          "output_type": "stream",
          "text": [
            "['me', 'siento', 'tan', 'sola'] ['me', 'siento', 'tan', 'tan', 'mal']\n"
          ],
          "name": "stdout"
        }
      ]
    },
    {
      "cell_type": "code",
      "metadata": {
        "id": "ef0WiHep-WyJ",
        "colab_type": "code",
        "colab": {}
      },
      "source": [
        "import nltk\n",
        "from nltk.translate.bleu_score import SmoothingFunction\n",
        "smoothing = SmoothingFunction().method4"
      ],
      "execution_count": 0,
      "outputs": []
    },
    {
      "cell_type": "code",
      "metadata": {
        "id": "_AOQt0KC-oRW",
        "colab_type": "code",
        "colab": {}
      },
      "source": [
        "def get_bleu(reference,hyp):\n",
        "    try:\n",
        "        return nltk.translate.bleu_score.sentence_bleu([reference], hyp,smoothing_function = smoothing,weights=(0.35,0.35,0.20,0.10))\n",
        "    except:\n",
        "        print(\"Zero\" , reference ,hyp)\n",
        "        return 0\n"
      ],
      "execution_count": 0,
      "outputs": []
    },
    {
      "cell_type": "code",
      "metadata": {
        "id": "vXH5CiJJgBpS",
        "colab_type": "code",
        "outputId": "fe7cb920-5f02-49ce-e87b-980788df4043",
        "colab": {
          "base_uri": "https://localhost:8080/",
          "height": 35
        }
      },
      "source": [
        "get_bleu(reference,hypothesis)"
      ],
      "execution_count": 0,
      "outputs": [
        {
          "output_type": "execute_result",
          "data": {
            "text/plain": [
              "0.43952917693277554"
            ]
          },
          "metadata": {
            "tags": []
          },
          "execution_count": 49
        }
      ]
    },
    {
      "cell_type": "code",
      "metadata": {
        "id": "yzj4i_OqRax1",
        "colab_type": "code",
        "colab": {}
      },
      "source": [
        "_inp = encoder_input_sequences.tolist()"
      ],
      "execution_count": 0,
      "outputs": []
    },
    {
      "cell_type": "code",
      "metadata": {
        "id": "CQYwd7vuRhfw",
        "colab_type": "code",
        "colab": {}
      },
      "source": [
        "X_test = X_test[:200]"
      ],
      "execution_count": 0,
      "outputs": []
    },
    {
      "cell_type": "code",
      "metadata": {
        "id": "TzcD-Cu-TCeQ",
        "colab_type": "code",
        "colab": {}
      },
      "source": [
        "bleu_scores = list()"
      ],
      "execution_count": 0,
      "outputs": []
    },
    {
      "cell_type": "code",
      "metadata": {
        "id": "-EzWGxPuRn_8",
        "colab_type": "code",
        "outputId": "3aa046df-bea5-4820-9c52-8d143dc27335",
        "colab": {
          "base_uri": "https://localhost:8080/",
          "height": 72
        }
      },
      "source": [
        "for _i,x in enumerate(X_test):\n",
        "    # print(_i)\n",
        "    idx = _inp.index(x.tolist())\n",
        "    # print(input_sentences[idx],output_sentences[idx] )\n",
        "    seq = encoder_input_sequences[idx:idx+1] \n",
        "    # print(seq)\n",
        "    # print(seq)\n",
        "    translation = translate(seq)\n",
        "    # print('-')\n",
        "    \n",
        "    reference = target_sentences[idx].split()\n",
        "    hypothesis = translation.split()\n",
        "    \n",
        "    reference = reference[:-1]\n",
        "    _score = get_bleu(reference,hypothesis)\n",
        "    bleu_scores.append( _score )\n",
        "    # print(_i , _score)"
      ],
      "execution_count": 0,
      "outputs": [
        {
          "output_type": "stream",
          "text": [
            "Zero ['fuego'] ['fuego']\n",
            "Zero ['gracias'] ['gracias']\n",
            "Zero ['dejalo'] ['dejalo']\n"
          ],
          "name": "stdout"
        }
      ]
    },
    {
      "cell_type": "code",
      "metadata": {
        "id": "s9xe9GdPUdF6",
        "colab_type": "code",
        "outputId": "58485545-edd3-40b4-b93b-8b9cee7ed575",
        "colab": {
          "base_uri": "https://localhost:8080/",
          "height": 35
        }
      },
      "source": [
        "_bleu_scores = np.array(bleu_scores)\n",
        "print(\"Avg Score: \"  ,_bleu_scores.mean() )"
      ],
      "execution_count": 0,
      "outputs": [
        {
          "output_type": "stream",
          "text": [
            "Avg Score:  0.4369088722478014\n"
          ],
          "name": "stdout"
        }
      ]
    },
    {
      "cell_type": "markdown",
      "metadata": {
        "id": "wb4F1-a00Hw6",
        "colab_type": "text"
      },
      "source": [
        "# Section 4 Attention\n",
        "\n",
        "---\n",
        "\n"
      ]
    },
    {
      "cell_type": "code",
      "metadata": {
        "id": "61IlBoPlRf7V",
        "colab_type": "code",
        "outputId": "00a1e0eb-6ced-43b0-ada1-11bd3b40f3df",
        "colab": {
          "base_uri": "https://localhost:8080/",
          "height": 35
        }
      },
      "source": [
        "tf.keras.backend.clear_session()\n",
        "# del model\n",
        "import gc\n",
        "gc.collect()"
      ],
      "execution_count": 0,
      "outputs": [
        {
          "output_type": "execute_result",
          "data": {
            "text/plain": [
              "41509"
            ]
          },
          "metadata": {
            "tags": []
          },
          "execution_count": 55
        }
      ]
    },
    {
      "cell_type": "markdown",
      "metadata": {
        "id": "6XTD-fCC1yUA",
        "colab_type": "text"
      },
      "source": [
        "**Task 5 (40 Marks)** Sequence2Sequence\n",
        "\n",
        "* Extend the existing Seq2Seq model with an attention mechanism [Discussed in Class]\n",
        "* Create sequence2sequence model with attention (15 marks)\n",
        "* Train the model with the same data from Section 1 (10 marks)\n",
        "* Translate the evaluation set using the sequence2sequence attention model (10 marks)\n",
        "* Evaluate the translations made with the sequence2sequence attention model and compare it with the model without attention using BLEU (5 marks)"
      ]
    },
    {
      "cell_type": "code",
      "metadata": {
        "id": "iuYZAK9Tf4By",
        "colab_type": "code",
        "outputId": "67c65659-82d5-4db0-d6e5-47a758a590bf",
        "colab": {
          "base_uri": "https://localhost:8080/",
          "height": 35
        }
      },
      "source": [
        "#example from tensorfow.org\n",
        "\n",
        "embedding_size = 50\n",
        "enc_input = tf.keras.layers.Input(shape=(max_source_seq_length,))\n",
        "encoder = tf.keras.layers.Embedding(num_words, embedding_size, weights= [embedding_matrix], trainable=False)(enc_input)\n",
        "encoder = tf.keras.layers.LSTM(256, return_sequences=True, unroll=True )(encoder)\n",
        "encoder_last_layer = encoder[:,-1,:]"
      ],
      "execution_count": 0,
      "outputs": [
        {
          "output_type": "stream",
          "text": [
            "WARNING:tensorflow:Layer lstm will not use cuDNN kernel since it doesn't meet the cuDNN kernel criteria. It will use generic GPU kernel as fallback when running on GPU\n"
          ],
          "name": "stdout"
        }
      ]
    },
    {
      "cell_type": "code",
      "metadata": {
        "id": "n-ukUT1qjCqm",
        "colab_type": "code",
        "outputId": "923bcb07-f8aa-401a-ea47-08b375b1c1df",
        "colab": {
          "base_uri": "https://localhost:8080/",
          "height": 35
        }
      },
      "source": [
        "dec_inp = tf.keras.layers.Input(shape=(max_target_seq_length,))\n",
        "decoder = tf.keras.layers.Embedding(num_words_output, embedding_size)(dec_inp)\n",
        "decoder = tf.keras.layers.LSTM(256, return_sequences=True, unroll=True)(decoder, initial_state=[encoder_last_layer,encoder_last_layer])"
      ],
      "execution_count": 0,
      "outputs": [
        {
          "output_type": "stream",
          "text": [
            "WARNING:tensorflow:Layer lstm_1 will not use cuDNN kernel since it doesn't meet the cuDNN kernel criteria. It will use generic GPU kernel as fallback when running on GPU\n"
          ],
          "name": "stdout"
        }
      ]
    },
    {
      "cell_type": "code",
      "metadata": {
        "id": "zSm8jkrqjFPY",
        "colab_type": "code",
        "colab": {}
      },
      "source": [
        "attention = tf.keras.layers.dot([decoder, encoder], axes=[2, 2])\n",
        "attention = tf.keras.layers.Activation('softmax', name='attention')(attention)\n",
        "\n",
        "context = tf.keras.layers.dot([attention, encoder], axes=[2,1])\n",
        "\n",
        "decoder_combined_context = tf.keras.layers.concatenate([context, decoder])\n",
        "\n",
        "output = tf.keras.layers.TimeDistributed(tf.keras.layers.Dense(64, activation=\"tanh\"))(decoder_combined_context)\n",
        "output = tf.keras.layers.TimeDistributed(tf.keras.layers.Dense(num_words_output, activation=\"softmax\"))(output)"
      ],
      "execution_count": 0,
      "outputs": []
    },
    {
      "cell_type": "code",
      "metadata": {
        "id": "cddDQ4923cPY",
        "colab_type": "code",
        "outputId": "44869ef3-18c4-4385-a1a1-766d12906682",
        "colab": {
          "base_uri": "https://localhost:8080/",
          "height": 697
        }
      },
      "source": [
        "model = tf.keras.models.Model(inputs =[enc_input, dec_inp], outputs =[output])\n",
        "model.compile(optimizer='rmsprop', loss='categorical_crossentropy', metrics=['acc'])\n",
        "model.summary()"
      ],
      "execution_count": 0,
      "outputs": [
        {
          "output_type": "stream",
          "text": [
            "Model: \"model\"\n",
            "__________________________________________________________________________________________________\n",
            "Layer (type)                    Output Shape         Param #     Connected to                     \n",
            "==================================================================================================\n",
            "input_1 (InputLayer)            [(None, 5)]          0                                            \n",
            "__________________________________________________________________________________________________\n",
            "embedding (Embedding)           (None, 5, 50)        146400      input_1[0][0]                    \n",
            "__________________________________________________________________________________________________\n",
            "input_2 (InputLayer)            [(None, 10)]         0                                            \n",
            "__________________________________________________________________________________________________\n",
            "lstm (LSTM)                     (None, 5, 256)       314368      embedding[0][0]                  \n",
            "__________________________________________________________________________________________________\n",
            "embedding_1 (Embedding)         (None, 10, 50)       236150      input_2[0][0]                    \n",
            "__________________________________________________________________________________________________\n",
            "tf_op_layer_strided_slice (Tens [(None, 256)]        0           lstm[0][0]                       \n",
            "__________________________________________________________________________________________________\n",
            "lstm_1 (LSTM)                   (None, 10, 256)      314368      embedding_1[0][0]                \n",
            "__________________________________________________________________________________________________\n",
            "dot (Dot)                       (None, 10, 5)        0           lstm_1[0][0]                     \n",
            "                                                                 lstm[0][0]                       \n",
            "__________________________________________________________________________________________________\n",
            "attention (Activation)          (None, 10, 5)        0           dot[0][0]                        \n",
            "__________________________________________________________________________________________________\n",
            "dot_1 (Dot)                     (None, 10, 256)      0           attention[0][0]                  \n",
            "                                                                 lstm[0][0]                       \n",
            "__________________________________________________________________________________________________\n",
            "concatenate (Concatenate)       (None, 10, 512)      0           dot_1[0][0]                      \n",
            "                                                                 lstm_1[0][0]                     \n",
            "__________________________________________________________________________________________________\n",
            "time_distributed (TimeDistribut (None, 10, 64)       32832       concatenate[0][0]                \n",
            "__________________________________________________________________________________________________\n",
            "time_distributed_1 (TimeDistrib (None, 10, 4723)     306995      time_distributed[0][0]           \n",
            "==================================================================================================\n",
            "Total params: 1,351,113\n",
            "Trainable params: 1,204,713\n",
            "Non-trainable params: 146,400\n",
            "__________________________________________________________________________________________________\n"
          ],
          "name": "stdout"
        }
      ]
    },
    {
      "cell_type": "code",
      "metadata": {
        "id": "ONIdgkkThn1H",
        "colab_type": "code",
        "outputId": "6063cb92-025a-46ab-b3f2-cf0121bcdefe",
        "colab": {
          "base_uri": "https://localhost:8080/",
          "height": 935
        }
      },
      "source": [
        "model.fit(\n",
        "    [encoder_input_sequences, decoder_input_sequences],\n",
        "    decoder_targets_one_hot,\n",
        "    batch_size=256,\n",
        "    epochs=25,\n",
        "    #initial_epochs=15,\n",
        "    validation_split=0.1\n",
        ")  \n",
        "model.save('seq2seq_source_target_attention.h5')"
      ],
      "execution_count": 0,
      "outputs": [
        {
          "output_type": "stream",
          "text": [
            "Epoch 1/25\n",
            "36/36 [==============================] - 2s 62ms/step - loss: 5.4128 - acc: 0.5825 - val_loss: 4.0106 - val_acc: 0.5486\n",
            "Epoch 2/25\n",
            "36/36 [==============================] - 2s 52ms/step - loss: 3.1344 - acc: 0.5993 - val_loss: 3.0672 - val_acc: 0.5486\n",
            "Epoch 3/25\n",
            "36/36 [==============================] - 2s 52ms/step - loss: 2.5240 - acc: 0.5993 - val_loss: 2.7931 - val_acc: 0.5486\n",
            "Epoch 4/25\n",
            "36/36 [==============================] - 2s 52ms/step - loss: 2.2617 - acc: 0.6497 - val_loss: 2.5609 - val_acc: 0.6436\n",
            "Epoch 5/25\n",
            "36/36 [==============================] - 2s 52ms/step - loss: 2.0736 - acc: 0.6995 - val_loss: 2.4886 - val_acc: 0.6511\n",
            "Epoch 6/25\n",
            "36/36 [==============================] - 2s 51ms/step - loss: 1.9618 - acc: 0.7149 - val_loss: 2.3871 - val_acc: 0.6808\n",
            "Epoch 7/25\n",
            "36/36 [==============================] - 2s 52ms/step - loss: 1.8926 - acc: 0.7220 - val_loss: 2.3380 - val_acc: 0.6825\n",
            "Epoch 8/25\n",
            "36/36 [==============================] - 2s 51ms/step - loss: 1.8268 - acc: 0.7254 - val_loss: 2.3138 - val_acc: 0.6847\n",
            "Epoch 9/25\n",
            "36/36 [==============================] - 2s 53ms/step - loss: 1.7763 - acc: 0.7293 - val_loss: 2.2922 - val_acc: 0.6814\n",
            "Epoch 10/25\n",
            "36/36 [==============================] - 2s 52ms/step - loss: 1.7340 - acc: 0.7341 - val_loss: 2.2484 - val_acc: 0.6976\n",
            "Epoch 11/25\n",
            "36/36 [==============================] - 2s 52ms/step - loss: 1.6925 - acc: 0.7370 - val_loss: 2.2344 - val_acc: 0.6963\n",
            "Epoch 12/25\n",
            "36/36 [==============================] - 2s 52ms/step - loss: 1.6565 - acc: 0.7414 - val_loss: 2.2509 - val_acc: 0.7009\n",
            "Epoch 13/25\n",
            "36/36 [==============================] - 2s 52ms/step - loss: 1.6203 - acc: 0.7457 - val_loss: 2.1934 - val_acc: 0.7060\n",
            "Epoch 14/25\n",
            "36/36 [==============================] - 2s 52ms/step - loss: 1.5843 - acc: 0.7493 - val_loss: 2.1504 - val_acc: 0.7083\n",
            "Epoch 15/25\n",
            "36/36 [==============================] - 2s 53ms/step - loss: 1.5510 - acc: 0.7521 - val_loss: 2.1474 - val_acc: 0.7109\n",
            "Epoch 16/25\n",
            "36/36 [==============================] - 2s 52ms/step - loss: 1.5164 - acc: 0.7558 - val_loss: 2.1375 - val_acc: 0.7096\n",
            "Epoch 17/25\n",
            "36/36 [==============================] - 2s 53ms/step - loss: 1.4837 - acc: 0.7593 - val_loss: 2.1237 - val_acc: 0.7126\n",
            "Epoch 18/25\n",
            "36/36 [==============================] - 2s 52ms/step - loss: 1.4518 - acc: 0.7626 - val_loss: 2.0901 - val_acc: 0.7152\n",
            "Epoch 19/25\n",
            "36/36 [==============================] - 2s 52ms/step - loss: 1.4192 - acc: 0.7663 - val_loss: 2.0719 - val_acc: 0.7178\n",
            "Epoch 20/25\n",
            "36/36 [==============================] - 2s 52ms/step - loss: 1.3953 - acc: 0.7706 - val_loss: 2.0317 - val_acc: 0.7217\n",
            "Epoch 21/25\n",
            "36/36 [==============================] - 2s 52ms/step - loss: 1.3709 - acc: 0.7736 - val_loss: 2.0351 - val_acc: 0.7222\n",
            "Epoch 22/25\n",
            "36/36 [==============================] - 2s 52ms/step - loss: 1.3453 - acc: 0.7765 - val_loss: 2.0499 - val_acc: 0.7200\n",
            "Epoch 23/25\n",
            "36/36 [==============================] - 2s 53ms/step - loss: 1.3161 - acc: 0.7796 - val_loss: 2.0215 - val_acc: 0.7246\n",
            "Epoch 24/25\n",
            "36/36 [==============================] - 2s 51ms/step - loss: 1.2960 - acc: 0.7820 - val_loss: 1.9984 - val_acc: 0.7295\n",
            "Epoch 25/25\n",
            "36/36 [==============================] - 2s 51ms/step - loss: 1.2731 - acc: 0.7840 - val_loss: 1.9611 - val_acc: 0.7320\n"
          ],
          "name": "stdout"
        }
      ]
    },
    {
      "cell_type": "code",
      "metadata": {
        "id": "JMg807-Vhume",
        "colab_type": "code",
        "colab": {}
      },
      "source": [
        "def translate_attention(seq):\n",
        "    decoder_input = np.ones(shape=(seq.shape[0], max_target_seq_length))\n",
        "    # decoder_input = np.ones(shape=(seq.shape[0], max_target_seq_length))\n",
        "    decoder_input[:,0] = target_vocabulary['<bof>']\n",
        "    for i in range(1, max_target_seq_length):\n",
        "        output_ = model.predict([seq , decoder_input]).argmax(axis=2)\n",
        "        decoder_input[:,i] = output_[:,i]\n",
        "    decoder_output = decoder_input[:,1:]\n",
        "    # print(decoder_input)\n",
        "    decoder_output = np.array(decoder_output,dtype=int)\n",
        "    sequence = decoder_output[0]\n",
        "    text = ''\n",
        "    for i in sequence:\n",
        "        if i == 0:\n",
        "            continue\n",
        "        if idx2word_target[i] == '<eos>':\n",
        "            break\n",
        "        else:\n",
        "            text += ' ' + idx2word_target[i]\n",
        "    return text.strip().rstrip()"
      ],
      "execution_count": 0,
      "outputs": []
    },
    {
      "cell_type": "code",
      "metadata": {
        "id": "jURvJi7Tp8Om",
        "colab_type": "code",
        "outputId": "316638ce-f69d-4f4d-8fd1-899d09db4190",
        "colab": {
          "base_uri": "https://localhost:8080/",
          "height": 72
        }
      },
      "source": [
        "# print(encode(input_seq))\n",
        "i = 0\n",
        "input_seq = encoder_input_sequences[i:i+1] \n",
        "\n",
        "trans = translate_attention(input_seq)\n",
        "print(trans)\n",
        "print(target_sentences[i], source_sentences[i])\n",
        "reference = target_sentences[i]\n",
        "reference = reference[:-1]\n",
        "print(get_bleu(trans , reference))"
      ],
      "execution_count": 0,
      "outputs": [
        {
          "output_type": "stream",
          "text": [
            "\n",
            "ve <eos> go\n",
            "0\n"
          ],
          "name": "stdout"
        }
      ]
    },
    {
      "cell_type": "code",
      "metadata": {
        "id": "Wq95vqaJJQKx",
        "colab_type": "code",
        "colab": {}
      },
      "source": [
        "bleu_scores_att = list()"
      ],
      "execution_count": 0,
      "outputs": []
    },
    {
      "cell_type": "code",
      "metadata": {
        "id": "Air7LzDLqZET",
        "colab_type": "code",
        "colab": {}
      },
      "source": [
        "for _i,x in enumerate(X_test):\n",
        "    idx = _inp.index(x.tolist())\n",
        "\n",
        "    seq = encoder_input_sequences[idx:idx+1]\n",
        "    translation = translate_attention(seq)\n",
        "    # print('-')\n",
        "    reference = target_sentences[idx].split()\n",
        "    hypothesis = translation.split()\n",
        "    reference = reference[:-1]\n",
        "    _score = get_bleu(reference,hypothesis)\n",
        " \n",
        "    bleu_scores_att.append( _score )\n"
      ],
      "execution_count": 0,
      "outputs": []
    },
    {
      "cell_type": "code",
      "metadata": {
        "id": "fDrvWISz2ESd",
        "colab_type": "code",
        "outputId": "96b687ab-73cf-4f5e-d51c-5f9129fd4ba8",
        "colab": {
          "base_uri": "https://localhost:8080/",
          "height": 35
        }
      },
      "source": [
        "_bleu_scores_att = np.array(bleu_scores_att)\n",
        "print(\"Avg after Attention : \", _bleu_scores_att.mean() )"
      ],
      "execution_count": 0,
      "outputs": [
        {
          "output_type": "stream",
          "text": [
            "Avg after Attention :  0.04200939572714086\n"
          ],
          "name": "stdout"
        }
      ]
    },
    {
      "cell_type": "code",
      "metadata": {
        "id": "g5F0Yk7AKXZ3",
        "colab_type": "code",
        "colab": {}
      },
      "source": [
        "import matplotlib.pyplot as plot"
      ],
      "execution_count": 0,
      "outputs": []
    },
    {
      "cell_type": "code",
      "metadata": {
        "id": "MDcfv74oMW9t",
        "colab_type": "code",
        "outputId": "c0aec473-8eaa-461c-f108-45b0e4848b11",
        "colab": {
          "base_uri": "https://localhost:8080/",
          "height": 446
        }
      },
      "source": [
        "f, ax = plot.subplots(figsize=(10, 7))\n",
        "ax.plot(_bleu_scores_att,color='blue',label='With Attention' )\n",
        "ax.plot(_bleu_scores, color='red' , label='Base Model')\n",
        "ax.legend()"
      ],
      "execution_count": 0,
      "outputs": [
        {
          "output_type": "execute_result",
          "data": {
            "text/plain": [
              "<matplotlib.legend.Legend at 0x7f965666fc88>"
            ]
          },
          "metadata": {
            "tags": []
          },
          "execution_count": 78
        },
        {
          "output_type": "display_data",
          "data": {
            "image/png": "[encoded data removed]",
            "text/plain": [
              "<Figure size 720x504 with 1 Axes>"
            ]
          },
          "metadata": {
            "tags": [],
            "needs_background": "light"
          }
        }
      ]
    },
    {
      "cell_type": "code",
      "metadata": {
        "id": "N-cXLcmGMbrv",
        "colab_type": "code",
        "colab": {}
      },
      "source": [
        ""
      ],
      "execution_count": 0,
      "outputs": []
    },
    {
      "cell_type": "markdown",
      "metadata": {
        "id": "hCv64E1SBLQJ",
        "colab_type": "text"
      },
      "source": [
        "# ***References***\n",
        "\n",
        "\n",
        "1.   http://keras.io\n",
        "2.   https://www.tensorflow.org/tutorials/text/nmt_with_attention\n",
        "\n",
        "\n"
      ]
    }
  ]
}